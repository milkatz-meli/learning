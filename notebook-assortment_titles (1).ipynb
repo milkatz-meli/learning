{
 "cells": [
  {
   "cell_type": "code",
   "execution_count": 1,
   "id": "430b2ade",
   "metadata": {
    "collapsed": true,
    "jupyter": {
     "outputs_hidden": true
    }
   },
   "outputs": [
    {
     "name": "stdout",
     "output_type": "stream",
     "text": [
      "WARNING: pip is being invoked by an old script wrapper. This will fail in a future version of pip.\n",
      "Please see https://github.com/pypa/pip/issues/5599 for advice on fixing the underlying issue.\n",
      "To avoid this problem you can invoke Python with '-m pip' instead of running pip directly.\n",
      "Requirement already satisfied: pandas>=1.2.0 in /root/.cache/pypoetry/virtualenvs/app-jhFzdacP-py3.7/lib/python3.7/site-packages (from -r requirements.txt (line 1)) (1.3.5)\n",
      "Collecting session_info>=1.0.0\n",
      "  Downloading session_info-1.0.0.tar.gz (24 kB)\n",
      "  Preparing metadata (setup.py) ... \u001b[?25ldone\n",
      "\u001b[?25hCollecting google-cloud\n",
      "  Downloading google_cloud-0.34.0-py2.py3-none-any.whl (1.8 kB)\n",
      "Requirement already satisfied: google-cloud-bigquery in /root/.cache/pypoetry/virtualenvs/app-jhFzdacP-py3.7/lib/python3.7/site-packages (from -r requirements.txt (line 4)) (2.31.0)\n",
      "Requirement already satisfied: google-cloud-storage in /root/.cache/pypoetry/virtualenvs/app-jhFzdacP-py3.7/lib/python3.7/site-packages (from -r requirements.txt (line 5)) (1.43.0)\n",
      "Collecting pyarrow>=8.0.0\n",
      "  Downloading pyarrow-9.0.0-cp37-cp37m-manylinux_2_17_x86_64.manylinux2014_x86_64.whl (35.3 MB)\n",
      "\u001b[2K     \u001b[90m━━━━━━━━━━━━━━━━━━━━━━━━━━━━━━━━━━━━━━━━\u001b[0m \u001b[32m35.3/35.3 MB\u001b[0m \u001b[31m48.8 MB/s\u001b[0m eta \u001b[36m0:00:00\u001b[0m00:01\u001b[0m00:01\u001b[0m\n",
      "\u001b[?25hCollecting matplotlib\n",
      "  Downloading matplotlib-3.5.3-cp37-cp37m-manylinux_2_5_x86_64.manylinux1_x86_64.whl (11.2 MB)\n",
      "\u001b[2K     \u001b[90m━━━━━━━━━━━━━━━━━━━━━━━━━━━━━━━━━━━━━━━━\u001b[0m \u001b[32m11.2/11.2 MB\u001b[0m \u001b[31m86.2 MB/s\u001b[0m eta \u001b[36m0:00:00\u001b[0m00:01\u001b[0m00:01\u001b[0m\n",
      "\u001b[?25hCollecting seaborn>=0.11.2\n",
      "  Downloading seaborn-0.12.0-py3-none-any.whl (285 kB)\n",
      "\u001b[2K     \u001b[90m━━━━━━━━━━━━━━━━━━━━━━━━━━━━━━━━━━━━━━\u001b[0m \u001b[32m285.1/285.1 KB\u001b[0m \u001b[31m32.6 MB/s\u001b[0m eta \u001b[36m0:00:00\u001b[0m\n",
      "\u001b[?25hCollecting plotnine==0.8.0\n",
      "  Downloading plotnine-0.8.0-py3-none-any.whl (4.7 MB)\n",
      "\u001b[2K     \u001b[90m━━━━━━━━━━━━━━━━━━━━━━━━━━━━━━━━━━━━━━━━\u001b[0m \u001b[32m4.7/4.7 MB\u001b[0m \u001b[31m78.8 MB/s\u001b[0m eta \u001b[36m0:00:00\u001b[0mta \u001b[36m0:00:01\u001b[0m\n",
      "\u001b[?25hCollecting xgboost\n",
      "  Downloading xgboost-1.6.2-py3-none-manylinux2014_x86_64.whl (255.9 MB)\n",
      "\u001b[2K     \u001b[90m━━━━━━━━━━━━━━━━━━━━━━━━━━━━━━━━━━━━━━━\u001b[0m \u001b[32m255.9/255.9 MB\u001b[0m \u001b[31m9.7 MB/s\u001b[0m eta \u001b[36m0:00:00\u001b[0m00:01\u001b[0m00:01\u001b[0m\n",
      "\u001b[?25hCollecting textacy\n",
      "  Downloading textacy-0.11.0-py3-none-any.whl (200 kB)\n",
      "\u001b[2K     \u001b[90m━━━━━━━━━━━━━━━━━━━━━━━━━━━━━━━━━━━━━━\u001b[0m \u001b[32m200.4/200.4 KB\u001b[0m \u001b[31m25.0 MB/s\u001b[0m eta \u001b[36m0:00:00\u001b[0m\n",
      "\u001b[?25hCollecting textdistance\n",
      "  Downloading textdistance-4.5.0-py3-none-any.whl (31 kB)\n",
      "Collecting kneed\n",
      "  Downloading kneed-0.8.1-py2.py3-none-any.whl (10 kB)\n",
      "Collecting annoy\n",
      "  Downloading annoy-1.17.1.tar.gz (647 kB)\n",
      "\u001b[2K     \u001b[90m━━━━━━━━━━━━━━━━━━━━━━━━━━━━━━━━━━━━━━\u001b[0m \u001b[32m648.0/648.0 KB\u001b[0m \u001b[31m50.2 MB/s\u001b[0m eta \u001b[36m0:00:00\u001b[0m\n",
      "\u001b[?25h  Preparing metadata (setup.py) ... \u001b[?25ldone\n",
      "\u001b[?25hRequirement already satisfied: numpy>=1.19.0 in /root/.cache/pypoetry/virtualenvs/app-jhFzdacP-py3.7/lib/python3.7/site-packages (from plotnine==0.8.0->-r requirements.txt (line 9)) (1.21.5)\n",
      "Collecting patsy>=0.5.1\n",
      "  Downloading patsy-0.5.2-py2.py3-none-any.whl (233 kB)\n",
      "\u001b[2K     \u001b[90m━━━━━━━━━━━━━━━━━━━━━━━━━━━━━━━━━━━━━━\u001b[0m \u001b[32m233.7/233.7 KB\u001b[0m \u001b[31m31.5 MB/s\u001b[0m eta \u001b[36m0:00:00\u001b[0m\n",
      "\u001b[?25hRequirement already satisfied: scipy>=1.5.0 in /root/.cache/pypoetry/virtualenvs/app-jhFzdacP-py3.7/lib/python3.7/site-packages (from plotnine==0.8.0->-r requirements.txt (line 9)) (1.7.3)\n",
      "Collecting mizani>=0.7.3\n",
      "  Downloading mizani-0.7.3-py3-none-any.whl (63 kB)\n",
      "\u001b[2K     \u001b[90m━━━━━━━━━━━━━━━━━━━━━━━━━━━━━━━━━━━━━━━━\u001b[0m \u001b[32m63.1/63.1 KB\u001b[0m \u001b[31m8.8 MB/s\u001b[0m eta \u001b[36m0:00:00\u001b[0m\n",
      "\u001b[?25hCollecting statsmodels>=0.12.1\n",
      "  Downloading statsmodels-0.13.2-cp37-cp37m-manylinux_2_17_x86_64.manylinux2014_x86_64.whl (9.8 MB)\n",
      "\u001b[2K     \u001b[90m━━━━━━━━━━━━━━━━━━━━━━━━━━━━━━━━━━━━━━━━\u001b[0m \u001b[32m9.8/9.8 MB\u001b[0m \u001b[31m87.6 MB/s\u001b[0m eta \u001b[36m0:00:00\u001b[0m:00:01\u001b[0m00:01\u001b[0m\n",
      "\u001b[?25hCollecting descartes>=1.1.0\n",
      "  Downloading descartes-1.1.0-py3-none-any.whl (5.8 kB)\n",
      "Requirement already satisfied: pytz>=2017.3 in /root/.cache/pypoetry/virtualenvs/app-jhFzdacP-py3.7/lib/python3.7/site-packages (from pandas>=1.2.0->-r requirements.txt (line 1)) (2021.3)\n",
      "Requirement already satisfied: python-dateutil>=2.7.3 in /root/.cache/pypoetry/virtualenvs/app-jhFzdacP-py3.7/lib/python3.7/site-packages (from pandas>=1.2.0->-r requirements.txt (line 1)) (2.8.2)\n",
      "Collecting stdlib_list\n",
      "  Downloading stdlib_list-0.8.0-py3-none-any.whl (63 kB)\n",
      "\u001b[2K     \u001b[90m━━━━━━━━━━━━━━━━━━━━━━━━━━━━━━━━━━━━━━━━\u001b[0m \u001b[32m63.5/63.5 KB\u001b[0m \u001b[31m10.9 MB/s\u001b[0m eta \u001b[36m0:00:00\u001b[0m\n",
      "\u001b[?25hRequirement already satisfied: grpcio<2.0dev,>=1.38.1 in /root/.cache/pypoetry/virtualenvs/app-jhFzdacP-py3.7/lib/python3.7/site-packages (from google-cloud-bigquery->-r requirements.txt (line 4)) (1.43.0)\n",
      "Requirement already satisfied: packaging>=14.3 in /root/.cache/pypoetry/virtualenvs/app-jhFzdacP-py3.7/lib/python3.7/site-packages (from google-cloud-bigquery->-r requirements.txt (line 4)) (21.3)\n",
      "Requirement already satisfied: google-cloud-core<3.0.0dev,>=1.4.1 in /root/.cache/pypoetry/virtualenvs/app-jhFzdacP-py3.7/lib/python3.7/site-packages (from google-cloud-bigquery->-r requirements.txt (line 4)) (2.2.1)\n",
      "Requirement already satisfied: requests<3.0.0dev,>=2.18.0 in /root/.cache/pypoetry/virtualenvs/app-jhFzdacP-py3.7/lib/python3.7/site-packages (from google-cloud-bigquery->-r requirements.txt (line 4)) (2.27.0)\n",
      "Requirement already satisfied: google-api-core[grpc]<3.0.0dev,>=1.29.0 in /root/.cache/pypoetry/virtualenvs/app-jhFzdacP-py3.7/lib/python3.7/site-packages (from google-cloud-bigquery->-r requirements.txt (line 4)) (2.3.2)\n",
      "Requirement already satisfied: protobuf>=3.12.0 in /root/.cache/pypoetry/virtualenvs/app-jhFzdacP-py3.7/lib/python3.7/site-packages (from google-cloud-bigquery->-r requirements.txt (line 4)) (3.19.1)\n",
      "Requirement already satisfied: proto-plus>=1.10.0 in /root/.cache/pypoetry/virtualenvs/app-jhFzdacP-py3.7/lib/python3.7/site-packages (from google-cloud-bigquery->-r requirements.txt (line 4)) (1.19.8)\n",
      "Requirement already satisfied: google-resumable-media<3.0dev,>=0.6.0 in /root/.cache/pypoetry/virtualenvs/app-jhFzdacP-py3.7/lib/python3.7/site-packages (from google-cloud-bigquery->-r requirements.txt (line 4)) (2.1.0)\n",
      "Requirement already satisfied: six in /root/.cache/pypoetry/virtualenvs/app-jhFzdacP-py3.7/lib/python3.7/site-packages (from google-cloud-storage->-r requirements.txt (line 5)) (1.16.0)\n",
      "Requirement already satisfied: google-auth<3.0dev,>=1.25.0 in /root/.cache/pypoetry/virtualenvs/app-jhFzdacP-py3.7/lib/python3.7/site-packages (from google-cloud-storage->-r requirements.txt (line 5)) (2.3.3)\n",
      "Collecting fonttools>=4.22.0\n",
      "  Downloading fonttools-4.37.3-py3-none-any.whl (959 kB)\n",
      "\u001b[2K     \u001b[90m━━━━━━━━━━━━━━━━━━━━━━━━━━━━━━━━━━━━━━\u001b[0m \u001b[32m960.0/960.0 KB\u001b[0m \u001b[31m57.4 MB/s\u001b[0m eta \u001b[36m0:00:00\u001b[0m\n",
      "\u001b[?25hRequirement already satisfied: pyparsing>=2.2.1 in /root/.cache/pypoetry/virtualenvs/app-jhFzdacP-py3.7/lib/python3.7/site-packages (from matplotlib->-r requirements.txt (line 7)) (3.0.6)\n",
      "Collecting cycler>=0.10\n",
      "  Downloading cycler-0.11.0-py3-none-any.whl (6.4 kB)\n",
      "Collecting kiwisolver>=1.0.1\n",
      "  Downloading kiwisolver-1.4.4-cp37-cp37m-manylinux_2_5_x86_64.manylinux1_x86_64.whl (1.1 MB)\n",
      "\u001b[2K     \u001b[90m━━━━━━━━━━━━━━━━━━━━━━━━━━━━━━━━━━━━━━━━\u001b[0m \u001b[32m1.1/1.1 MB\u001b[0m \u001b[31m62.7 MB/s\u001b[0m eta \u001b[36m0:00:00\u001b[0m\n",
      "\u001b[?25hCollecting pillow>=6.2.0\n",
      "  Downloading Pillow-9.2.0-cp37-cp37m-manylinux_2_28_x86_64.whl (3.2 MB)\n",
      "\u001b[2K     \u001b[90m━━━━━━━━━━━━━━━━━━━━━━━━━━━━━━━━━━━━━━━━\u001b[0m \u001b[32m3.2/3.2 MB\u001b[0m \u001b[31m83.8 MB/s\u001b[0m eta \u001b[36m0:00:00\u001b[0m:00:01\u001b[0m\n",
      "\u001b[?25hRequirement already satisfied: typing_extensions in /root/.cache/pypoetry/virtualenvs/app-jhFzdacP-py3.7/lib/python3.7/site-packages (from seaborn>=0.11.2->-r requirements.txt (line 8)) (4.0.1)\n",
      "Collecting pyphen>=0.10.0\n",
      "  Downloading pyphen-0.13.0-py3-none-any.whl (2.0 MB)\n",
      "\u001b[2K     \u001b[90m━━━━━━━━━━━━━━━━━━━━━━━━━━━━━━━━━━━━━━━━\u001b[0m \u001b[32m2.0/2.0 MB\u001b[0m \u001b[31m74.4 MB/s\u001b[0m eta \u001b[36m0:00:00\u001b[0m\n",
      "\u001b[?25hRequirement already satisfied: scikit-learn>=0.19.0 in /root/.cache/pypoetry/virtualenvs/app-jhFzdacP-py3.7/lib/python3.7/site-packages (from textacy->-r requirements.txt (line 11)) (1.0.2)\n",
      "Requirement already satisfied: cachetools>=4.0.0 in /root/.cache/pypoetry/virtualenvs/app-jhFzdacP-py3.7/lib/python3.7/site-packages (from textacy->-r requirements.txt (line 11)) (4.2.4)\n",
      "Requirement already satisfied: joblib>=0.13.0 in /root/.cache/pypoetry/virtualenvs/app-jhFzdacP-py3.7/lib/python3.7/site-packages (from textacy->-r requirements.txt (line 11)) (1.1.0)\n",
      "Collecting jellyfish>=0.8.0\n",
      "  Downloading jellyfish-0.9.0.tar.gz (132 kB)\n",
      "\u001b[2K     \u001b[90m━━━━━━━━━━━━━━━━━━━━━━━━━━━━━━━━━━━━━━\u001b[0m \u001b[32m132.6/132.6 KB\u001b[0m \u001b[31m14.4 MB/s\u001b[0m eta \u001b[36m0:00:00\u001b[0m\n",
      "\u001b[?25h  Preparing metadata (setup.py) ... \u001b[?25ldone\n",
      "\u001b[?25hRequirement already satisfied: tqdm>=4.19.6 in /root/.cache/pypoetry/virtualenvs/app-jhFzdacP-py3.7/lib/python3.7/site-packages (from textacy->-r requirements.txt (line 11)) (4.62.3)\n",
      "Requirement already satisfied: networkx>=2.0 in /root/.cache/pypoetry/virtualenvs/app-jhFzdacP-py3.7/lib/python3.7/site-packages (from textacy->-r requirements.txt (line 11)) (2.6.3)\n",
      "Collecting cytoolz>=0.10.1\n",
      "  Downloading cytoolz-0.12.0-cp37-cp37m-manylinux_2_17_x86_64.manylinux2014_x86_64.whl (1.6 MB)\n",
      "\u001b[2K     \u001b[90m━━━━━━━━━━━━━━━━━━━━━━━━━━━━━━━━━━━━━━━━\u001b[0m \u001b[32m1.6/1.6 MB\u001b[0m \u001b[31m74.7 MB/s\u001b[0m eta \u001b[36m0:00:00\u001b[0m\n",
      "\u001b[?25hCollecting spacy>=3.0.0\n",
      "  Downloading spacy-3.4.1-cp37-cp37m-manylinux_2_17_x86_64.manylinux2014_x86_64.whl (6.3 MB)\n",
      "\u001b[2K     \u001b[90m━━━━━━━━━━━━━━━━━━━━━━━━━━━━━━━━━━━━━━━━\u001b[0m \u001b[32m6.3/6.3 MB\u001b[0m \u001b[31m93.9 MB/s\u001b[0m eta \u001b[36m0:00:00\u001b[0mta \u001b[36m0:00:01\u001b[0m\n",
      "\u001b[?25hRequirement already satisfied: toolz>=0.8.0 in /root/.cache/pypoetry/virtualenvs/app-jhFzdacP-py3.7/lib/python3.7/site-packages (from cytoolz>=0.10.1->textacy->-r requirements.txt (line 11)) (0.11.2)\n",
      "Requirement already satisfied: setuptools>=40.3.0 in /root/.cache/pypoetry/virtualenvs/app-jhFzdacP-py3.7/lib/python3.7/site-packages (from google-api-core[grpc]<3.0.0dev,>=1.29.0->google-cloud-bigquery->-r requirements.txt (line 4)) (62.1.0)\n",
      "Requirement already satisfied: googleapis-common-protos<2.0dev,>=1.52.0 in /root/.cache/pypoetry/virtualenvs/app-jhFzdacP-py3.7/lib/python3.7/site-packages (from google-api-core[grpc]<3.0.0dev,>=1.29.0->google-cloud-bigquery->-r requirements.txt (line 4)) (1.54.0)\n",
      "Requirement already satisfied: grpcio-status<2.0dev,>=1.33.2 in /root/.cache/pypoetry/virtualenvs/app-jhFzdacP-py3.7/lib/python3.7/site-packages (from google-api-core[grpc]<3.0.0dev,>=1.29.0->google-cloud-bigquery->-r requirements.txt (line 4)) (1.43.0)\n",
      "Requirement already satisfied: rsa<5,>=3.1.4 in /root/.cache/pypoetry/virtualenvs/app-jhFzdacP-py3.7/lib/python3.7/site-packages (from google-auth<3.0dev,>=1.25.0->google-cloud-storage->-r requirements.txt (line 5)) (4.8)\n",
      "Requirement already satisfied: pyasn1-modules>=0.2.1 in /root/.cache/pypoetry/virtualenvs/app-jhFzdacP-py3.7/lib/python3.7/site-packages (from google-auth<3.0dev,>=1.25.0->google-cloud-storage->-r requirements.txt (line 5)) (0.2.8)\n",
      "Requirement already satisfied: google-crc32c<2.0dev,>=1.0 in /root/.cache/pypoetry/virtualenvs/app-jhFzdacP-py3.7/lib/python3.7/site-packages (from google-resumable-media<3.0dev,>=0.6.0->google-cloud-bigquery->-r requirements.txt (line 4)) (1.3.0)\n",
      "Collecting palettable\n",
      "  Downloading palettable-3.3.0-py2.py3-none-any.whl (111 kB)\n",
      "\u001b[2K     \u001b[90m━━━━━━━━━━━━━━━━━━━━━━━━━━━━━━━━━━━━━━\u001b[0m \u001b[32m111.8/111.8 KB\u001b[0m \u001b[31m17.6 MB/s\u001b[0m eta \u001b[36m0:00:00\u001b[0m\n",
      "\u001b[?25hRequirement already satisfied: certifi>=2017.4.17 in /root/.cache/pypoetry/virtualenvs/app-jhFzdacP-py3.7/lib/python3.7/site-packages (from requests<3.0.0dev,>=2.18.0->google-cloud-bigquery->-r requirements.txt (line 4)) (2020.12.5)\n",
      "Requirement already satisfied: idna<4,>=2.5 in /root/.cache/pypoetry/virtualenvs/app-jhFzdacP-py3.7/lib/python3.7/site-packages (from requests<3.0.0dev,>=2.18.0->google-cloud-bigquery->-r requirements.txt (line 4)) (3.3)\n",
      "Requirement already satisfied: charset-normalizer~=2.0.0 in /root/.cache/pypoetry/virtualenvs/app-jhFzdacP-py3.7/lib/python3.7/site-packages (from requests<3.0.0dev,>=2.18.0->google-cloud-bigquery->-r requirements.txt (line 4)) (2.0.10)\n",
      "Requirement already satisfied: urllib3<1.27,>=1.21.1 in /root/.cache/pypoetry/virtualenvs/app-jhFzdacP-py3.7/lib/python3.7/site-packages (from requests<3.0.0dev,>=2.18.0->google-cloud-bigquery->-r requirements.txt (line 4)) (1.26.7)\n",
      "Requirement already satisfied: threadpoolctl>=2.0.0 in /root/.cache/pypoetry/virtualenvs/app-jhFzdacP-py3.7/lib/python3.7/site-packages (from scikit-learn>=0.19.0->textacy->-r requirements.txt (line 11)) (3.0.0)\n",
      "Collecting catalogue<2.1.0,>=2.0.6\n",
      "  Downloading catalogue-2.0.8-py3-none-any.whl (17 kB)\n",
      "Collecting typer<0.5.0,>=0.3.0\n",
      "  Downloading typer-0.4.2-py3-none-any.whl (27 kB)\n",
      "Collecting murmurhash<1.1.0,>=0.28.0\n",
      "  Downloading murmurhash-1.0.8-cp37-cp37m-manylinux_2_5_x86_64.manylinux1_x86_64.manylinux_2_17_x86_64.manylinux2014_x86_64.whl (21 kB)\n",
      "Collecting langcodes<4.0.0,>=3.2.0\n",
      "  Downloading langcodes-3.3.0-py3-none-any.whl (181 kB)\n",
      "\u001b[2K     \u001b[90m━━━━━━━━━━━━━━━━━━━━━━━━━━━━━━━━━━━━━━\u001b[0m \u001b[32m181.6/181.6 KB\u001b[0m \u001b[31m26.2 MB/s\u001b[0m eta \u001b[36m0:00:00\u001b[0m\n",
      "\u001b[?25hCollecting cymem<2.1.0,>=2.0.2\n",
      "  Downloading cymem-2.0.6-cp37-cp37m-manylinux_2_17_x86_64.manylinux2014_x86_64.whl (35 kB)\n",
      "Requirement already satisfied: jinja2 in /usr/local/lib/python3.7/site-packages (from spacy>=3.0.0->textacy->-r requirements.txt (line 11)) (3.1.2)\n",
      "Collecting pydantic!=1.8,!=1.8.1,<1.10.0,>=1.7.4\n",
      "  Downloading pydantic-1.9.2-cp37-cp37m-manylinux_2_17_x86_64.manylinux2014_x86_64.whl (11.1 MB)\n",
      "\u001b[2K     \u001b[90m━━━━━━━━━━━━━━━━━━━━━━━━━━━━━━━━━━━━━━━━\u001b[0m \u001b[32m11.1/11.1 MB\u001b[0m \u001b[31m88.8 MB/s\u001b[0m eta \u001b[36m0:00:00\u001b[0m00:01\u001b[0m00:01\u001b[0m\n",
      "\u001b[?25hCollecting spacy-loggers<2.0.0,>=1.0.0\n",
      "  Downloading spacy_loggers-1.0.3-py3-none-any.whl (9.3 kB)\n",
      "Collecting preshed<3.1.0,>=3.0.2\n",
      "  Downloading preshed-3.0.7-cp37-cp37m-manylinux_2_5_x86_64.manylinux1_x86_64.manylinux_2_17_x86_64.manylinux2014_x86_64.whl (126 kB)\n",
      "\u001b[2K     \u001b[90m━━━━━━━━━━━━━━━━━━━━━━━━━━━━━━━━━━━━━━\u001b[0m \u001b[32m126.6/126.6 KB\u001b[0m \u001b[31m19.1 MB/s\u001b[0m eta \u001b[36m0:00:00\u001b[0m\n",
      "\u001b[?25hCollecting thinc<8.2.0,>=8.1.0\n",
      "  Downloading thinc-8.1.2-cp37-cp37m-manylinux_2_17_x86_64.manylinux2014_x86_64.whl (804 kB)\n",
      "\u001b[2K     \u001b[90m━━━━━━━━━━━━━━━━━━━━━━━━━━━━━━━━━━━━━━\u001b[0m \u001b[32m804.2/804.2 KB\u001b[0m \u001b[31m54.6 MB/s\u001b[0m eta \u001b[36m0:00:00\u001b[0m\n",
      "\u001b[?25hCollecting wasabi<1.1.0,>=0.9.1\n",
      "  Downloading wasabi-0.10.1-py3-none-any.whl (26 kB)\n",
      "Collecting spacy-legacy<3.1.0,>=3.0.9\n",
      "  Downloading spacy_legacy-3.0.10-py2.py3-none-any.whl (21 kB)\n",
      "Collecting pathy>=0.3.5\n",
      "  Downloading pathy-0.6.2-py3-none-any.whl (42 kB)\n",
      "\u001b[2K     \u001b[90m━━━━━━━━━━━━━━━━━━━━━━━━━━━━━━━━━━━━━━━━\u001b[0m \u001b[32m42.8/42.8 KB\u001b[0m \u001b[31m6.8 MB/s\u001b[0m eta \u001b[36m0:00:00\u001b[0m\n",
      "\u001b[?25hCollecting srsly<3.0.0,>=2.4.3\n",
      "  Downloading srsly-2.4.4-cp37-cp37m-manylinux_2_17_x86_64.manylinux2014_x86_64.whl (458 kB)\n",
      "\u001b[2K     \u001b[90m━━━━━━━━━━━━━━━━━━━━━━━━━━━━━━━━━━━━━━\u001b[0m \u001b[32m458.8/458.8 KB\u001b[0m \u001b[31m40.7 MB/s\u001b[0m eta \u001b[36m0:00:00\u001b[0m\n",
      "\u001b[?25hRequirement already satisfied: zipp>=0.5 in /root/.cache/pypoetry/virtualenvs/app-jhFzdacP-py3.7/lib/python3.7/site-packages (from catalogue<2.1.0,>=2.0.6->spacy>=3.0.0->textacy->-r requirements.txt (line 11)) (3.7.0)\n",
      "Collecting smart-open<6.0.0,>=5.2.1\n",
      "  Downloading smart_open-5.2.1-py3-none-any.whl (58 kB)\n",
      "\u001b[2K     \u001b[90m━━━━━━━━━━━━━━━━━━━━━━━━━━━━━━━━━━━━━━━━\u001b[0m \u001b[32m58.6/58.6 KB\u001b[0m \u001b[31m5.8 MB/s\u001b[0m eta \u001b[36m0:00:00\u001b[0m\n",
      "\u001b[?25hRequirement already satisfied: pyasn1<0.5.0,>=0.4.6 in /root/.cache/pypoetry/virtualenvs/app-jhFzdacP-py3.7/lib/python3.7/site-packages (from pyasn1-modules>=0.2.1->google-auth<3.0dev,>=1.25.0->google-cloud-storage->-r requirements.txt (line 5)) (0.4.8)\n",
      "Collecting blis<0.8.0,>=0.7.8\n",
      "  Downloading blis-0.7.8-cp37-cp37m-manylinux_2_17_x86_64.manylinux2014_x86_64.whl (10.2 MB)\n",
      "\u001b[2K     \u001b[90m━━━━━━━━━━━━━━━━━━━━━━━━━━━━━━━━━━━━━━━━\u001b[0m \u001b[32m10.2/10.2 MB\u001b[0m \u001b[31m92.4 MB/s\u001b[0m eta \u001b[36m0:00:00\u001b[0m00:01\u001b[0m00:01\u001b[0m\n",
      "\u001b[?25hCollecting confection<1.0.0,>=0.0.1\n",
      "  Downloading confection-0.0.2-py3-none-any.whl (32 kB)\n",
      "Requirement already satisfied: click<9.0.0,>=7.1.1 in /root/.cache/pypoetry/virtualenvs/app-jhFzdacP-py3.7/lib/python3.7/site-packages (from typer<0.5.0,>=0.3.0->spacy>=3.0.0->textacy->-r requirements.txt (line 11)) (8.0.3)\n",
      "Requirement already satisfied: MarkupSafe>=2.0 in /usr/local/lib/python3.7/site-packages (from jinja2->spacy>=3.0.0->textacy->-r requirements.txt (line 11)) (2.1.1)\n",
      "Requirement already satisfied: importlib-metadata in /root/.cache/pypoetry/virtualenvs/app-jhFzdacP-py3.7/lib/python3.7/site-packages (from click<9.0.0,>=7.1.1->typer<0.5.0,>=0.3.0->spacy>=3.0.0->textacy->-r requirements.txt (line 11)) (4.10.0)\n",
      "Building wheels for collected packages: session_info, annoy, jellyfish\n",
      "  Building wheel for session_info (setup.py) ... \u001b[?25ldone\n",
      "\u001b[?25h  Created wheel for session_info: filename=session_info-1.0.0-py3-none-any.whl size=8048 sha256=00731ab9b9b9339085fa29a4930533f0d9498fd177d6e36a276f3f65626eae20\n",
      "  Stored in directory: /root/.cache/pip/wheels/bd/ad/14/6a42359351a18337a8683854cfbba99dd782271f2d1767f87f\n",
      "  Building wheel for annoy (setup.py) ... \u001b[?25ldone\n",
      "\u001b[?25h  Created wheel for annoy: filename=annoy-1.17.1-cp37-cp37m-linux_x86_64.whl size=582118 sha256=7f01a1f84248b7c210a34b77a1f7cc9731cfd6622ca10eadc19b2e8c0520e2c3\n",
      "  Stored in directory: /root/.cache/pip/wheels/81/94/bf/92cb0e4fef8770fe9c6df0ba588fca30ab7c306b6048ae8a54\n",
      "  Building wheel for jellyfish (setup.py) ... \u001b[?25ldone\n",
      "\u001b[?25h  Created wheel for jellyfish: filename=jellyfish-0.9.0-cp37-cp37m-linux_x86_64.whl size=108120 sha256=70677d3cd5ad997e8f1dfb443c931dfb01dd1bf79902ce4053398541145e63a6\n",
      "  Stored in directory: /root/.cache/pip/wheels/fe/99/4e/646ce766df0d070b0ef04db27aa11543e2767fda3075aec31b\n",
      "Successfully built session_info annoy jellyfish\n",
      "Installing collected packages: wasabi, stdlib_list, palettable, google-cloud, cymem, annoy, textdistance, spacy-loggers, spacy-legacy, smart-open, session_info, pyphen, pydantic, pyarrow, pillow, patsy, murmurhash, langcodes, kiwisolver, jellyfish, fonttools, cytoolz, cycler, catalogue, blis, xgboost, srsly, preshed, matplotlib, kneed, typer, statsmodels, seaborn, mizani, descartes, confection, thinc, plotnine, pathy, spacy, textacy\n",
      "Successfully installed annoy-1.17.1 blis-0.7.8 catalogue-2.0.8 confection-0.0.2 cycler-0.11.0 cymem-2.0.6 cytoolz-0.12.0 descartes-1.1.0 fonttools-4.37.3 google-cloud-0.34.0 jellyfish-0.9.0 kiwisolver-1.4.4 kneed-0.8.1 langcodes-3.3.0 matplotlib-3.5.3 mizani-0.7.3 murmurhash-1.0.8 palettable-3.3.0 pathy-0.6.2 patsy-0.5.2 pillow-9.2.0 plotnine-0.8.0 preshed-3.0.7 pyarrow-9.0.0 pydantic-1.9.2 pyphen-0.13.0 seaborn-0.12.0 session_info-1.0.0 smart-open-5.2.1 spacy-3.4.1 spacy-legacy-3.0.10 spacy-loggers-1.0.3 srsly-2.4.4 statsmodels-0.13.2 stdlib_list-0.8.0 textacy-0.11.0 textdistance-4.5.0 thinc-8.1.2 typer-0.4.2 wasabi-0.10.1 xgboost-1.6.2\n",
      "\u001b[33mWARNING: Running pip as the 'root' user can result in broken permissions and conflicting behaviour with the system package manager. It is recommended to use a virtual environment instead: https://pip.pypa.io/warnings/venv\u001b[0m\u001b[33m\n",
      "\u001b[0m\u001b[33mWARNING: You are using pip version 22.0.4; however, version 22.2.2 is available.\n",
      "You should consider upgrading via the '/usr/local/bin/python3 -m pip install --upgrade pip' command.\u001b[0m\u001b[33m\n",
      "\u001b[0m"
     ]
    }
   ],
   "source": [
    "!pip install -r requirements.txt"
   ]
  },
  {
   "cell_type": "code",
   "execution_count": 2,
   "id": "c61e4e09",
   "metadata": {
    "collapsed": true,
    "jupyter": {
     "outputs_hidden": true
    }
   },
   "outputs": [
    {
     "name": "stdout",
     "output_type": "stream",
     "text": [
      "WARNING: pip is being invoked by an old script wrapper. This will fail in a future version of pip.\n",
      "Please see https://github.com/pypa/pip/issues/5599 for advice on fixing the underlying issue.\n",
      "To avoid this problem you can invoke Python with '-m pip' instead of running pip directly.\n",
      "Looking in indexes: https://pypi.artifacts.furycloud.io\n",
      "Collecting replib.descriptors.tfhub\n",
      "  Downloading https://pypi.artifacts.furycloud.io/packages/replib-descriptors-tfhub/2.0.6/replib.descriptors.tfhub-2.0.6-py3-none-any.whl (3.5 kB)\n",
      "Collecting replib.core<2.0,>=1.0\n",
      "  Downloading https://pypi.artifacts.furycloud.io/packages/replib-core/1.3.3/replib.core-1.3.3-py3-none-any.whl (31 kB)\n",
      "Requirement already satisfied: requests>=2.26.0 in /root/.cache/pypoetry/virtualenvs/app-jhFzdacP-py3.7/lib/python3.7/site-packages (from replib.descriptors.tfhub) (2.27.0)\n",
      "Collecting tensorflow<2.5.0,>=2.4.0\n",
      "  Downloading https://pypi.artifacts.furycloud.io/packages/tensorflow/2.4.4/tensorflow-2.4.4-cp37-cp37m-manylinux2010_x86_64.whl (394.5 MB)\n",
      "\u001b[2K     \u001b[90m━━━━━━━━━━━━━━━━━━━━━━━━━━━━━━━━━━━━━━━\u001b[0m \u001b[32m394.5/394.5 MB\u001b[0m \u001b[31m4.6 MB/s\u001b[0m eta \u001b[36m0:00:00\u001b[0m00:01\u001b[0m00:01\u001b[0m\n",
      "\u001b[?25hCollecting tensorflow_hub>=0.6.0\n",
      "  Downloading https://pypi.artifacts.furycloud.io/packages/tensorflow-hub/0.12.0/tensorflow_hub-0.12.0-py2.py3-none-any.whl (108 kB)\n",
      "\u001b[2K     \u001b[90m━━━━━━━━━━━━━━━━━━━━━━━━━━━━━━━━━━━━━━\u001b[0m \u001b[32m108.8/108.8 KB\u001b[0m \u001b[31m15.7 MB/s\u001b[0m eta \u001b[36m0:00:00\u001b[0m\n",
      "\u001b[?25hCollecting tensorflow-text<2.5.0,>=2.4.0\n",
      "  Downloading https://pypi.artifacts.furycloud.io/packages/tensorflow-text/2.4.3/tensorflow_text-2.4.3-cp37-cp37m-manylinux1_x86_64.whl (3.4 MB)\n",
      "\u001b[2K     \u001b[90m━━━━━━━━━━━━━━━━━━━━━━━━━━━━━━━━━━━━━━━━\u001b[0m \u001b[32m3.4/3.4 MB\u001b[0m \u001b[31m79.7 MB/s\u001b[0m eta \u001b[36m0:00:00\u001b[0m:00:01\u001b[0m\n",
      "\u001b[?25hRequirement already satisfied: scikit-learn>=1.0 in /root/.cache/pypoetry/virtualenvs/app-jhFzdacP-py3.7/lib/python3.7/site-packages (from replib.descriptors.tfhub) (1.0.2)\n",
      "Requirement already satisfied: pillow>=1.0 in /usr/local/lib/python3.7/site-packages (from replib.descriptors.tfhub) (9.2.0)\n",
      "Collecting cookiecutter<2.0.0,>=1.0.0\n",
      "  Downloading https://pypi.artifacts.furycloud.io/packages/cookiecutter/1.7.3/cookiecutter-1.7.3-py2.py3-none-any.whl (34 kB)\n",
      "Requirement already satisfied: urllib3<2.0.0,>=1.25.9 in /root/.cache/pypoetry/virtualenvs/app-jhFzdacP-py3.7/lib/python3.7/site-packages (from replib.core<2.0,>=1.0->replib.descriptors.tfhub) (1.26.7)\n",
      "Requirement already satisfied: click<9.0.0,>=8.0.0 in /root/.cache/pypoetry/virtualenvs/app-jhFzdacP-py3.7/lib/python3.7/site-packages (from replib.core<2.0,>=1.0->replib.descriptors.tfhub) (8.0.3)\n",
      "Requirement already satisfied: pandas<2.0,>=1.1 in /root/.cache/pypoetry/virtualenvs/app-jhFzdacP-py3.7/lib/python3.7/site-packages (from replib.core<2.0,>=1.0->replib.descriptors.tfhub) (1.3.5)\n",
      "Collecting tiger-python-helper<0.8.0,>=0.7.0\n",
      "  Downloading https://pypi.artifacts.furycloud.io/packages/tiger-python-helper/0.7.1/tiger_python_helper-0.7.1-py3-none-any.whl (4.5 kB)\n",
      "Requirement already satisfied: packaging>=20.0 in /root/.cache/pypoetry/virtualenvs/app-jhFzdacP-py3.7/lib/python3.7/site-packages (from replib.core<2.0,>=1.0->replib.descriptors.tfhub) (21.3)\n",
      "Requirement already satisfied: gitpython<4.0.0,>=3.0.0 in /root/.cache/pypoetry/virtualenvs/app-jhFzdacP-py3.7/lib/python3.7/site-packages (from replib.core<2.0,>=1.0->replib.descriptors.tfhub) (3.1.24)\n",
      "Requirement already satisfied: appdirs<1.5.0,>=1.4.0 in /root/.cache/pypoetry/virtualenvs/app-jhFzdacP-py3.7/lib/python3.7/site-packages (from replib.core<2.0,>=1.0->replib.descriptors.tfhub) (1.4.4)\n",
      "Requirement already satisfied: tqdm<5.0,>=4.0 in /root/.cache/pypoetry/virtualenvs/app-jhFzdacP-py3.7/lib/python3.7/site-packages (from replib.core<2.0,>=1.0->replib.descriptors.tfhub) (4.62.3)\n",
      "Collecting consolemd<1.0.0\n",
      "  Downloading https://pypi.artifacts.furycloud.io/packages/consolemd/0.5.1/consolemd-0.5.1-py2.py3-none-any.whl (12 kB)\n",
      "Requirement already satisfied: importlib-metadata>=1.5.0 in /root/.cache/pypoetry/virtualenvs/app-jhFzdacP-py3.7/lib/python3.7/site-packages (from replib.core<2.0,>=1.0->replib.descriptors.tfhub) (4.10.0)\n",
      "Requirement already satisfied: charset-normalizer~=2.0.0 in /root/.cache/pypoetry/virtualenvs/app-jhFzdacP-py3.7/lib/python3.7/site-packages (from requests>=2.26.0->replib.descriptors.tfhub) (2.0.10)\n",
      "Requirement already satisfied: certifi>=2017.4.17 in /root/.cache/pypoetry/virtualenvs/app-jhFzdacP-py3.7/lib/python3.7/site-packages (from requests>=2.26.0->replib.descriptors.tfhub) (2020.12.5)\n",
      "Requirement already satisfied: idna<4,>=2.5 in /root/.cache/pypoetry/virtualenvs/app-jhFzdacP-py3.7/lib/python3.7/site-packages (from requests>=2.26.0->replib.descriptors.tfhub) (3.3)\n",
      "Requirement already satisfied: numpy>=1.14.6 in /root/.cache/pypoetry/virtualenvs/app-jhFzdacP-py3.7/lib/python3.7/site-packages (from scikit-learn>=1.0->replib.descriptors.tfhub) (1.21.5)\n",
      "Requirement already satisfied: scipy>=1.1.0 in /root/.cache/pypoetry/virtualenvs/app-jhFzdacP-py3.7/lib/python3.7/site-packages (from scikit-learn>=1.0->replib.descriptors.tfhub) (1.7.3)\n",
      "Requirement already satisfied: threadpoolctl>=2.0.0 in /root/.cache/pypoetry/virtualenvs/app-jhFzdacP-py3.7/lib/python3.7/site-packages (from scikit-learn>=1.0->replib.descriptors.tfhub) (3.0.0)\n",
      "Requirement already satisfied: joblib>=0.11 in /root/.cache/pypoetry/virtualenvs/app-jhFzdacP-py3.7/lib/python3.7/site-packages (from scikit-learn>=1.0->replib.descriptors.tfhub) (1.1.0)\n",
      "Collecting tensorboard~=2.4\n",
      "  Downloading https://pypi.artifacts.furycloud.io/packages/tensorboard/2.10.1/tensorboard-2.10.1-py3-none-any.whl (5.9 MB)\n",
      "\u001b[2K     \u001b[90m━━━━━━━━━━━━━━━━━━━━━━━━━━━━━━━━━━━━━━━━\u001b[0m \u001b[32m5.9/5.9 MB\u001b[0m \u001b[31m77.0 MB/s\u001b[0m eta \u001b[36m0:00:00\u001b[0m:00:01\u001b[0m00:01\u001b[0m\n",
      "\u001b[?25hCollecting wrapt~=1.12.1\n",
      "  Downloading https://pypi.artifacts.furycloud.io/packages/wrapt/1.12.1/wrapt-1.12.1.tar.gz (27 kB)\n",
      "  Preparing metadata (setup.py) ... \u001b[?25ldone\n",
      "\u001b[?25hCollecting flatbuffers~=1.12.0\n",
      "  Downloading https://pypi.artifacts.furycloud.io/packages/flatbuffers/1.12/flatbuffers-1.12-py2.py3-none-any.whl (15 kB)\n",
      "Collecting opt-einsum~=3.3.0\n",
      "  Downloading https://pypi.artifacts.furycloud.io/packages/opt-einsum/3.3.0/opt_einsum-3.3.0-py3-none-any.whl (65 kB)\n",
      "\u001b[2K     \u001b[90m━━━━━━━━━━━━━━━━━━━━━━━━━━━━━━━━━━━━━━━━\u001b[0m \u001b[32m65.5/65.5 KB\u001b[0m \u001b[31m11.2 MB/s\u001b[0m eta \u001b[36m0:00:00\u001b[0m\n",
      "\u001b[?25hCollecting tensorflow-estimator<2.5.0,>=2.4.0\n",
      "  Downloading https://pypi.artifacts.furycloud.io/packages/tensorflow-estimator/2.4.0/tensorflow_estimator-2.4.0-py2.py3-none-any.whl (462 kB)\n",
      "\u001b[2K     \u001b[90m━━━━━━━━━━━━━━━━━━━━━━━━━━━━━━━━━━━━━━\u001b[0m \u001b[32m462.0/462.0 KB\u001b[0m \u001b[31m41.4 MB/s\u001b[0m eta \u001b[36m0:00:00\u001b[0m\n",
      "\u001b[?25hCollecting absl-py~=0.10\n",
      "  Downloading https://pypi.artifacts.furycloud.io/packages/absl-py/0.15.0/absl_py-0.15.0-py3-none-any.whl (132 kB)\n",
      "\u001b[2K     \u001b[90m━━━━━━━━━━━━━━━━━━━━━━━━━━━━━━━━━━━━━━\u001b[0m \u001b[32m132.0/132.0 KB\u001b[0m \u001b[31m22.9 MB/s\u001b[0m eta \u001b[36m0:00:00\u001b[0m\n",
      "\u001b[?25hCollecting google-pasta~=0.2\n",
      "  Downloading https://pypi.artifacts.furycloud.io/packages/google-pasta/0.2.0/google_pasta-0.2.0-py3-none-any.whl (57 kB)\n",
      "\u001b[2K     \u001b[90m━━━━━━━━━━━━━━━━━━━━━━━━━━━━━━━━━━━━━━━━\u001b[0m \u001b[32m57.5/57.5 KB\u001b[0m \u001b[31m9.9 MB/s\u001b[0m eta \u001b[36m0:00:00\u001b[0m\n",
      "\u001b[?25hCollecting h5py~=2.10.0\n",
      "  Downloading https://pypi.artifacts.furycloud.io/packages/h5py/2.10.0/h5py-2.10.0-cp37-cp37m-manylinux1_x86_64.whl (2.9 MB)\n",
      "\u001b[2K     \u001b[90m━━━━━━━━━━━━━━━━━━━━━━━━━━━━━━━━━━━━━━━━\u001b[0m \u001b[32m2.9/2.9 MB\u001b[0m \u001b[31m76.9 MB/s\u001b[0m eta \u001b[36m0:00:00\u001b[0m:00:01\u001b[0m\n",
      "\u001b[?25hCollecting astunparse~=1.6.3\n",
      "  Downloading https://pypi.artifacts.furycloud.io/packages/astunparse/1.6.3/astunparse-1.6.3-py2.py3-none-any.whl (12 kB)\n",
      "Collecting six~=1.15.0\n",
      "  Downloading https://pypi.artifacts.furycloud.io/packages/six/1.15.0/six-1.15.0-py2.py3-none-any.whl (10 kB)\n",
      "Collecting grpcio~=1.32.0\n",
      "  Downloading https://pypi.artifacts.furycloud.io/packages/grpcio/1.32.0/grpcio-1.32.0-cp37-cp37m-manylinux2014_x86_64.whl (3.8 MB)\n",
      "\u001b[2K     \u001b[90m━━━━━━━━━━━━━━━━━━━━━━━━━━━━━━━━━━━━━━━━\u001b[0m \u001b[32m3.8/3.8 MB\u001b[0m \u001b[31m86.9 MB/s\u001b[0m eta \u001b[36m0:00:00\u001b[0m:00:01\u001b[0m\n",
      "\u001b[?25hCollecting numpy>=1.14.6\n",
      "  Downloading https://pypi.artifacts.furycloud.io/packages/numpy/1.19.5/numpy-1.19.5-cp37-cp37m-manylinux2010_x86_64.whl (14.8 MB)\n",
      "\u001b[2K     \u001b[90m━━━━━━━━━━━━━━━━━━━━━━━━━━━━━━━━━━━━━━━━\u001b[0m \u001b[32m14.8/14.8 MB\u001b[0m \u001b[31m69.6 MB/s\u001b[0m eta \u001b[36m0:00:00\u001b[0m00:01\u001b[0m00:01\u001b[0m\n",
      "\u001b[?25hCollecting gast==0.3.3\n",
      "  Downloading https://pypi.artifacts.furycloud.io/packages/gast/0.3.3/gast-0.3.3-py2.py3-none-any.whl (9.7 kB)\n",
      "Collecting typing-extensions~=3.7.4\n",
      "  Downloading https://pypi.artifacts.furycloud.io/packages/typing-extensions/3.7.4.3/typing_extensions-3.7.4.3-py3-none-any.whl (22 kB)\n",
      "Requirement already satisfied: protobuf>=3.9.2 in /root/.cache/pypoetry/virtualenvs/app-jhFzdacP-py3.7/lib/python3.7/site-packages (from tensorflow<2.5.0,>=2.4.0->replib.descriptors.tfhub) (3.19.1)\n",
      "Requirement already satisfied: wheel~=0.35 in /root/.cache/pypoetry/virtualenvs/app-jhFzdacP-py3.7/lib/python3.7/site-packages (from tensorflow<2.5.0,>=2.4.0->replib.descriptors.tfhub) (0.37.1)\n",
      "Collecting termcolor~=1.1.0\n",
      "  Downloading https://pypi.artifacts.furycloud.io/packages/termcolor/1.1.0/termcolor-1.1.0.tar.gz (3.9 kB)\n",
      "  Preparing metadata (setup.py) ... \u001b[?25ldone\n",
      "\u001b[?25hCollecting keras-preprocessing~=1.1.2\n",
      "  Downloading https://pypi.artifacts.furycloud.io/packages/keras-preprocessing/1.1.2/Keras_Preprocessing-1.1.2-py2.py3-none-any.whl (42 kB)\n",
      "\u001b[2K     \u001b[90m━━━━━━━━━━━━━━━━━━━━━━━━━━━━━━━━━━━━━━━━\u001b[0m \u001b[32m42.6/42.6 KB\u001b[0m \u001b[31m5.9 MB/s\u001b[0m eta \u001b[36m0:00:00\u001b[0m\n",
      "\u001b[?25hCollecting setproctitle\n",
      "  Downloading https://pypi.artifacts.furycloud.io/packages/setproctitle/1.3.2/setproctitle-1.3.2-cp37-cp37m-manylinux_2_5_x86_64.manylinux1_x86_64.manylinux_2_17_x86_64.manylinux2014_x86_64.whl (30 kB)\n",
      "Collecting commonmark\n",
      "  Downloading https://pypi.artifacts.furycloud.io/packages/commonmark/0.9.1/commonmark-0.9.1-py2.py3-none-any.whl (51 kB)\n",
      "\u001b[2K     \u001b[90m━━━━━━━━━━━━━━━━━━━━━━━━━━━━━━━━━━━━━━━━\u001b[0m \u001b[32m51.1/51.1 KB\u001b[0m \u001b[31m7.4 MB/s\u001b[0m eta \u001b[36m0:00:00\u001b[0m\n",
      "\u001b[?25hRequirement already satisfied: pygments in /root/.cache/pypoetry/virtualenvs/app-jhFzdacP-py3.7/lib/python3.7/site-packages (from consolemd<1.0.0->replib.core<2.0,>=1.0->replib.descriptors.tfhub) (2.11.1)\n",
      "Collecting poyo>=0.5.0\n",
      "  Downloading https://pypi.artifacts.furycloud.io/packages/poyo/0.5.0/poyo-0.5.0-py2.py3-none-any.whl (10 kB)\n",
      "Requirement already satisfied: Jinja2<4.0.0,>=2.7 in /usr/local/lib/python3.7/site-packages (from cookiecutter<2.0.0,>=1.0.0->replib.core<2.0,>=1.0->replib.descriptors.tfhub) (3.1.2)\n",
      "Collecting python-slugify>=4.0.0\n",
      "  Downloading https://pypi.artifacts.furycloud.io/packages/python-slugify/6.1.2/python_slugify-6.1.2-py2.py3-none-any.whl (9.4 kB)\n",
      "Collecting binaryornot>=0.4.4\n",
      "  Downloading https://pypi.artifacts.furycloud.io/packages/binaryornot/0.4.4/binaryornot-0.4.4-py2.py3-none-any.whl (9.0 kB)\n",
      "Collecting jinja2-time>=0.2.0\n",
      "  Downloading https://pypi.artifacts.furycloud.io/packages/jinja2-time/0.2.0/jinja2_time-0.2.0-py2.py3-none-any.whl (6.4 kB)\n",
      "Requirement already satisfied: gitdb<5,>=4.0.1 in /root/.cache/pypoetry/virtualenvs/app-jhFzdacP-py3.7/lib/python3.7/site-packages (from gitpython<4.0.0,>=3.0.0->replib.core<2.0,>=1.0->replib.descriptors.tfhub) (4.0.9)\n",
      "Requirement already satisfied: zipp>=0.5 in /root/.cache/pypoetry/virtualenvs/app-jhFzdacP-py3.7/lib/python3.7/site-packages (from importlib-metadata>=1.5.0->replib.core<2.0,>=1.0->replib.descriptors.tfhub) (3.7.0)\n",
      "Requirement already satisfied: pyparsing!=3.0.5,>=2.0.2 in /root/.cache/pypoetry/virtualenvs/app-jhFzdacP-py3.7/lib/python3.7/site-packages (from packaging>=20.0->replib.core<2.0,>=1.0->replib.descriptors.tfhub) (3.0.6)\n",
      "Requirement already satisfied: pytz>=2017.3 in /root/.cache/pypoetry/virtualenvs/app-jhFzdacP-py3.7/lib/python3.7/site-packages (from pandas<2.0,>=1.1->replib.core<2.0,>=1.0->replib.descriptors.tfhub) (2021.3)\n",
      "Requirement already satisfied: python-dateutil>=2.7.3 in /root/.cache/pypoetry/virtualenvs/app-jhFzdacP-py3.7/lib/python3.7/site-packages (from pandas<2.0,>=1.1->replib.core<2.0,>=1.0->replib.descriptors.tfhub) (2.8.2)\n",
      "Collecting markdown>=2.6.8\n",
      "  Downloading https://pypi.artifacts.furycloud.io/packages/markdown/3.4.1/Markdown-3.4.1-py3-none-any.whl (93 kB)\n",
      "\u001b[2K     \u001b[90m━━━━━━━━━━━━━━━━━━━━━━━━━━━━━━━━━━━━━━━━\u001b[0m \u001b[32m93.3/93.3 KB\u001b[0m \u001b[31m14.6 MB/s\u001b[0m eta \u001b[36m0:00:00\u001b[0m\n",
      "\u001b[?25hRequirement already satisfied: setuptools>=41.0.0 in /root/.cache/pypoetry/virtualenvs/app-jhFzdacP-py3.7/lib/python3.7/site-packages (from tensorboard~=2.4->tensorflow<2.5.0,>=2.4.0->replib.descriptors.tfhub) (62.1.0)\n",
      "Collecting tensorboard-plugin-wit>=1.6.0\n",
      "  Downloading https://pypi.artifacts.furycloud.io/packages/tensorboard-plugin-wit/1.8.1/tensorboard_plugin_wit-1.8.1-py3-none-any.whl (781 kB)\n",
      "\u001b[2K     \u001b[90m━━━━━━━━━━━━━━━━━━━━━━━━━━━━━━━━━━━━━━\u001b[0m \u001b[32m781.3/781.3 KB\u001b[0m \u001b[31m53.4 MB/s\u001b[0m eta \u001b[36m0:00:00\u001b[0m\n",
      "\u001b[?25hCollecting tensorboard-data-server<0.7.0,>=0.6.0\n",
      "  Downloading https://pypi.artifacts.furycloud.io/packages/tensorboard-data-server/0.6.1/tensorboard_data_server-0.6.1-py3-none-manylinux2010_x86_64.whl (4.9 MB)\n",
      "\u001b[2K     \u001b[90m━━━━━━━━━━━━━━━━━━━━━━━━━━━━━━━━━━━━━━━━\u001b[0m \u001b[32m4.9/4.9 MB\u001b[0m \u001b[31m78.2 MB/s\u001b[0m eta \u001b[36m0:00:00\u001b[0mta \u001b[36m0:00:01\u001b[0m\n",
      "\u001b[?25hCollecting werkzeug>=1.0.1\n",
      "  Downloading https://pypi.artifacts.furycloud.io/packages/werkzeug/2.2.2/Werkzeug-2.2.2-py3-none-any.whl (232 kB)\n",
      "\u001b[2K     \u001b[90m━━━━━━━━━━━━━━━━━━━━━━━━━━━━━━━━━━━━━━\u001b[0m \u001b[32m232.7/232.7 KB\u001b[0m \u001b[31m33.1 MB/s\u001b[0m eta \u001b[36m0:00:00\u001b[0m\n",
      "\u001b[?25hCollecting google-auth-oauthlib<0.5,>=0.4.1\n",
      "  Downloading https://pypi.artifacts.furycloud.io/packages/google-auth-oauthlib/0.4.6/google_auth_oauthlib-0.4.6-py2.py3-none-any.whl (18 kB)\n",
      "Requirement already satisfied: google-auth<3,>=1.6.3 in /root/.cache/pypoetry/virtualenvs/app-jhFzdacP-py3.7/lib/python3.7/site-packages (from tensorboard~=2.4->tensorflow<2.5.0,>=2.4.0->replib.descriptors.tfhub) (2.3.3)\n",
      "Requirement already satisfied: cryptography<37.0.0,>=36.0.1 in /root/.cache/pypoetry/virtualenvs/app-jhFzdacP-py3.7/lib/python3.7/site-packages (from tiger-python-helper<0.8.0,>=0.7.0->replib.core<2.0,>=1.0->replib.descriptors.tfhub) (36.0.1)\n",
      "Collecting pyjwt<3.0.0,>=2.4.0\n",
      "  Downloading https://pypi.artifacts.furycloud.io/packages/pyjwt/2.5.0/PyJWT-2.5.0-py3-none-any.whl (20 kB)\n",
      "Collecting chardet>=3.0.2\n",
      "  Downloading https://pypi.artifacts.furycloud.io/packages/chardet/5.0.0/chardet-5.0.0-py3-none-any.whl (193 kB)\n",
      "\u001b[2K     \u001b[90m━━━━━━━━━━━━━━━━━━━━━━━━━━━━━━━━━━━━━━\u001b[0m \u001b[32m193.6/193.6 KB\u001b[0m \u001b[31m29.7 MB/s\u001b[0m eta \u001b[36m0:00:00\u001b[0m\n",
      "\u001b[?25hRequirement already satisfied: cffi>=1.12 in /root/.cache/pypoetry/virtualenvs/app-jhFzdacP-py3.7/lib/python3.7/site-packages (from cryptography<37.0.0,>=36.0.1->tiger-python-helper<0.8.0,>=0.7.0->replib.core<2.0,>=1.0->replib.descriptors.tfhub) (1.15.0)\n",
      "Requirement already satisfied: smmap<6,>=3.0.1 in /root/.cache/pypoetry/virtualenvs/app-jhFzdacP-py3.7/lib/python3.7/site-packages (from gitdb<5,>=4.0.1->gitpython<4.0.0,>=3.0.0->replib.core<2.0,>=1.0->replib.descriptors.tfhub) (5.0.0)\n",
      "Requirement already satisfied: rsa<5,>=3.1.4 in /root/.cache/pypoetry/virtualenvs/app-jhFzdacP-py3.7/lib/python3.7/site-packages (from google-auth<3,>=1.6.3->tensorboard~=2.4->tensorflow<2.5.0,>=2.4.0->replib.descriptors.tfhub) (4.8)\n",
      "Requirement already satisfied: cachetools<5.0,>=2.0.0 in /root/.cache/pypoetry/virtualenvs/app-jhFzdacP-py3.7/lib/python3.7/site-packages (from google-auth<3,>=1.6.3->tensorboard~=2.4->tensorflow<2.5.0,>=2.4.0->replib.descriptors.tfhub) (4.2.4)\n",
      "Requirement already satisfied: pyasn1-modules>=0.2.1 in /root/.cache/pypoetry/virtualenvs/app-jhFzdacP-py3.7/lib/python3.7/site-packages (from google-auth<3,>=1.6.3->tensorboard~=2.4->tensorflow<2.5.0,>=2.4.0->replib.descriptors.tfhub) (0.2.8)\n",
      "Collecting requests-oauthlib>=0.7.0\n",
      "  Downloading https://pypi.artifacts.furycloud.io/packages/requests-oauthlib/1.3.1/requests_oauthlib-1.3.1-py2.py3-none-any.whl (23 kB)\n",
      "Requirement already satisfied: MarkupSafe>=2.0 in /usr/local/lib/python3.7/site-packages (from Jinja2<4.0.0,>=2.7->cookiecutter<2.0.0,>=1.0.0->replib.core<2.0,>=1.0->replib.descriptors.tfhub) (2.1.1)\n",
      "Collecting arrow\n",
      "  Downloading https://pypi.artifacts.furycloud.io/packages/arrow/1.2.3/arrow-1.2.3-py3-none-any.whl (66 kB)\n",
      "\u001b[2K     \u001b[90m━━━━━━━━━━━━━━━━━━━━━━━━━━━━━━━━━━━━━━━━\u001b[0m \u001b[32m66.4/66.4 KB\u001b[0m \u001b[31m11.8 MB/s\u001b[0m eta \u001b[36m0:00:00\u001b[0m\n",
      "\u001b[?25hCollecting text-unidecode>=1.3\n",
      "  Downloading https://pypi.artifacts.furycloud.io/packages/text-unidecode/1.3/text_unidecode-1.3-py2.py3-none-any.whl (78 kB)\n",
      "\u001b[2K     \u001b[90m━━━━━━━━━━━━━━━━━━━━━━━━━━━━━━━━━━━━━━━━\u001b[0m \u001b[32m78.2/78.2 KB\u001b[0m \u001b[31m10.0 MB/s\u001b[0m eta \u001b[36m0:00:00\u001b[0m\n",
      "\u001b[?25hRequirement already satisfied: pycparser in /root/.cache/pypoetry/virtualenvs/app-jhFzdacP-py3.7/lib/python3.7/site-packages (from cffi>=1.12->cryptography<37.0.0,>=36.0.1->tiger-python-helper<0.8.0,>=0.7.0->replib.core<2.0,>=1.0->replib.descriptors.tfhub) (2.21)\n",
      "Requirement already satisfied: pyasn1<0.5.0,>=0.4.6 in /root/.cache/pypoetry/virtualenvs/app-jhFzdacP-py3.7/lib/python3.7/site-packages (from pyasn1-modules>=0.2.1->google-auth<3,>=1.6.3->tensorboard~=2.4->tensorflow<2.5.0,>=2.4.0->replib.descriptors.tfhub) (0.4.8)\n",
      "Collecting oauthlib>=3.0.0\n",
      "  Downloading https://pypi.artifacts.furycloud.io/packages/oauthlib/3.2.1/oauthlib-3.2.1-py3-none-any.whl (151 kB)\n",
      "\u001b[2K     \u001b[90m━━━━━━━━━━━━━━━━━━━━━━━━━━━━━━━━━━━━━━\u001b[0m \u001b[32m151.7/151.7 KB\u001b[0m \u001b[31m23.9 MB/s\u001b[0m eta \u001b[36m0:00:00\u001b[0m\n",
      "\u001b[?25hBuilding wheels for collected packages: termcolor, wrapt\n",
      "  Building wheel for termcolor (setup.py) ... \u001b[?25ldone\n",
      "\u001b[?25h  Created wheel for termcolor: filename=termcolor-1.1.0-py3-none-any.whl size=4848 sha256=9e995893d03a163c0abf250e467f8517b42b57b8f7a353a07e918b540a6d3b4c\n",
      "  Stored in directory: /root/.cache/pip/wheels/cb/19/52/0801497f319638548870eab6ea6eab21e2179ece2e5322df6e\n",
      "  Building wheel for wrapt (setup.py) ... \u001b[?25ldone\n",
      "\u001b[?25h  Created wheel for wrapt: filename=wrapt-1.12.1-cp37-cp37m-linux_x86_64.whl size=77195 sha256=cc56e0876172c41dac1238ad75d48989d4e5e16087fb8b2cbd23dc03dcd3484b\n",
      "  Stored in directory: /root/.cache/pip/wheels/b4/93/49/0cafcaebfea8a29ee7aa7e0f3c5c7a3bc36e7c162a3eb6969e\n",
      "Successfully built termcolor wrapt\n",
      "Installing collected packages: wrapt, typing-extensions, text-unidecode, termcolor, tensorflow-estimator, tensorboard-plugin-wit, flatbuffers, commonmark, werkzeug, tensorboard-data-server, six, setproctitle, python-slugify, pyjwt, poyo, oauthlib, numpy, gast, chardet, tensorflow_hub, requests-oauthlib, opt-einsum, markdown, keras-preprocessing, h5py, grpcio, google-pasta, binaryornot, astunparse, absl-py, tiger-python-helper, google-auth-oauthlib, consolemd, arrow, tensorboard, jinja2-time, tensorflow, cookiecutter, tensorflow-text, replib.core, replib.descriptors.tfhub\n",
      "  Attempting uninstall: wrapt\n",
      "    Found existing installation: wrapt 1.13.3\n",
      "    Uninstalling wrapt-1.13.3:\n",
      "      Successfully uninstalled wrapt-1.13.3\n",
      "  Attempting uninstall: typing-extensions\n",
      "    Found existing installation: typing_extensions 4.0.1\n",
      "    Uninstalling typing_extensions-4.0.1:\n",
      "      Successfully uninstalled typing_extensions-4.0.1\n",
      "  Attempting uninstall: six\n",
      "    Found existing installation: six 1.16.0\n",
      "    Uninstalling six-1.16.0:\n",
      "      Successfully uninstalled six-1.16.0\n",
      "  Attempting uninstall: numpy\n",
      "    Found existing installation: numpy 1.21.5\n",
      "    Uninstalling numpy-1.21.5:\n",
      "      Successfully uninstalled numpy-1.21.5\n",
      "  Attempting uninstall: grpcio\n",
      "    Found existing installation: grpcio 1.43.0\n",
      "    Uninstalling grpcio-1.43.0:\n",
      "      Successfully uninstalled grpcio-1.43.0\n",
      "\u001b[31mERROR: pip's dependency resolver does not currently take into account all the packages that are installed. This behaviour is the source of the following dependency conflicts.\n",
      "grpcio-status 1.43.0 requires grpcio>=1.43.0, but you have grpcio 1.32.0 which is incompatible.\n",
      "google-cloud-bigquery 2.31.0 requires grpcio<2.0dev,>=1.38.1, but you have grpcio 1.32.0 which is incompatible.\n",
      "nbclient 0.6.8 requires traitlets>=5.2.2, but you have traitlets 5.1.1 which is incompatible.\n",
      "mlp-config 0.3.2 requires click<9.0.0,>=8.1.2, but you have click 8.0.3 which is incompatible.\n",
      "mlp-config 0.3.2 requires emoji<2.0.0,>=1.7.0, but you have emoji 1.6.1 which is incompatible.\n",
      "mlp-config 0.3.2 requires pyyaml<6.0.0,>=5.4.1, but you have pyyaml 6.0 which is incompatible.\u001b[0m\u001b[31m\n",
      "\u001b[0mSuccessfully installed absl-py-0.15.0 arrow-1.2.3 astunparse-1.6.3 binaryornot-0.4.4 chardet-5.0.0 commonmark-0.9.1 consolemd-0.5.1 cookiecutter-1.7.3 flatbuffers-1.12 gast-0.3.3 google-auth-oauthlib-0.4.6 google-pasta-0.2.0 grpcio-1.32.0 h5py-2.10.0 jinja2-time-0.2.0 keras-preprocessing-1.1.2 markdown-3.4.1 numpy-1.21.6 oauthlib-3.2.1 opt-einsum-3.3.0 poyo-0.5.0 pyjwt-2.5.0 python-slugify-6.1.2 replib.core-1.3.3 replib.descriptors.tfhub-2.0.6 requests-oauthlib-1.3.1 setproctitle-1.3.2 six-1.16.0 tensorboard-2.10.1 tensorboard-data-server-0.6.1 tensorboard-plugin-wit-1.8.1 tensorflow-2.4.4 tensorflow-estimator-2.4.0 tensorflow-text-2.4.3 tensorflow_hub-0.12.0 termcolor-1.1.0 text-unidecode-1.3 tiger-python-helper-0.7.1 typing-extensions-4.3.0 werkzeug-2.2.2 wrapt-1.12.1\n",
      "\u001b[33mWARNING: Running pip as the 'root' user can result in broken permissions and conflicting behaviour with the system package manager. It is recommended to use a virtual environment instead: https://pip.pypa.io/warnings/venv\u001b[0m\u001b[33m\n",
      "\u001b[0m\u001b[33mWARNING: You are using pip version 22.0.4; however, version 22.2.2 is available.\n",
      "You should consider upgrading via the '/usr/local/bin/python3 -m pip install --upgrade pip' command.\u001b[0m\u001b[33m\n",
      "\u001b[0m"
     ]
    }
   ],
   "source": [
    "!pip install --index-url https://pypi.artifacts.furycloud.io \\\n",
    "    replib.descriptors.tfhub"
   ]
  },
  {
   "cell_type": "code",
   "execution_count": 1,
   "id": "f13565b3",
   "metadata": {},
   "outputs": [
    {
     "name": "stderr",
     "output_type": "stream",
     "text": [
      "/root/.cache/pypoetry/virtualenvs/app-jhFzdacP-py3.7/lib/python3.7/site-packages/requests/__init__.py:104: RequestsDependencyWarning: urllib3 (1.26.7) or chardet (5.0.0)/charset_normalizer (2.0.10) doesn't match a supported version!\n",
      "2022-09-29 11:00:59.273490: W tensorflow/stream_executor/platform/default/dso_loader.cc:60] Could not load dynamic library 'libcudart.so.11.0'; dlerror: libcudart.so.11.0: cannot open shared object file: No such file or directory\n",
      "2022-09-29 11:00:59.273534: I tensorflow/stream_executor/cuda/cudart_stub.cc:29] Ignore above cudart dlerror if you do not have a GPU set up on your machine.\n",
      "2022-09-29 11:01:00.681682: I tensorflow/compiler/jit/xla_cpu_device.cc:41] Not creating XLA devices, tf_xla_enable_xla_devices not set\n",
      "2022-09-29 11:01:00.681884: W tensorflow/stream_executor/platform/default/dso_loader.cc:60] Could not load dynamic library 'libcuda.so.1'; dlerror: libcuda.so.1: cannot open shared object file: No such file or directory\n",
      "2022-09-29 11:01:00.681897: W tensorflow/stream_executor/cuda/cuda_driver.cc:326] failed call to cuInit: UNKNOWN ERROR (303)\n",
      "2022-09-29 11:01:00.681919: I tensorflow/stream_executor/cuda/cuda_diagnostics.cc:156] kernel driver does not appear to be running on this host (a405b7a3e79a): /proc/driver/nvidia/version does not exist\n"
     ]
    }
   ],
   "source": [
    "import textdistance as td\n",
    "import json\n",
    "import base64\n",
    "import pandas as pd\n",
    "import csv\n",
    "import numpy as np\n",
    "import pyarrow\n",
    "from sklearn.model_selection import RandomizedSearchCV, GridSearchCV, StratifiedKFold, train_test_split\n",
    "import matplotlib.pyplot as plt\n",
    "import pickle\n",
    "import seaborn as sns\n",
    "import xgboost\n",
    "import numpy as np\n",
    "from sklearn.decomposition import PCA\n",
    "from sklearn.preprocessing import StandardScaler\n",
    "from sklearn import metrics\n",
    "from sklearn.metrics import confusion_matrix\n",
    "from plotnine import *\n",
    "from melitk.melipass import get_secret\n",
    "import textacy.preprocessing as tpr\n",
    "from sklearn.neighbors import NearestNeighbors\n",
    "from replib.descriptors.tfhub import TensorFlowHub\n",
    "from tqdm import tqdm\n",
    "import annoy\n",
    "import tensorflow_hub as hub\n",
    "import tensorflow_text"
   ]
  },
  {
   "cell_type": "code",
   "execution_count": 3,
   "id": "6d05f355",
   "metadata": {},
   "outputs": [
    {
     "name": "stdout",
     "output_type": "stream",
     "text": [
      "0.12.0\n"
     ]
    }
   ],
   "source": [
    "print(hub.__version__)"
   ]
  },
  {
   "cell_type": "code",
   "execution_count": 4,
   "id": "f9d6d232",
   "metadata": {},
   "outputs": [],
   "source": [
    "from google.cloud import bigquery\n",
    "from google.oauth2 import service_account\n",
    "class ConnBigQuery:\n",
    "    def __init__(self, service_account):\n",
    "        self.service_account = service_account\n",
    "        self.credentials = self._credentials()\n",
    "        self.client = self._client()\n",
    "    def _client(self):\n",
    "        return bigquery.Client(\n",
    "            credentials=self.credentials, project=self.credentials.project_id\n",
    "        )\n",
    "    def _credentials(self):\n",
    "        return service_account.Credentials.from_service_account_info(\n",
    "            self.service_account,\n",
    "            scopes=[\"https://www.googleapis.com/auth/cloud-platform\"],\n",
    "        )\n",
    "    def execute_response(self, query):\n",
    "        rows = self.client.query(query).result()\n",
    "        return [dict(row) for row in rows]\n",
    "    def create_table(self, table_id, schema):\n",
    "        table = bigquery.Table(table_id, schema=schema)\n",
    "        self.client.create_table(table)\n",
    "    def delete_table(self, table_id):\n",
    "        table = bigquery.Table(table_id)\n",
    "        self.client.delete_table(table, not_found_ok=True)\n",
    "    def dataframe_to_table(self, table, df, schema):\n",
    "        self.client.insert_rows_from_dataframe(\n",
    "            table=table, dataframe=df, selected_fields=schema\n",
    "        )"
   ]
  },
  {
   "cell_type": "code",
   "execution_count": 5,
   "id": "ecbf5a7b",
   "metadata": {},
   "outputs": [],
   "source": [
    "credencialesBQ = eval(base64.b64decode(get_secret(\"SECRET_BQ\")))\n",
    "bq_connec = ConnBigQuery(credencialesBQ)"
   ]
  },
  {
   "cell_type": "code",
   "execution_count": null,
   "id": "ab5aeeca",
   "metadata": {},
   "outputs": [],
   "source": []
  },
  {
   "cell_type": "code",
   "execution_count": 6,
   "id": "4a3dbebe",
   "metadata": {},
   "outputs": [],
   "source": [
    "model = TensorFlowHub(\n",
    "    pre_fitted_version=\"universal-sentence-encoder-multilingual-v3\"\n",
    ")"
   ]
  },
  {
   "cell_type": "code",
   "execution_count": 7,
   "id": "3d5f9150",
   "metadata": {},
   "outputs": [
    {
     "name": "stderr",
     "output_type": "stream",
     "text": [
      "2022-09-29 11:02:07.169174: I tensorflow/core/platform/cpu_feature_guard.cc:142] This TensorFlow binary is optimized with oneAPI Deep Neural Network Library (oneDNN) to use the following CPU instructions in performance-critical operations:  AVX2 AVX512F FMA\n",
      "To enable them in other operations, rebuild TensorFlow with the appropriate compiler flags.\n",
      "2022-09-29 11:02:07.169557: I tensorflow/compiler/jit/xla_gpu_device.cc:99] Not creating XLA devices, tf_xla_enable_xla_devices not set\n",
      "2022-09-29 11:02:09.359249: I tensorflow/compiler/mlir/mlir_graph_optimization_pass.cc:116] None of the MLIR optimization passes are enabled (registered 2)\n",
      "2022-09-29 11:02:09.398423: I tensorflow/core/platform/profile_utils/cpu_utils.cc:112] CPU Frequency: 2499995000 Hz\n"
     ]
    }
   ],
   "source": [
    "embed = hub.load(\"https://tfhub.dev/google/universal-sentence-encoder-multilingual/3\")"
   ]
  },
  {
   "cell_type": "markdown",
   "id": "d9ddbd86",
   "metadata": {},
   "source": [
    "# 1. Lectura de datos"
   ]
  },
  {
   "cell_type": "code",
   "execution_count": 8,
   "id": "6e7b76c2",
   "metadata": {},
   "outputs": [],
   "source": [
    "assortment_df = pd.read_csv('mlb_nielsen_products.csv')\n",
    "assortment_df = assortment_df[['Categoria', 'SubCategoria', 'Descrição Produto']]\n",
    "assortment_df.drop_duplicates(inplace=True)"
   ]
  },
  {
   "cell_type": "code",
   "execution_count": 9,
   "id": "e1ccd70e",
   "metadata": {},
   "outputs": [],
   "source": [
    "assortment_df.columns = ['category', 'subcategory', 'title']\n",
    "assortment_df[\"id\"] = assortment_df.index"
   ]
  },
  {
   "cell_type": "code",
   "execution_count": 10,
   "id": "6ba12def",
   "metadata": {},
   "outputs": [
    {
     "data": {
      "text/html": [
       "<div>\n",
       "<style scoped>\n",
       "    .dataframe tbody tr th:only-of-type {\n",
       "        vertical-align: middle;\n",
       "    }\n",
       "\n",
       "    .dataframe tbody tr th {\n",
       "        vertical-align: top;\n",
       "    }\n",
       "\n",
       "    .dataframe thead th {\n",
       "        text-align: right;\n",
       "    }\n",
       "</style>\n",
       "<table border=\"1\" class=\"dataframe\">\n",
       "  <thead>\n",
       "    <tr style=\"text-align: right;\">\n",
       "      <th></th>\n",
       "      <th>category</th>\n",
       "      <th>subcategory</th>\n",
       "      <th>title</th>\n",
       "      <th>id</th>\n",
       "    </tr>\n",
       "  </thead>\n",
       "  <tbody>\n",
       "    <tr>\n",
       "      <th>0</th>\n",
       "      <td>Alimentos e Bebidas</td>\n",
       "      <td>Chocolates</td>\n",
       "      <td>Chocolate Kitkat 4 Fingers Ao Leite 41,5g</td>\n",
       "      <td>0</td>\n",
       "    </tr>\n",
       "    <tr>\n",
       "      <th>1</th>\n",
       "      <td>Alimentos e Bebidas</td>\n",
       "      <td>Chocolates</td>\n",
       "      <td>CAIXA BOMBOM 250G GAROTO</td>\n",
       "      <td>1</td>\n",
       "    </tr>\n",
       "    <tr>\n",
       "      <th>2</th>\n",
       "      <td>Alimentos e Bebidas</td>\n",
       "      <td>Chocolates</td>\n",
       "      <td>CAIXA BOMBOM ESPECIALIDADES 251G NESTLE</td>\n",
       "      <td>2</td>\n",
       "    </tr>\n",
       "    <tr>\n",
       "      <th>3</th>\n",
       "      <td>Alimentos e Bebidas</td>\n",
       "      <td>Whisky</td>\n",
       "      <td>Whisky%20Johnnie%20Walker%20Red%20Label%20Esco...</td>\n",
       "      <td>3</td>\n",
       "    </tr>\n",
       "    <tr>\n",
       "      <th>4</th>\n",
       "      <td>Alimentos e Bebidas</td>\n",
       "      <td>Leite em Pó</td>\n",
       "      <td>Leite em Pó Aptamil 2 800g</td>\n",
       "      <td>4</td>\n",
       "    </tr>\n",
       "    <tr>\n",
       "      <th>5</th>\n",
       "      <td>Alimentos e Bebidas</td>\n",
       "      <td>Whisky</td>\n",
       "      <td>Whisky Buchanans Deluxe 12 anos Blended 1L</td>\n",
       "      <td>5</td>\n",
       "    </tr>\n",
       "    <tr>\n",
       "      <th>6</th>\n",
       "      <td>Alimentos e Bebidas</td>\n",
       "      <td>Vinho</td>\n",
       "      <td>Punta Negra Reserva Tradición Malbec 2019</td>\n",
       "      <td>6</td>\n",
       "    </tr>\n",
       "    <tr>\n",
       "      <th>7</th>\n",
       "      <td>Alimentos e Bebidas</td>\n",
       "      <td>Salgadinho</td>\n",
       "      <td>BATATA PRINGLES ORIGINAL 114G</td>\n",
       "      <td>7</td>\n",
       "    </tr>\n",
       "    <tr>\n",
       "      <th>8</th>\n",
       "      <td>Alimentos e Bebidas</td>\n",
       "      <td>Leite em Pó</td>\n",
       "      <td>Leite em Pó Danone Aptanutri 3 800g</td>\n",
       "      <td>8</td>\n",
       "    </tr>\n",
       "    <tr>\n",
       "      <th>9</th>\n",
       "      <td>Alimentos e Bebidas</td>\n",
       "      <td>Cereal / Proteína em Barra</td>\n",
       "      <td>Barra de proteína com recheio - Growth Supplem...</td>\n",
       "      <td>9</td>\n",
       "    </tr>\n",
       "  </tbody>\n",
       "</table>\n",
       "</div>"
      ],
      "text/plain": [
       "              category                 subcategory  \\\n",
       "0  Alimentos e Bebidas                  Chocolates   \n",
       "1  Alimentos e Bebidas                  Chocolates   \n",
       "2  Alimentos e Bebidas                  Chocolates   \n",
       "3  Alimentos e Bebidas                      Whisky   \n",
       "4  Alimentos e Bebidas                 Leite em Pó   \n",
       "5  Alimentos e Bebidas                      Whisky   \n",
       "6  Alimentos e Bebidas                       Vinho   \n",
       "7  Alimentos e Bebidas                  Salgadinho   \n",
       "8  Alimentos e Bebidas                 Leite em Pó   \n",
       "9  Alimentos e Bebidas  Cereal / Proteína em Barra   \n",
       "\n",
       "                                               title  id  \n",
       "0          Chocolate Kitkat 4 Fingers Ao Leite 41,5g   0  \n",
       "1                           CAIXA BOMBOM 250G GAROTO   1  \n",
       "2            CAIXA BOMBOM ESPECIALIDADES 251G NESTLE   2  \n",
       "3  Whisky%20Johnnie%20Walker%20Red%20Label%20Esco...   3  \n",
       "4                         Leite em Pó Aptamil 2 800g   4  \n",
       "5         Whisky Buchanans Deluxe 12 anos Blended 1L   5  \n",
       "6          Punta Negra Reserva Tradición Malbec 2019   6  \n",
       "7                      BATATA PRINGLES ORIGINAL 114G   7  \n",
       "8                Leite em Pó Danone Aptanutri 3 800g   8  \n",
       "9  Barra de proteína com recheio - Growth Supplem...   9  "
      ]
     },
     "execution_count": 10,
     "metadata": {},
     "output_type": "execute_result"
    }
   ],
   "source": [
    "assortment_df.head(10)"
   ]
  },
  {
   "cell_type": "code",
   "execution_count": 27,
   "id": "9c941f4a",
   "metadata": {},
   "outputs": [],
   "source": [
    "des = model.transform(assortment_df.title.iloc[10:11].values)"
   ]
  },
  {
   "cell_type": "code",
   "execution_count": 18,
   "id": "bc5f4369",
   "metadata": {},
   "outputs": [
    {
     "data": {
      "text/plain": [
       "numpy.ndarray"
      ]
     },
     "execution_count": 18,
     "metadata": {},
     "output_type": "execute_result"
    }
   ],
   "source": [
    "type(des)"
   ]
  },
  {
   "cell_type": "code",
   "execution_count": 28,
   "id": "f02eb4c4",
   "metadata": {},
   "outputs": [],
   "source": [
    "des1 = np.array(embed(assortment_df.title.iloc[10:11].values))"
   ]
  },
  {
   "cell_type": "code",
   "execution_count": 29,
   "id": "0e67bd64",
   "metadata": {},
   "outputs": [
    {
     "data": {
      "text/plain": [
       "numpy.ndarray"
      ]
     },
     "execution_count": 29,
     "metadata": {},
     "output_type": "execute_result"
    }
   ],
   "source": [
    "type(des1)"
   ]
  },
  {
   "cell_type": "code",
   "execution_count": 30,
   "id": "0d3db22c",
   "metadata": {},
   "outputs": [
    {
     "data": {
      "text/plain": [
       "True"
      ]
     },
     "execution_count": 30,
     "metadata": {},
     "output_type": "execute_result"
    }
   ],
   "source": [
    "np.array_equal(des, des1)"
   ]
  },
  {
   "cell_type": "code",
   "execution_count": 21,
   "id": "250306e4",
   "metadata": {},
   "outputs": [],
   "source": [
    "table = 'meli-bi-data.ML_DEV.TMP_ASSORTMENT_MLB_NIELSEN_ITEMS'\n",
    "\n",
    "schema = [bigquery.SchemaField(\"category\", bigquery.enums.SqlTypeNames.STRING),\n",
    "          bigquery.SchemaField(\"subcategory\", bigquery.enums.SqlTypeNames.STRING),\n",
    "          bigquery.SchemaField(\"title\", bigquery.enums.SqlTypeNames.STRING),\n",
    "          bigquery.SchemaField(\"id\", bigquery.enums.SqlTypeNames.INT64)\n",
    "         ]\n",
    "\n",
    "for df_chunk in np.array_split(assortment_df, 10):\n",
    "    job_config = bigquery.LoadJobConfig(schema=schema)\n",
    "    job_config.write_disposition = bigquery.WriteDisposition.WRITE_APPEND\n",
    "    # Load data to BQ\n",
    "    job = bq_connec.client.load_table_from_dataframe(df_chunk, table, job_config=job_config)\n",
    "    job.result()"
   ]
  },
  {
   "cell_type": "markdown",
   "id": "2b58c93a",
   "metadata": {},
   "source": [
    " "
   ]
  },
  {
   "cell_type": "markdown",
   "id": "0083502c",
   "metadata": {},
   "source": [
    " "
   ]
  },
  {
   "cell_type": "markdown",
   "id": "b186b7c4",
   "metadata": {},
   "source": [
    "# 2. Preprocesamiento de datos"
   ]
  },
  {
   "cell_type": "code",
   "execution_count": 8,
   "id": "39cb4dad",
   "metadata": {},
   "outputs": [],
   "source": [
    "def title_preprocesing(df):\n",
    "    df = df.apply(lambda x: tpr.remove.accents(x))\n",
    "    df = df.apply(lambda x: tpr.replace.urls(x, repl=''))\n",
    "    df = df.apply(lambda x: tpr.replace.hashtags(x, repl=''))\n",
    "    df = df.apply(lambda x: tpr.replace.currency_symbols(x, repl=''))\n",
    "    df = df.apply(lambda x: tpr.remove.punctuation(x))\n",
    "    df = df.apply(lambda x: x.lower())\n",
    "    \n",
    "    return df"
   ]
  },
  {
   "cell_type": "code",
   "execution_count": 9,
   "id": "1df53ac6",
   "metadata": {},
   "outputs": [],
   "source": [
    "assortment_modified_df = assortment_df"
   ]
  },
  {
   "cell_type": "code",
   "execution_count": 10,
   "id": "1db2060f",
   "metadata": {},
   "outputs": [
    {
     "data": {
      "text/html": [
       "<div>\n",
       "<style scoped>\n",
       "    .dataframe tbody tr th:only-of-type {\n",
       "        vertical-align: middle;\n",
       "    }\n",
       "\n",
       "    .dataframe tbody tr th {\n",
       "        vertical-align: top;\n",
       "    }\n",
       "\n",
       "    .dataframe thead th {\n",
       "        text-align: right;\n",
       "    }\n",
       "</style>\n",
       "<table border=\"1\" class=\"dataframe\">\n",
       "  <thead>\n",
       "    <tr style=\"text-align: right;\">\n",
       "      <th></th>\n",
       "      <th>category</th>\n",
       "      <th>subcategory</th>\n",
       "      <th>title</th>\n",
       "      <th>id</th>\n",
       "      <th>cat_complete</th>\n",
       "    </tr>\n",
       "  </thead>\n",
       "  <tbody>\n",
       "    <tr>\n",
       "      <th>0</th>\n",
       "      <td>alimentos e bebidas</td>\n",
       "      <td>chocolates</td>\n",
       "      <td>chocolate kitkat 4 fingers ao leite 41 5g</td>\n",
       "      <td>0</td>\n",
       "      <td>alimentos e bebidas chocolates</td>\n",
       "    </tr>\n",
       "    <tr>\n",
       "      <th>1</th>\n",
       "      <td>alimentos e bebidas</td>\n",
       "      <td>chocolates</td>\n",
       "      <td>caixa bombom 250g garoto</td>\n",
       "      <td>1</td>\n",
       "      <td>alimentos e bebidas chocolates</td>\n",
       "    </tr>\n",
       "    <tr>\n",
       "      <th>2</th>\n",
       "      <td>alimentos e bebidas</td>\n",
       "      <td>chocolates</td>\n",
       "      <td>caixa bombom especialidades 251g nestle</td>\n",
       "      <td>2</td>\n",
       "      <td>alimentos e bebidas chocolates</td>\n",
       "    </tr>\n",
       "    <tr>\n",
       "      <th>3</th>\n",
       "      <td>alimentos e bebidas</td>\n",
       "      <td>whisky</td>\n",
       "      <td>whisky 20johnnie 20walker 20red 20label 20esco...</td>\n",
       "      <td>3</td>\n",
       "      <td>alimentos e bebidas whisky</td>\n",
       "    </tr>\n",
       "    <tr>\n",
       "      <th>4</th>\n",
       "      <td>alimentos e bebidas</td>\n",
       "      <td>leite em po</td>\n",
       "      <td>leite em po aptamil 2 800g</td>\n",
       "      <td>4</td>\n",
       "      <td>alimentos e bebidas leite em po</td>\n",
       "    </tr>\n",
       "    <tr>\n",
       "      <th>5</th>\n",
       "      <td>alimentos e bebidas</td>\n",
       "      <td>whisky</td>\n",
       "      <td>whisky buchanans deluxe 12 anos blended 1l</td>\n",
       "      <td>5</td>\n",
       "      <td>alimentos e bebidas whisky</td>\n",
       "    </tr>\n",
       "    <tr>\n",
       "      <th>6</th>\n",
       "      <td>alimentos e bebidas</td>\n",
       "      <td>vinho</td>\n",
       "      <td>punta negra reserva tradicion malbec 2019</td>\n",
       "      <td>6</td>\n",
       "      <td>alimentos e bebidas vinho</td>\n",
       "    </tr>\n",
       "    <tr>\n",
       "      <th>7</th>\n",
       "      <td>alimentos e bebidas</td>\n",
       "      <td>salgadinho</td>\n",
       "      <td>batata pringles original 114g</td>\n",
       "      <td>7</td>\n",
       "      <td>alimentos e bebidas salgadinho</td>\n",
       "    </tr>\n",
       "    <tr>\n",
       "      <th>8</th>\n",
       "      <td>alimentos e bebidas</td>\n",
       "      <td>leite em po</td>\n",
       "      <td>leite em po danone aptanutri 3 800g</td>\n",
       "      <td>8</td>\n",
       "      <td>alimentos e bebidas leite em po</td>\n",
       "    </tr>\n",
       "    <tr>\n",
       "      <th>9</th>\n",
       "      <td>alimentos e bebidas</td>\n",
       "      <td>cereal   proteina em barra</td>\n",
       "      <td>barra de proteina com recheio   growth supplem...</td>\n",
       "      <td>9</td>\n",
       "      <td>alimentos e bebidas cereal   proteina em barra</td>\n",
       "    </tr>\n",
       "  </tbody>\n",
       "</table>\n",
       "</div>"
      ],
      "text/plain": [
       "              category                 subcategory  \\\n",
       "0  alimentos e bebidas                  chocolates   \n",
       "1  alimentos e bebidas                  chocolates   \n",
       "2  alimentos e bebidas                  chocolates   \n",
       "3  alimentos e bebidas                      whisky   \n",
       "4  alimentos e bebidas                 leite em po   \n",
       "5  alimentos e bebidas                      whisky   \n",
       "6  alimentos e bebidas                       vinho   \n",
       "7  alimentos e bebidas                  salgadinho   \n",
       "8  alimentos e bebidas                 leite em po   \n",
       "9  alimentos e bebidas  cereal   proteina em barra   \n",
       "\n",
       "                                               title  id  \\\n",
       "0          chocolate kitkat 4 fingers ao leite 41 5g   0   \n",
       "1                           caixa bombom 250g garoto   1   \n",
       "2            caixa bombom especialidades 251g nestle   2   \n",
       "3  whisky 20johnnie 20walker 20red 20label 20esco...   3   \n",
       "4                         leite em po aptamil 2 800g   4   \n",
       "5         whisky buchanans deluxe 12 anos blended 1l   5   \n",
       "6          punta negra reserva tradicion malbec 2019   6   \n",
       "7                      batata pringles original 114g   7   \n",
       "8                leite em po danone aptanutri 3 800g   8   \n",
       "9  barra de proteina com recheio   growth supplem...   9   \n",
       "\n",
       "                                     cat_complete  \n",
       "0                  alimentos e bebidas chocolates  \n",
       "1                  alimentos e bebidas chocolates  \n",
       "2                  alimentos e bebidas chocolates  \n",
       "3                      alimentos e bebidas whisky  \n",
       "4                 alimentos e bebidas leite em po  \n",
       "5                      alimentos e bebidas whisky  \n",
       "6                       alimentos e bebidas vinho  \n",
       "7                  alimentos e bebidas salgadinho  \n",
       "8                 alimentos e bebidas leite em po  \n",
       "9  alimentos e bebidas cereal   proteina em barra  "
      ]
     },
     "execution_count": 10,
     "metadata": {},
     "output_type": "execute_result"
    }
   ],
   "source": [
    "assortment_modified_df['category'] = title_preprocesing(assortment_modified_df['category'])\n",
    "assortment_modified_df['subcategory'] = title_preprocesing(assortment_modified_df['subcategory'])\n",
    "assortment_modified_df['title'] = title_preprocesing(assortment_modified_df['title'])\n",
    "\n",
    "assortment_modified_df['cat_complete'] = assortment_modified_df.apply(lambda x: x.category + ' ' + x.subcategory, axis = 1)\n",
    "assortment_modified_df = assortment_modified_df.reset_index(drop = True)\n",
    "\n",
    "assortment_modified_df.head(10)"
   ]
  },
  {
   "cell_type": "markdown",
   "id": "a28cd578",
   "metadata": {},
   "source": [
    " "
   ]
  },
  {
   "cell_type": "markdown",
   "id": "44fad392",
   "metadata": {},
   "source": [
    " "
   ]
  },
  {
   "cell_type": "markdown",
   "id": "b2da0ae0",
   "metadata": {},
   "source": [
    "# 3. Cálculo de Embeddings"
   ]
  },
  {
   "cell_type": "code",
   "execution_count": 16,
   "id": "20d3ac33",
   "metadata": {},
   "outputs": [],
   "source": [
    "model = TensorFlowHub(\n",
    "    pre_fitted_version=\"universal-sentence-encoder-multilingual-v3\"\n",
    ")"
   ]
  },
  {
   "cell_type": "code",
   "execution_count": 11,
   "id": "9a4d0bf6",
   "metadata": {},
   "outputs": [
    {
     "name": "stdout",
     "output_type": "stream",
     "text": [
      "1\n"
     ]
    }
   ],
   "source": [
    "chunk_size = 10000\n",
    "chunks = int(np.ceil(assortment_modified_df.shape[0] / chunk_size))\n",
    "\n",
    "print(chunks)"
   ]
  },
  {
   "cell_type": "code",
   "execution_count": 12,
   "id": "b3237df4",
   "metadata": {},
   "outputs": [
    {
     "name": "stderr",
     "output_type": "stream",
     "text": [
      "2022-08-30 12:29:27.802372: I tensorflow/core/platform/cpu_feature_guard.cc:142] This TensorFlow binary is optimized with oneAPI Deep Neural Network Library (oneDNN) to use the following CPU instructions in performance-critical operations:  AVX2 AVX512F FMA\n",
      "To enable them in other operations, rebuild TensorFlow with the appropriate compiler flags.\n",
      "2022-08-30 12:29:27.802711: I tensorflow/compiler/jit/xla_gpu_device.cc:99] Not creating XLA devices, tf_xla_enable_xla_devices not set\n",
      "2022-08-30 12:29:32.116141: I tensorflow/compiler/mlir/mlir_graph_optimization_pass.cc:116] None of the MLIR optimization passes are enabled (registered 2)\n",
      "2022-08-30 12:29:32.158701: I tensorflow/core/platform/profile_utils/cpu_utils.cc:112] CPU Frequency: 2499995000 Hz\n"
     ]
    },
    {
     "name": "stdout",
     "output_type": "stream",
     "text": [
      "WARNING:tensorflow:No training configuration found in save file, so the model was *not* compiled. Compile it manually.\n"
     ]
    },
    {
     "name": "stderr",
     "output_type": "stream",
     "text": [
      "/root/.cache/pypoetry/virtualenvs/app-jhFzdacP-py3.7/lib/python3.7/site-packages/sklearn/base.py:338: UserWarning: Trying to unpickle estimator Pipeline from version 0.24.1 when using version 1.0.2. This might lead to breaking code or invalid results. Use at your own risk. For more info please refer to:\n",
      "https://scikit-learn.org/stable/modules/model_persistence.html#security-maintainability-limitations\n"
     ]
    },
    {
     "name": "stdout",
     "output_type": "stream",
     "text": [
      "Chunk #0: 9.11 seconds\n"
     ]
    }
   ],
   "source": [
    "import time\n",
    "\n",
    "emb_array = np.zeros((1,512))\n",
    "\n",
    "for i in range(chunks):\n",
    "    t0 = time.time()\n",
    "    emb_array = np.append(\n",
    "        emb_array, \n",
    "        model.transform(assortment_modified_df.cat_complete.iloc[i*chunk_size:(i+1)*chunk_size].tolist()),\n",
    "        axis = 0\n",
    "    )\n",
    "    t1 = time.time()\n",
    "\n",
    "    print(f'Chunk #{i}: {round(t1-t0, 2)} seconds')"
   ]
  },
  {
   "cell_type": "code",
   "execution_count": 13,
   "id": "6eed6f64",
   "metadata": {},
   "outputs": [
    {
     "data": {
      "text/plain": [
       "(6414, 512)"
      ]
     },
     "execution_count": 13,
     "metadata": {},
     "output_type": "execute_result"
    }
   ],
   "source": [
    "emb_array = np.delete(emb_array, 0, 0)\n",
    "emb_array.shape"
   ]
  },
  {
   "cell_type": "markdown",
   "id": "3d135b9b",
   "metadata": {},
   "source": [
    " "
   ]
  },
  {
   "cell_type": "markdown",
   "id": "f70de679",
   "metadata": {},
   "source": [
    " "
   ]
  },
  {
   "cell_type": "markdown",
   "id": "59cddf74",
   "metadata": {},
   "source": [
    "# 4. Categorias"
   ]
  },
  {
   "cell_type": "markdown",
   "id": "628f88e1",
   "metadata": {},
   "source": [
    "## 4.1 Categorias (CAT+SUBCAT)"
   ]
  },
  {
   "cell_type": "markdown",
   "id": "d1713f21",
   "metadata": {},
   "source": [
    "El primer paso es hacer similaridad entre categoría + subcategoría de nielsen contra L1 + L3 de MeLi"
   ]
  },
  {
   "cell_type": "code",
   "execution_count": 14,
   "id": "bab9e05e",
   "metadata": {},
   "outputs": [],
   "source": [
    "query = \"\"\"\n",
    "    SELECT DISTINCT\n",
    "        SIT_SITE_ID,\n",
    "\n",
    "        CAT_CATEG_ID_L1,\n",
    "        CAT_CATEG_ID_L2,\n",
    "        CAT_CATEG_ID_L3,\n",
    "\n",
    "        CAT_CATEG_NAME_L1,\n",
    "        CAT_CATEG_NAME_L2,\n",
    "        CAT_CATEG_NAME_L3,\n",
    "\n",
    "        CAT_DOMAIN_ID\n",
    "\n",
    "    FROM\n",
    "        `meli-bi-data.WHOWNER.AG_LK_CAT_CATEGORIES_PH`\n",
    "    WHERE\n",
    "        SIT_SITE_ID = 'MLB'\n",
    "    AND\n",
    "        PHOTO_ID = 'TODATE'\n",
    "    AND\n",
    "        CAT_DOMAIN_ID IS NOT NULL\n",
    "\"\"\""
   ]
  },
  {
   "cell_type": "code",
   "execution_count": 15,
   "id": "059917fc",
   "metadata": {},
   "outputs": [],
   "source": [
    "categories_df = pd.DataFrame(bq_connec.execute_response(query))"
   ]
  },
  {
   "cell_type": "code",
   "execution_count": 16,
   "id": "c7969683",
   "metadata": {},
   "outputs": [
    {
     "data": {
      "text/plain": [
       "(10499, 8)"
      ]
     },
     "execution_count": 16,
     "metadata": {},
     "output_type": "execute_result"
    }
   ],
   "source": [
    "categories_df.shape"
   ]
  },
  {
   "cell_type": "code",
   "execution_count": 17,
   "id": "47550131",
   "metadata": {},
   "outputs": [
    {
     "data": {
      "text/html": [
       "<div>\n",
       "<style scoped>\n",
       "    .dataframe tbody tr th:only-of-type {\n",
       "        vertical-align: middle;\n",
       "    }\n",
       "\n",
       "    .dataframe tbody tr th {\n",
       "        vertical-align: top;\n",
       "    }\n",
       "\n",
       "    .dataframe thead th {\n",
       "        text-align: right;\n",
       "    }\n",
       "</style>\n",
       "<table border=\"1\" class=\"dataframe\">\n",
       "  <thead>\n",
       "    <tr style=\"text-align: right;\">\n",
       "      <th></th>\n",
       "      <th>SIT_SITE_ID</th>\n",
       "      <th>CAT_CATEG_ID_L1</th>\n",
       "      <th>CAT_CATEG_ID_L2</th>\n",
       "      <th>CAT_CATEG_ID_L3</th>\n",
       "      <th>CAT_CATEG_NAME_L1</th>\n",
       "      <th>CAT_CATEG_NAME_L2</th>\n",
       "      <th>CAT_CATEG_NAME_L3</th>\n",
       "      <th>CAT_DOMAIN_ID</th>\n",
       "      <th>CAT_COMPLETE</th>\n",
       "    </tr>\n",
       "  </thead>\n",
       "  <tbody>\n",
       "    <tr>\n",
       "      <th>0</th>\n",
       "      <td>MLB</td>\n",
       "      <td>218519</td>\n",
       "      <td>225897</td>\n",
       "      <td>225897</td>\n",
       "      <td>ingressos</td>\n",
       "      <td>Ingressos de Coleção</td>\n",
       "      <td>level 3 ingressos de colecao</td>\n",
       "      <td>MLB-EVENT_TICKETS</td>\n",
       "      <td>ingressos level 3 ingressos de colecao</td>\n",
       "    </tr>\n",
       "    <tr>\n",
       "      <th>1</th>\n",
       "      <td>MLB</td>\n",
       "      <td>1459</td>\n",
       "      <td>1466</td>\n",
       "      <td>1468</td>\n",
       "      <td>imoveis</td>\n",
       "      <td>Casas</td>\n",
       "      <td>venda</td>\n",
       "      <td>MLB-DEVELOPMENT_HOUSES_FOR_SALE</td>\n",
       "      <td>imoveis venda</td>\n",
       "    </tr>\n",
       "    <tr>\n",
       "      <th>2</th>\n",
       "      <td>MLB</td>\n",
       "      <td>1459</td>\n",
       "      <td>214910</td>\n",
       "      <td>214916</td>\n",
       "      <td>imoveis</td>\n",
       "      <td>Sítios</td>\n",
       "      <td>temporada</td>\n",
       "      <td>MLB-FARM_HOUSES_FOR_VACATION_RENTAL</td>\n",
       "      <td>imoveis temporada</td>\n",
       "    </tr>\n",
       "    <tr>\n",
       "      <th>3</th>\n",
       "      <td>MLB</td>\n",
       "      <td>1540</td>\n",
       "      <td>9141</td>\n",
       "      <td>9138</td>\n",
       "      <td>servicos</td>\n",
       "      <td>Festas e Eventos</td>\n",
       "      <td>equipes</td>\n",
       "      <td>MLB-OTHER_SERVICES</td>\n",
       "      <td>servicos equipes</td>\n",
       "    </tr>\n",
       "    <tr>\n",
       "      <th>4</th>\n",
       "      <td>MLB</td>\n",
       "      <td>218519</td>\n",
       "      <td>255707</td>\n",
       "      <td>255707</td>\n",
       "      <td>ingressos</td>\n",
       "      <td>Shows</td>\n",
       "      <td>level 3 shows</td>\n",
       "      <td>MLB-CONCERT_TICKETS</td>\n",
       "      <td>ingressos level 3 shows</td>\n",
       "    </tr>\n",
       "    <tr>\n",
       "      <th>5</th>\n",
       "      <td>MLB</td>\n",
       "      <td>1196</td>\n",
       "      <td>455868</td>\n",
       "      <td>455868</td>\n",
       "      <td>livros  revistas e comics</td>\n",
       "      <td>Ebooks</td>\n",
       "      <td>level 3 ebooks</td>\n",
       "      <td>MLB-EBOOKS</td>\n",
       "      <td>livros  revistas e comics level 3 ebooks</td>\n",
       "    </tr>\n",
       "    <tr>\n",
       "      <th>6</th>\n",
       "      <td>MLB</td>\n",
       "      <td>1540</td>\n",
       "      <td>63955</td>\n",
       "      <td>64123</td>\n",
       "      <td>servicos</td>\n",
       "      <td>Animais</td>\n",
       "      <td>hotel e canil</td>\n",
       "      <td>MLB-PET_SERVICES</td>\n",
       "      <td>servicos hotel e canil</td>\n",
       "    </tr>\n",
       "    <tr>\n",
       "      <th>7</th>\n",
       "      <td>MLB</td>\n",
       "      <td>1459</td>\n",
       "      <td>214910</td>\n",
       "      <td>214914</td>\n",
       "      <td>imoveis</td>\n",
       "      <td>Sítios</td>\n",
       "      <td>venda</td>\n",
       "      <td>MLB-FARM_HOUSES_FOR_SALE</td>\n",
       "      <td>imoveis venda</td>\n",
       "    </tr>\n",
       "    <tr>\n",
       "      <th>8</th>\n",
       "      <td>MLB</td>\n",
       "      <td>1459</td>\n",
       "      <td>215108</td>\n",
       "      <td>215112</td>\n",
       "      <td>imoveis</td>\n",
       "      <td>Galpões</td>\n",
       "      <td>aluguel</td>\n",
       "      <td>MLB-WAREHOUSES_FOR_RENT</td>\n",
       "      <td>imoveis aluguel</td>\n",
       "    </tr>\n",
       "    <tr>\n",
       "      <th>9</th>\n",
       "      <td>MLB</td>\n",
       "      <td>1459</td>\n",
       "      <td>1472</td>\n",
       "      <td>1479</td>\n",
       "      <td>imoveis</td>\n",
       "      <td>Apartamentos</td>\n",
       "      <td>aluguel</td>\n",
       "      <td>MLB-APARTMENTS_FOR_RENT</td>\n",
       "      <td>imoveis aluguel</td>\n",
       "    </tr>\n",
       "  </tbody>\n",
       "</table>\n",
       "</div>"
      ],
      "text/plain": [
       "  SIT_SITE_ID CAT_CATEG_ID_L1 CAT_CATEG_ID_L2 CAT_CATEG_ID_L3  \\\n",
       "0         MLB          218519          225897          225897   \n",
       "1         MLB            1459            1466            1468   \n",
       "2         MLB            1459          214910          214916   \n",
       "3         MLB            1540            9141            9138   \n",
       "4         MLB          218519          255707          255707   \n",
       "5         MLB            1196          455868          455868   \n",
       "6         MLB            1540           63955           64123   \n",
       "7         MLB            1459          214910          214914   \n",
       "8         MLB            1459          215108          215112   \n",
       "9         MLB            1459            1472            1479   \n",
       "\n",
       "           CAT_CATEG_NAME_L1     CAT_CATEG_NAME_L2  \\\n",
       "0                  ingressos  Ingressos de Coleção   \n",
       "1                    imoveis                 Casas   \n",
       "2                    imoveis                Sítios   \n",
       "3                   servicos      Festas e Eventos   \n",
       "4                  ingressos                 Shows   \n",
       "5  livros  revistas e comics                Ebooks   \n",
       "6                   servicos               Animais   \n",
       "7                    imoveis                Sítios   \n",
       "8                    imoveis               Galpões   \n",
       "9                    imoveis          Apartamentos   \n",
       "\n",
       "              CAT_CATEG_NAME_L3                        CAT_DOMAIN_ID  \\\n",
       "0  level 3 ingressos de colecao                    MLB-EVENT_TICKETS   \n",
       "1                         venda      MLB-DEVELOPMENT_HOUSES_FOR_SALE   \n",
       "2                     temporada  MLB-FARM_HOUSES_FOR_VACATION_RENTAL   \n",
       "3                       equipes                   MLB-OTHER_SERVICES   \n",
       "4                 level 3 shows                  MLB-CONCERT_TICKETS   \n",
       "5                level 3 ebooks                           MLB-EBOOKS   \n",
       "6                 hotel e canil                     MLB-PET_SERVICES   \n",
       "7                         venda             MLB-FARM_HOUSES_FOR_SALE   \n",
       "8                       aluguel              MLB-WAREHOUSES_FOR_RENT   \n",
       "9                       aluguel              MLB-APARTMENTS_FOR_RENT   \n",
       "\n",
       "                               CAT_COMPLETE  \n",
       "0    ingressos level 3 ingressos de colecao  \n",
       "1                             imoveis venda  \n",
       "2                         imoveis temporada  \n",
       "3                          servicos equipes  \n",
       "4                   ingressos level 3 shows  \n",
       "5  livros  revistas e comics level 3 ebooks  \n",
       "6                    servicos hotel e canil  \n",
       "7                             imoveis venda  \n",
       "8                           imoveis aluguel  \n",
       "9                           imoveis aluguel  "
      ]
     },
     "execution_count": 17,
     "metadata": {},
     "output_type": "execute_result"
    }
   ],
   "source": [
    "categories_df['CAT_CATEG_NAME_L1'] = title_preprocesing(categories_df['CAT_CATEG_NAME_L1'])\n",
    "categories_df['CAT_CATEG_NAME_L3'] = title_preprocesing(categories_df['CAT_CATEG_NAME_L3'])\n",
    "\n",
    "categories_df['CAT_COMPLETE'] = categories_df.apply(lambda x: x.CAT_CATEG_NAME_L1 + ' ' + x.CAT_CATEG_NAME_L3, axis = 1)\n",
    "categories_df = categories_df.reset_index(drop = True)\n",
    "\n",
    "categories_df.head(10)"
   ]
  },
  {
   "cell_type": "code",
   "execution_count": 18,
   "id": "0f0d65a3",
   "metadata": {},
   "outputs": [
    {
     "name": "stdout",
     "output_type": "stream",
     "text": [
      "2\n"
     ]
    }
   ],
   "source": [
    "chunk_size = 10000\n",
    "chunks = int(np.ceil(categories_df.shape[0] / chunk_size))\n",
    "\n",
    "print(chunks)"
   ]
  },
  {
   "cell_type": "code",
   "execution_count": 19,
   "id": "55a56561",
   "metadata": {},
   "outputs": [
    {
     "name": "stdout",
     "output_type": "stream",
     "text": [
      "Chunk #0: 3.3 seconds\n",
      "Chunk #1: 0.89 seconds\n"
     ]
    }
   ],
   "source": [
    "import time\n",
    "\n",
    "emb_cat_array = np.zeros((1,512))\n",
    "\n",
    "for i in range(chunks):\n",
    "    t0 = time.time()\n",
    "    emb_cat_array = np.append(\n",
    "        emb_cat_array, \n",
    "        model.transform(categories_df.CAT_COMPLETE.iloc[i*chunk_size:(i+1)*chunk_size].tolist()),\n",
    "        axis = 0\n",
    "    )\n",
    "    t1 = time.time()\n",
    "\n",
    "    print(f'Chunk #{i}: {round(t1-t0, 2)} seconds')"
   ]
  },
  {
   "cell_type": "code",
   "execution_count": 20,
   "id": "401c0802",
   "metadata": {},
   "outputs": [
    {
     "data": {
      "text/plain": [
       "(10499, 512)"
      ]
     },
     "execution_count": 20,
     "metadata": {},
     "output_type": "execute_result"
    }
   ],
   "source": [
    "emb_cat_array = np.delete(emb_cat_array, 0, 0)\n",
    "emb_cat_array.shape"
   ]
  },
  {
   "cell_type": "code",
   "execution_count": 21,
   "id": "2aa7a8bf",
   "metadata": {
    "collapsed": true,
    "jupyter": {
     "outputs_hidden": true
    }
   },
   "outputs": [
    {
     "name": "stdout",
     "output_type": "stream",
     "text": [
      "WARNING: pip is being invoked by an old script wrapper. This will fail in a future version of pip.\n",
      "Please see https://github.com/pypa/pip/issues/5599 for advice on fixing the underlying issue.\n",
      "To avoid this problem you can invoke Python with '-m pip' instead of running pip directly.\n",
      "Requirement already satisfied: annoy in /usr/local/lib/python3.7/site-packages (1.17.1)\n",
      "\u001b[33mWARNING: Running pip as the 'root' user can result in broken permissions and conflicting behaviour with the system package manager. It is recommended to use a virtual environment instead: https://pip.pypa.io/warnings/venv\u001b[0m\u001b[33m\n",
      "\u001b[0m\u001b[33mWARNING: You are using pip version 22.0.4; however, version 22.2.2 is available.\n",
      "You should consider upgrading via the '/usr/local/bin/python3 -m pip install --upgrade pip' command.\u001b[0m\u001b[33m\n",
      "\u001b[0m"
     ]
    }
   ],
   "source": [
    "!pip install annoy"
   ]
  },
  {
   "cell_type": "code",
   "execution_count": 23,
   "id": "f14475f7",
   "metadata": {},
   "outputs": [
    {
     "data": {
      "text/plain": [
       "22"
      ]
     },
     "execution_count": 23,
     "metadata": {},
     "output_type": "execute_result"
    }
   ],
   "source": [
    "n, p = emb_cat_array.shape\n",
    "n_trees_from_data = int(np.sqrt(p))\n",
    "n_trees_from_data"
   ]
  },
  {
   "cell_type": "code",
   "execution_count": 24,
   "id": "1638c09c",
   "metadata": {},
   "outputs": [
    {
     "data": {
      "text/plain": [
       "True"
      ]
     },
     "execution_count": 24,
     "metadata": {},
     "output_type": "execute_result"
    }
   ],
   "source": [
    "t = annoy.AnnoyIndex(p, \"euclidean\")\n",
    "for idx, row in enumerate(emb_cat_array):\n",
    "    t.add_item(idx, row)\n",
    "    \n",
    "t.build(n_trees_from_data)"
   ]
  },
  {
   "cell_type": "code",
   "execution_count": 25,
   "id": "e7ead752",
   "metadata": {},
   "outputs": [],
   "source": [
    "columns_names = ['id','category','subcategory','title','CAT_DOMAIN_ID']\n",
    "complete_df = pd.DataFrame(columns=columns_names)\n",
    "\n",
    "for item in range(emb_array.shape[0]):\n",
    "    idx, dist = t.get_nns_by_vector(emb_array[item], n=25, include_distances=True)\n",
    "\n",
    "    neighbours_df = pd.DataFrame(columns=columns_names)\n",
    "\n",
    "    for i, element in enumerate(dist):\n",
    "        if element < 0.6:\n",
    "            aux_df = pd.DataFrame(pd.concat(\n",
    "                [\n",
    "                    assortment_df.iloc[item][['id','category','subcategory','title']],\n",
    "                    categories_df.iloc[idx[i]][['CAT_DOMAIN_ID']]\n",
    "                ]\n",
    "            )\n",
    "            ).T\n",
    "\n",
    "            neighbours_df = pd.concat([aux_df[columns_names], neighbours_df], ignore_index=True)\n",
    "            \n",
    "    complete_df = pd.concat([neighbours_df, complete_df], ignore_index=True)"
   ]
  },
  {
   "cell_type": "code",
   "execution_count": 26,
   "id": "1e33cf5d",
   "metadata": {},
   "outputs": [
    {
     "data": {
      "text/html": [
       "<div>\n",
       "<style scoped>\n",
       "    .dataframe tbody tr th:only-of-type {\n",
       "        vertical-align: middle;\n",
       "    }\n",
       "\n",
       "    .dataframe tbody tr th {\n",
       "        vertical-align: top;\n",
       "    }\n",
       "\n",
       "    .dataframe thead th {\n",
       "        text-align: right;\n",
       "    }\n",
       "</style>\n",
       "<table border=\"1\" class=\"dataframe\">\n",
       "  <thead>\n",
       "    <tr style=\"text-align: right;\">\n",
       "      <th></th>\n",
       "      <th>id</th>\n",
       "      <th>category</th>\n",
       "      <th>subcategory</th>\n",
       "      <th>title</th>\n",
       "      <th>CAT_DOMAIN_ID</th>\n",
       "    </tr>\n",
       "  </thead>\n",
       "  <tbody>\n",
       "    <tr>\n",
       "      <th>15517</th>\n",
       "      <td>0</td>\n",
       "      <td>alimentos e bebidas</td>\n",
       "      <td>chocolates</td>\n",
       "      <td>chocolate kitkat 4 fingers ao leite 41 5g</td>\n",
       "      <td>MLB-CHOCOLATES</td>\n",
       "    </tr>\n",
       "    <tr>\n",
       "      <th>15518</th>\n",
       "      <td>0</td>\n",
       "      <td>alimentos e bebidas</td>\n",
       "      <td>chocolates</td>\n",
       "      <td>chocolate kitkat 4 fingers ao leite 41 5g</td>\n",
       "      <td>MLB-FOODS_AND_DRINKS</td>\n",
       "    </tr>\n",
       "    <tr>\n",
       "      <th>15519</th>\n",
       "      <td>0</td>\n",
       "      <td>alimentos e bebidas</td>\n",
       "      <td>chocolates</td>\n",
       "      <td>chocolate kitkat 4 fingers ao leite 41 5g</td>\n",
       "      <td>MLB-EASTER_EGGS</td>\n",
       "    </tr>\n",
       "    <tr>\n",
       "      <th>15520</th>\n",
       "      <td>0</td>\n",
       "      <td>alimentos e bebidas</td>\n",
       "      <td>chocolates</td>\n",
       "      <td>chocolate kitkat 4 fingers ao leite 41 5g</td>\n",
       "      <td>MLB-CANDIES</td>\n",
       "    </tr>\n",
       "    <tr>\n",
       "      <th>15521</th>\n",
       "      <td>0</td>\n",
       "      <td>alimentos e bebidas</td>\n",
       "      <td>chocolates</td>\n",
       "      <td>chocolate kitkat 4 fingers ao leite 41 5g</td>\n",
       "      <td>MLB-NOUGATS</td>\n",
       "    </tr>\n",
       "  </tbody>\n",
       "</table>\n",
       "</div>"
      ],
      "text/plain": [
       "      id             category subcategory  \\\n",
       "15517  0  alimentos e bebidas  chocolates   \n",
       "15518  0  alimentos e bebidas  chocolates   \n",
       "15519  0  alimentos e bebidas  chocolates   \n",
       "15520  0  alimentos e bebidas  chocolates   \n",
       "15521  0  alimentos e bebidas  chocolates   \n",
       "\n",
       "                                           title         CAT_DOMAIN_ID  \n",
       "15517  chocolate kitkat 4 fingers ao leite 41 5g        MLB-CHOCOLATES  \n",
       "15518  chocolate kitkat 4 fingers ao leite 41 5g  MLB-FOODS_AND_DRINKS  \n",
       "15519  chocolate kitkat 4 fingers ao leite 41 5g       MLB-EASTER_EGGS  \n",
       "15520  chocolate kitkat 4 fingers ao leite 41 5g           MLB-CANDIES  \n",
       "15521  chocolate kitkat 4 fingers ao leite 41 5g           MLB-NOUGATS  "
      ]
     },
     "execution_count": 26,
     "metadata": {},
     "output_type": "execute_result"
    }
   ],
   "source": [
    "complete_df.drop_duplicates(inplace=True)\n",
    "complete_df.tail(5)"
   ]
  },
  {
   "cell_type": "code",
   "execution_count": 27,
   "id": "994ef66f",
   "metadata": {},
   "outputs": [
    {
     "data": {
      "text/plain": [
       "(2224,)"
      ]
     },
     "execution_count": 27,
     "metadata": {},
     "output_type": "execute_result"
    }
   ],
   "source": [
    "complete_df.id.drop_duplicates().shape"
   ]
  },
  {
   "cell_type": "code",
   "execution_count": 28,
   "id": "0a43d9f3",
   "metadata": {},
   "outputs": [
    {
     "data": {
      "text/html": [
       "<div>\n",
       "<style scoped>\n",
       "    .dataframe tbody tr th:only-of-type {\n",
       "        vertical-align: middle;\n",
       "    }\n",
       "\n",
       "    .dataframe tbody tr th {\n",
       "        vertical-align: top;\n",
       "    }\n",
       "\n",
       "    .dataframe thead th {\n",
       "        text-align: right;\n",
       "    }\n",
       "</style>\n",
       "<table border=\"1\" class=\"dataframe\">\n",
       "  <thead>\n",
       "    <tr style=\"text-align: right;\">\n",
       "      <th></th>\n",
       "      <th>id</th>\n",
       "      <th>category</th>\n",
       "      <th>subcategory</th>\n",
       "      <th>title</th>\n",
       "      <th>CAT_DOMAIN_ID</th>\n",
       "    </tr>\n",
       "  </thead>\n",
       "  <tbody>\n",
       "  </tbody>\n",
       "</table>\n",
       "</div>"
      ],
      "text/plain": [
       "Empty DataFrame\n",
       "Columns: [id, category, subcategory, title, CAT_DOMAIN_ID]\n",
       "Index: []"
      ]
     },
     "execution_count": 28,
     "metadata": {},
     "output_type": "execute_result"
    }
   ],
   "source": [
    "complete_df[pd.isna(complete_df.CAT_DOMAIN_ID)]"
   ]
  },
  {
   "cell_type": "markdown",
   "id": "f21e84b7",
   "metadata": {},
   "source": [
    "Como se puede ver, con este enfoque y un threshold de 0.6, se encuentra match de categoría y dominio para 2224 items."
   ]
  },
  {
   "cell_type": "markdown",
   "id": "f5becfd5",
   "metadata": {},
   "source": [
    " \n"
   ]
  },
  {
   "cell_type": "markdown",
   "id": "b4297485",
   "metadata": {},
   "source": [
    "## 4.2 Categorias (Title)"
   ]
  },
  {
   "cell_type": "markdown",
   "id": "19ca64fb",
   "metadata": {},
   "source": [
    "El segundo enfoque consiste en usar una muestra de títulos de cada dominio en meli (al menos 500 por dominio) para la similaridad"
   ]
  },
  {
   "cell_type": "code",
   "execution_count": 29,
   "id": "3e3a1cf7",
   "metadata": {},
   "outputs": [],
   "source": [
    "query = \"\"\"\n",
    "    SELECT \n",
    "        * \n",
    "    FROM \n",
    "        `meli-bi-data.ML_DEV.TMP_SHOPEE_DOMAIN_IDS`\n",
    "\"\"\""
   ]
  },
  {
   "cell_type": "code",
   "execution_count": 30,
   "id": "9a0ad900",
   "metadata": {},
   "outputs": [],
   "source": [
    "domains_df = pd.DataFrame(bq_connec.execute_response(query))"
   ]
  },
  {
   "cell_type": "code",
   "execution_count": 31,
   "id": "22f949a9",
   "metadata": {},
   "outputs": [],
   "source": [
    "def title_brand(title, brands):\n",
    "    for item in brands.split(' '):\n",
    "        brand_add = ''\n",
    "        if item not in title:\n",
    "            brand_add += item\n",
    "            \n",
    "    return title + ' ' + brand_add"
   ]
  },
  {
   "cell_type": "code",
   "execution_count": 32,
   "id": "063d8ee6",
   "metadata": {},
   "outputs": [],
   "source": [
    "domains_df['BRAND_NAME'] = domains_df['BRAND_NAME'].apply(lambda x: '' if x is None else x)\n",
    "domains_df['BRAND_NAME'] = title_preprocesing(domains_df['BRAND_NAME'])\n",
    "domains_df['ITE_ITEM_TITLE'] = title_preprocesing(domains_df['ITE_ITEM_TITLE'])\n",
    "\n",
    "domains_df['TITLE_BRAND'] = domains_df.apply(lambda x: title_brand(x.ITE_ITEM_TITLE, x.BRAND_NAME), axis = 1)\n",
    "\n",
    "domains_df = domains_df.reset_index(drop = True)"
   ]
  },
  {
   "cell_type": "code",
   "execution_count": 33,
   "id": "05538ed9",
   "metadata": {},
   "outputs": [
    {
     "data": {
      "text/html": [
       "<div>\n",
       "<style scoped>\n",
       "    .dataframe tbody tr th:only-of-type {\n",
       "        vertical-align: middle;\n",
       "    }\n",
       "\n",
       "    .dataframe tbody tr th {\n",
       "        vertical-align: top;\n",
       "    }\n",
       "\n",
       "    .dataframe thead th {\n",
       "        text-align: right;\n",
       "    }\n",
       "</style>\n",
       "<table border=\"1\" class=\"dataframe\">\n",
       "  <thead>\n",
       "    <tr style=\"text-align: right;\">\n",
       "      <th></th>\n",
       "      <th>SIT_SITE_ID</th>\n",
       "      <th>ITE_ITEM_DOM_DOMAIN_ID</th>\n",
       "      <th>ITE_ITEM_ID</th>\n",
       "      <th>ITE_ITEM_TITLE</th>\n",
       "      <th>BRAND_NAME</th>\n",
       "      <th>TITLE_BRAND</th>\n",
       "    </tr>\n",
       "  </thead>\n",
       "  <tbody>\n",
       "    <tr>\n",
       "      <th>1959793</th>\n",
       "      <td>MLB</td>\n",
       "      <td>MLB-MUSICAL_KEYBOARD_RUBBER_CONTACTS</td>\n",
       "      <td>1943104517</td>\n",
       "      <td>placa p  teclado yamaha psr e353 regua menor m...</td>\n",
       "      <td>yamaha psr 290 psr 292 psr 295 psr e 303 psr e...</td>\n",
       "      <td>placa p  teclado yamaha psr e353 regua menor m...</td>\n",
       "    </tr>\n",
       "    <tr>\n",
       "      <th>1959794</th>\n",
       "      <td>MLB</td>\n",
       "      <td>MLB-MUSICAL_KEYBOARD_RUBBER_CONTACTS</td>\n",
       "      <td>1943094931</td>\n",
       "      <td>placa p  teclado yamaha psr e323 regua menor m...</td>\n",
       "      <td>yamaha psr 290 psr 292 psr 295 psr e 303 psr e...</td>\n",
       "      <td>placa p  teclado yamaha psr e323 regua menor m...</td>\n",
       "    </tr>\n",
       "    <tr>\n",
       "      <th>1959795</th>\n",
       "      <td>MLB</td>\n",
       "      <td>MLB-MUSICAL_KEYBOARD_RUBBER_CONTACTS</td>\n",
       "      <td>1943100069</td>\n",
       "      <td>placa p  teclado yamaha psre423 regua menor mk...</td>\n",
       "      <td>yamaha psr 290 psr 292 psr 295 psr e 303 psr e...</td>\n",
       "      <td>placa p  teclado yamaha psre423 regua menor mk...</td>\n",
       "    </tr>\n",
       "    <tr>\n",
       "      <th>1959796</th>\n",
       "      <td>MLB</td>\n",
       "      <td>MLB-MUSICAL_KEYBOARD_RUBBER_CONTACTS</td>\n",
       "      <td>1931977077</td>\n",
       "      <td>2 placas p  teclado yamaha s750 reguas xr564 +...</td>\n",
       "      <td>yamaha psr b50 psr 230 psr 330 psr 520  os ult...</td>\n",
       "      <td>2 placas p  teclado yamaha s750 reguas xr564 +...</td>\n",
       "    </tr>\n",
       "    <tr>\n",
       "      <th>1959797</th>\n",
       "      <td>MLB</td>\n",
       "      <td>MLB-TOY_TOOLS_SETS</td>\n",
       "      <td>2644396966</td>\n",
       "      <td>kit ferramentas infantil engenheiro com capace...</td>\n",
       "      <td>kit de ferramentas infantil  kit de ferramenta...</td>\n",
       "      <td>kit ferramentas infantil engenheiro com capace...</td>\n",
       "    </tr>\n",
       "  </tbody>\n",
       "</table>\n",
       "</div>"
      ],
      "text/plain": [
       "        SIT_SITE_ID                ITE_ITEM_DOM_DOMAIN_ID  ITE_ITEM_ID  \\\n",
       "1959793         MLB  MLB-MUSICAL_KEYBOARD_RUBBER_CONTACTS   1943104517   \n",
       "1959794         MLB  MLB-MUSICAL_KEYBOARD_RUBBER_CONTACTS   1943094931   \n",
       "1959795         MLB  MLB-MUSICAL_KEYBOARD_RUBBER_CONTACTS   1943100069   \n",
       "1959796         MLB  MLB-MUSICAL_KEYBOARD_RUBBER_CONTACTS   1931977077   \n",
       "1959797         MLB                    MLB-TOY_TOOLS_SETS   2644396966   \n",
       "\n",
       "                                            ITE_ITEM_TITLE  \\\n",
       "1959793  placa p  teclado yamaha psr e353 regua menor m...   \n",
       "1959794  placa p  teclado yamaha psr e323 regua menor m...   \n",
       "1959795  placa p  teclado yamaha psre423 regua menor mk...   \n",
       "1959796  2 placas p  teclado yamaha s750 reguas xr564 +...   \n",
       "1959797  kit ferramentas infantil engenheiro com capace...   \n",
       "\n",
       "                                                BRAND_NAME  \\\n",
       "1959793  yamaha psr 290 psr 292 psr 295 psr e 303 psr e...   \n",
       "1959794  yamaha psr 290 psr 292 psr 295 psr e 303 psr e...   \n",
       "1959795  yamaha psr 290 psr 292 psr 295 psr e 303 psr e...   \n",
       "1959796  yamaha psr b50 psr 230 psr 330 psr 520  os ult...   \n",
       "1959797  kit de ferramentas infantil  kit de ferramenta...   \n",
       "\n",
       "                                               TITLE_BRAND  \n",
       "1959793  placa p  teclado yamaha psr e353 regua menor m...  \n",
       "1959794  placa p  teclado yamaha psr e323 regua menor m...  \n",
       "1959795  placa p  teclado yamaha psre423 regua menor mk...  \n",
       "1959796  2 placas p  teclado yamaha s750 reguas xr564 +...  \n",
       "1959797  kit ferramentas infantil engenheiro com capace...  "
      ]
     },
     "execution_count": 33,
     "metadata": {},
     "output_type": "execute_result"
    }
   ],
   "source": [
    "domains_df.tail(5)"
   ]
  },
  {
   "cell_type": "code",
   "execution_count": 34,
   "id": "28c17aca",
   "metadata": {},
   "outputs": [
    {
     "name": "stdout",
     "output_type": "stream",
     "text": [
      "196\n"
     ]
    }
   ],
   "source": [
    "chunk_size = 10000\n",
    "chunks = int(np.ceil(domains_df.shape[0] / chunk_size))\n",
    "\n",
    "print(chunks)"
   ]
  },
  {
   "cell_type": "code",
   "execution_count": 35,
   "id": "32a4a17a",
   "metadata": {},
   "outputs": [
    {
     "name": "stdout",
     "output_type": "stream",
     "text": [
      "Chunk #0: 3.74 seconds\n",
      "Chunk #1: 3.93 seconds\n",
      "Chunk #2: 3.96 seconds\n",
      "Chunk #3: 4.21 seconds\n",
      "Chunk #4: 4.21 seconds\n",
      "Chunk #5: 4.17 seconds\n",
      "Chunk #6: 4.6 seconds\n",
      "Chunk #7: 4.5 seconds\n",
      "Chunk #8: 4.51 seconds\n",
      "Chunk #9: 4.6 seconds\n",
      "Chunk #10: 4.51 seconds\n",
      "Chunk #11: 4.7 seconds\n",
      "Chunk #12: 4.63 seconds\n",
      "Chunk #13: 4.62 seconds\n",
      "Chunk #14: 4.42 seconds\n",
      "Chunk #15: 4.51 seconds\n",
      "Chunk #16: 4.62 seconds\n",
      "Chunk #17: 4.69 seconds\n",
      "Chunk #18: 4.63 seconds\n",
      "Chunk #19: 4.68 seconds\n",
      "Chunk #20: 4.81 seconds\n",
      "Chunk #21: 4.7 seconds\n",
      "Chunk #22: 4.77 seconds\n",
      "Chunk #23: 4.71 seconds\n",
      "Chunk #24: 4.74 seconds\n",
      "Chunk #25: 4.86 seconds\n",
      "Chunk #26: 4.86 seconds\n",
      "Chunk #27: 4.86 seconds\n",
      "Chunk #28: 4.79 seconds\n",
      "Chunk #29: 5.07 seconds\n",
      "Chunk #30: 4.79 seconds\n",
      "Chunk #31: 4.85 seconds\n",
      "Chunk #32: 4.88 seconds\n",
      "Chunk #33: 4.42 seconds\n",
      "Chunk #34: 4.54 seconds\n",
      "Chunk #35: 4.55 seconds\n",
      "Chunk #36: 4.64 seconds\n",
      "Chunk #37: 4.69 seconds\n",
      "Chunk #38: 4.68 seconds\n",
      "Chunk #39: 5.14 seconds\n",
      "Chunk #40: 5.09 seconds\n",
      "Chunk #41: 5.06 seconds\n",
      "Chunk #42: 5.23 seconds\n",
      "Chunk #43: 5.08 seconds\n",
      "Chunk #44: 5.35 seconds\n",
      "Chunk #45: 5.23 seconds\n",
      "Chunk #46: 5.16 seconds\n",
      "Chunk #47: 4.99 seconds\n",
      "Chunk #48: 5.14 seconds\n",
      "Chunk #49: 5.08 seconds\n",
      "Chunk #50: 5.17 seconds\n",
      "Chunk #51: 5.27 seconds\n",
      "Chunk #52: 5.33 seconds\n",
      "Chunk #53: 5.5 seconds\n",
      "Chunk #54: 5.34 seconds\n",
      "Chunk #55: 5.36 seconds\n",
      "Chunk #56: 5.28 seconds\n",
      "Chunk #57: 5.34 seconds\n",
      "Chunk #58: 5.44 seconds\n",
      "Chunk #59: 5.42 seconds\n",
      "Chunk #60: 5.43 seconds\n",
      "Chunk #61: 5.42 seconds\n",
      "Chunk #62: 5.55 seconds\n",
      "Chunk #63: 5.38 seconds\n",
      "Chunk #64: 5.48 seconds\n",
      "Chunk #65: 5.56 seconds\n",
      "Chunk #66: 5.5 seconds\n",
      "Chunk #67: 5.55 seconds\n",
      "Chunk #68: 5.52 seconds\n",
      "Chunk #69: 5.67 seconds\n",
      "Chunk #70: 5.57 seconds\n",
      "Chunk #71: 5.48 seconds\n",
      "Chunk #72: 5.52 seconds\n",
      "Chunk #73: 5.45 seconds\n",
      "Chunk #74: 5.49 seconds\n",
      "Chunk #75: 5.57 seconds\n",
      "Chunk #76: 5.54 seconds\n",
      "Chunk #77: 5.62 seconds\n",
      "Chunk #78: 5.62 seconds\n",
      "Chunk #79: 5.73 seconds\n",
      "Chunk #80: 5.63 seconds\n",
      "Chunk #81: 5.59 seconds\n",
      "Chunk #82: 5.84 seconds\n",
      "Chunk #83: 5.85 seconds\n",
      "Chunk #84: 5.83 seconds\n",
      "Chunk #85: 5.95 seconds\n",
      "Chunk #86: 6.01 seconds\n",
      "Chunk #87: 6.11 seconds\n",
      "Chunk #88: 5.99 seconds\n",
      "Chunk #89: 5.88 seconds\n",
      "Chunk #90: 5.93 seconds\n",
      "Chunk #91: 6.08 seconds\n",
      "Chunk #92: 5.95 seconds\n",
      "Chunk #93: 5.99 seconds\n",
      "Chunk #94: 5.88 seconds\n",
      "Chunk #95: 6.03 seconds\n",
      "Chunk #96: 6.15 seconds\n",
      "Chunk #97: 6.09 seconds\n",
      "Chunk #98: 6.17 seconds\n",
      "Chunk #99: 6.08 seconds\n",
      "Chunk #100: 6.05 seconds\n",
      "Chunk #101: 6.22 seconds\n",
      "Chunk #102: 6.03 seconds\n",
      "Chunk #103: 5.99 seconds\n",
      "Chunk #104: 6.07 seconds\n",
      "Chunk #105: 6.07 seconds\n",
      "Chunk #106: 6.14 seconds\n",
      "Chunk #107: 6.06 seconds\n",
      "Chunk #108: 6.12 seconds\n",
      "Chunk #109: 6.16 seconds\n",
      "Chunk #110: 6.12 seconds\n",
      "Chunk #111: 6.06 seconds\n",
      "Chunk #112: 6.16 seconds\n",
      "Chunk #113: 6.18 seconds\n",
      "Chunk #114: 6.42 seconds\n",
      "Chunk #115: 6.37 seconds\n",
      "Chunk #116: 6.4 seconds\n",
      "Chunk #117: 6.54 seconds\n",
      "Chunk #118: 6.49 seconds\n",
      "Chunk #119: 6.64 seconds\n",
      "Chunk #120: 6.39 seconds\n",
      "Chunk #121: 6.53 seconds\n",
      "Chunk #122: 6.47 seconds\n",
      "Chunk #123: 6.57 seconds\n",
      "Chunk #124: 6.61 seconds\n",
      "Chunk #125: 6.53 seconds\n",
      "Chunk #126: 6.62 seconds\n",
      "Chunk #127: 6.55 seconds\n",
      "Chunk #128: 6.57 seconds\n",
      "Chunk #129: 6.69 seconds\n",
      "Chunk #130: 6.78 seconds\n",
      "Chunk #131: 6.56 seconds\n",
      "Chunk #132: 6.68 seconds\n",
      "Chunk #133: 6.74 seconds\n",
      "Chunk #134: 6.82 seconds\n",
      "Chunk #135: 6.75 seconds\n",
      "Chunk #136: 6.76 seconds\n",
      "Chunk #137: 6.86 seconds\n",
      "Chunk #138: 6.84 seconds\n",
      "Chunk #139: 6.69 seconds\n",
      "Chunk #140: 6.68 seconds\n",
      "Chunk #141: 6.92 seconds\n",
      "Chunk #142: 6.76 seconds\n",
      "Chunk #143: 6.91 seconds\n",
      "Chunk #144: 6.81 seconds\n",
      "Chunk #145: 6.91 seconds\n",
      "Chunk #146: 6.85 seconds\n",
      "Chunk #147: 6.99 seconds\n",
      "Chunk #148: 7.01 seconds\n",
      "Chunk #149: 6.98 seconds\n",
      "Chunk #150: 7.05 seconds\n",
      "Chunk #151: 7.1 seconds\n",
      "Chunk #152: 7.11 seconds\n",
      "Chunk #153: 7.09 seconds\n",
      "Chunk #154: 7.06 seconds\n",
      "Chunk #155: 7.06 seconds\n",
      "Chunk #156: 6.97 seconds\n",
      "Chunk #157: 7.3 seconds\n",
      "Chunk #158: 7.16 seconds\n",
      "Chunk #159: 7.22 seconds\n",
      "Chunk #160: 7.23 seconds\n",
      "Chunk #161: 7.14 seconds\n",
      "Chunk #162: 7.18 seconds\n",
      "Chunk #163: 7.28 seconds\n",
      "Chunk #164: 7.05 seconds\n",
      "Chunk #165: 7.26 seconds\n",
      "Chunk #166: 7.22 seconds\n",
      "Chunk #167: 7.37 seconds\n",
      "Chunk #168: 7.5 seconds\n",
      "Chunk #169: 7.26 seconds\n",
      "Chunk #170: 7.42 seconds\n",
      "Chunk #171: 7.3 seconds\n",
      "Chunk #172: 7.2 seconds\n",
      "Chunk #173: 7.35 seconds\n",
      "Chunk #174: 7.48 seconds\n",
      "Chunk #175: 7.41 seconds\n",
      "Chunk #176: 7.55 seconds\n",
      "Chunk #177: 7.48 seconds\n",
      "Chunk #178: 7.43 seconds\n",
      "Chunk #179: 7.39 seconds\n",
      "Chunk #180: 7.54 seconds\n",
      "Chunk #181: 7.49 seconds\n",
      "Chunk #182: 7.39 seconds\n",
      "Chunk #183: 7.51 seconds\n",
      "Chunk #184: 7.66 seconds\n",
      "Chunk #185: 7.59 seconds\n",
      "Chunk #186: 7.65 seconds\n",
      "Chunk #187: 7.63 seconds\n",
      "Chunk #188: 7.68 seconds\n",
      "Chunk #189: 7.65 seconds\n",
      "Chunk #190: 7.81 seconds\n",
      "Chunk #191: 7.82 seconds\n",
      "Chunk #192: 7.93 seconds\n",
      "Chunk #193: 7.86 seconds\n",
      "Chunk #194: 7.77 seconds\n",
      "Chunk #195: 8.43 seconds\n"
     ]
    }
   ],
   "source": [
    "import time\n",
    "\n",
    "emb_dom_array = np.zeros((1,512))\n",
    "\n",
    "for i in range(chunks):\n",
    "    t0 = time.time()\n",
    "    emb_dom_array = np.append(\n",
    "        emb_dom_array, \n",
    "        model.transform(domains_df.TITLE_BRAND.iloc[i*chunk_size:(i+1)*chunk_size].tolist()),\n",
    "        axis = 0\n",
    "    )\n",
    "    t1 = time.time()\n",
    "\n",
    "    print(f'Chunk #{i}: {round(t1-t0, 2)} seconds')"
   ]
  },
  {
   "cell_type": "code",
   "execution_count": 36,
   "id": "0b3238f5",
   "metadata": {},
   "outputs": [
    {
     "data": {
      "text/plain": [
       "(1959798, 512)"
      ]
     },
     "execution_count": 36,
     "metadata": {},
     "output_type": "execute_result"
    }
   ],
   "source": [
    "emb_dom_array = np.delete(emb_dom_array, 0, 0)\n",
    "emb_dom_array.shape"
   ]
  },
  {
   "cell_type": "code",
   "execution_count": 37,
   "id": "693c16b2",
   "metadata": {},
   "outputs": [
    {
     "data": {
      "text/plain": [
       "22"
      ]
     },
     "execution_count": 37,
     "metadata": {},
     "output_type": "execute_result"
    }
   ],
   "source": [
    "n, p = emb_dom_array.shape\n",
    "n_trees_from_data = int(np.sqrt(p))\n",
    "n_trees_from_data"
   ]
  },
  {
   "cell_type": "code",
   "execution_count": 38,
   "id": "1db3be51",
   "metadata": {},
   "outputs": [
    {
     "data": {
      "text/plain": [
       "True"
      ]
     },
     "execution_count": 38,
     "metadata": {},
     "output_type": "execute_result"
    }
   ],
   "source": [
    "dom_tree = annoy.AnnoyIndex(p, \"euclidean\")\n",
    "for idx, row in enumerate(emb_dom_array):\n",
    "    dom_tree.add_item(idx, row)\n",
    "    \n",
    "dom_tree.build(n_trees_from_data)"
   ]
  },
  {
   "cell_type": "code",
   "execution_count": 39,
   "id": "1a7a5bb3",
   "metadata": {},
   "outputs": [
    {
     "data": {
      "text/plain": [
       "True"
      ]
     },
     "execution_count": 39,
     "metadata": {},
     "output_type": "execute_result"
    }
   ],
   "source": [
    "dom_tree.save('models/domain.tree')"
   ]
  },
  {
   "cell_type": "markdown",
   "id": "9b8cd22b",
   "metadata": {},
   "source": [
    "Se usa un threshold de 1.0 para la similaridad (a diferencia del 0.6 que se usó con las categorías)"
   ]
  },
  {
   "cell_type": "code",
   "execution_count": 40,
   "id": "7e1d5ee2",
   "metadata": {},
   "outputs": [
    {
     "name": "stdout",
     "output_type": "stream",
     "text": [
      "item: 0\n",
      "item: 200\n",
      "item: 400\n",
      "item: 600\n",
      "item: 800\n",
      "item: 1000\n",
      "item: 1200\n",
      "item: 1400\n",
      "item: 1600\n",
      "item: 1800\n",
      "item: 2000\n",
      "item: 2200\n",
      "item: 2400\n",
      "item: 2600\n",
      "item: 2800\n",
      "item: 3000\n",
      "item: 3200\n",
      "item: 3400\n",
      "item: 3600\n",
      "item: 3800\n",
      "item: 4000\n",
      "item: 4200\n",
      "item: 4400\n",
      "item: 4600\n",
      "item: 4800\n",
      "item: 5000\n",
      "item: 5200\n",
      "item: 5400\n",
      "item: 5600\n",
      "item: 5800\n",
      "item: 6000\n",
      "item: 6200\n",
      "item: 6400\n"
     ]
    }
   ],
   "source": [
    "columns_names = ['id','category','subcategory','title','ITE_ITEM_DOM_DOMAIN_ID']\n",
    "complete_dom_df = pd.DataFrame(columns=columns_names)\n",
    "\n",
    "for item in range(emb_array.shape[0]):\n",
    "    idx, dist = dom_tree.get_nns_by_vector(emb_array[item], n=25, include_distances=True)\n",
    "\n",
    "    neighbours_df = pd.DataFrame(columns=columns_names)\n",
    "\n",
    "    for i, element in enumerate(dist):\n",
    "        if element < 1.0:\n",
    "            aux_df = pd.DataFrame(pd.concat(\n",
    "                [\n",
    "                    assortment_df.iloc[item][['id','category','subcategory','title']],\n",
    "                    domains_df.iloc[idx[i]][['ITE_ITEM_DOM_DOMAIN_ID']]\n",
    "                ]\n",
    "            )\n",
    "            ).T\n",
    "\n",
    "            neighbours_df = pd.concat([aux_df[columns_names], neighbours_df], ignore_index=True)\n",
    "    \n",
    "    neighbours_df.drop_duplicates(inplace=True)\n",
    "            \n",
    "    complete_dom_df = pd.concat([neighbours_df, complete_dom_df], ignore_index=True)\n",
    "    \n",
    "    if item % 200 == 0:\n",
    "        print(f'item: {item}')"
   ]
  },
  {
   "cell_type": "code",
   "execution_count": 41,
   "id": "47fa86ca",
   "metadata": {},
   "outputs": [
    {
     "data": {
      "text/html": [
       "<div>\n",
       "<style scoped>\n",
       "    .dataframe tbody tr th:only-of-type {\n",
       "        vertical-align: middle;\n",
       "    }\n",
       "\n",
       "    .dataframe tbody tr th {\n",
       "        vertical-align: top;\n",
       "    }\n",
       "\n",
       "    .dataframe thead th {\n",
       "        text-align: right;\n",
       "    }\n",
       "</style>\n",
       "<table border=\"1\" class=\"dataframe\">\n",
       "  <thead>\n",
       "    <tr style=\"text-align: right;\">\n",
       "      <th></th>\n",
       "      <th>id</th>\n",
       "      <th>category</th>\n",
       "      <th>subcategory</th>\n",
       "      <th>title</th>\n",
       "      <th>CAT_DOMAIN_ID</th>\n",
       "    </tr>\n",
       "  </thead>\n",
       "  <tbody>\n",
       "    <tr>\n",
       "      <th>0</th>\n",
       "      <td>6413</td>\n",
       "      <td>vhs</td>\n",
       "      <td>vhs</td>\n",
       "      <td>apcrifos e pseudo epgrafos da bblia vol 3</td>\n",
       "      <td>MLB-VIDEO_CASSETTES</td>\n",
       "    </tr>\n",
       "    <tr>\n",
       "      <th>1</th>\n",
       "      <td>6413</td>\n",
       "      <td>vhs</td>\n",
       "      <td>vhs</td>\n",
       "      <td>apcrifos e pseudo epgrafos da bblia vol 3</td>\n",
       "      <td>MLB-EROTIC_MOVIES</td>\n",
       "    </tr>\n",
       "    <tr>\n",
       "      <th>2</th>\n",
       "      <td>6413</td>\n",
       "      <td>vhs</td>\n",
       "      <td>vhs</td>\n",
       "      <td>apcrifos e pseudo epgrafos da bblia vol 3</td>\n",
       "      <td>MLB-DRONE_MODULES</td>\n",
       "    </tr>\n",
       "    <tr>\n",
       "      <th>3</th>\n",
       "      <td>6413</td>\n",
       "      <td>vhs</td>\n",
       "      <td>vhs</td>\n",
       "      <td>apcrifos e pseudo epgrafos da bblia vol 3</td>\n",
       "      <td>MLB-COMICS</td>\n",
       "    </tr>\n",
       "    <tr>\n",
       "      <th>4</th>\n",
       "      <td>6412</td>\n",
       "      <td>telefonia</td>\n",
       "      <td>celular e smartphone</td>\n",
       "      <td>smartphone samsung galaxy note20 cinza 256gb  ...</td>\n",
       "      <td>MLB-TELEPROMPTERS</td>\n",
       "    </tr>\n",
       "    <tr>\n",
       "      <th>5</th>\n",
       "      <td>6412</td>\n",
       "      <td>telefonia</td>\n",
       "      <td>celular e smartphone</td>\n",
       "      <td>smartphone samsung galaxy note20 cinza 256gb  ...</td>\n",
       "      <td>MLB-TELEPHONES</td>\n",
       "    </tr>\n",
       "    <tr>\n",
       "      <th>6</th>\n",
       "      <td>6412</td>\n",
       "      <td>telefonia</td>\n",
       "      <td>celular e smartphone</td>\n",
       "      <td>smartphone samsung galaxy note20 cinza 256gb  ...</td>\n",
       "      <td>MLB-HEADSET_TELEPHONES</td>\n",
       "    </tr>\n",
       "    <tr>\n",
       "      <th>7</th>\n",
       "      <td>6412</td>\n",
       "      <td>telefonia</td>\n",
       "      <td>celular e smartphone</td>\n",
       "      <td>smartphone samsung galaxy note20 cinza 256gb  ...</td>\n",
       "      <td>MLB-MILITARY_COLLECTIBLE_SUPPLIES</td>\n",
       "    </tr>\n",
       "    <tr>\n",
       "      <th>8</th>\n",
       "      <td>6412</td>\n",
       "      <td>telefonia</td>\n",
       "      <td>celular e smartphone</td>\n",
       "      <td>smartphone samsung galaxy note20 cinza 256gb  ...</td>\n",
       "      <td>MLB-CAMERA_TRIPODS</td>\n",
       "    </tr>\n",
       "    <tr>\n",
       "      <th>9</th>\n",
       "      <td>6412</td>\n",
       "      <td>telefonia</td>\n",
       "      <td>celular e smartphone</td>\n",
       "      <td>smartphone samsung galaxy note20 cinza 256gb  ...</td>\n",
       "      <td>MLB-CELLPHONE_SOFTWARE</td>\n",
       "    </tr>\n",
       "  </tbody>\n",
       "</table>\n",
       "</div>"
      ],
      "text/plain": [
       "     id   category           subcategory  \\\n",
       "0  6413        vhs                   vhs   \n",
       "1  6413        vhs                   vhs   \n",
       "2  6413        vhs                   vhs   \n",
       "3  6413        vhs                   vhs   \n",
       "4  6412  telefonia  celular e smartphone   \n",
       "5  6412  telefonia  celular e smartphone   \n",
       "6  6412  telefonia  celular e smartphone   \n",
       "7  6412  telefonia  celular e smartphone   \n",
       "8  6412  telefonia  celular e smartphone   \n",
       "9  6412  telefonia  celular e smartphone   \n",
       "\n",
       "                                               title  \\\n",
       "0          apcrifos e pseudo epgrafos da bblia vol 3   \n",
       "1          apcrifos e pseudo epgrafos da bblia vol 3   \n",
       "2          apcrifos e pseudo epgrafos da bblia vol 3   \n",
       "3          apcrifos e pseudo epgrafos da bblia vol 3   \n",
       "4  smartphone samsung galaxy note20 cinza 256gb  ...   \n",
       "5  smartphone samsung galaxy note20 cinza 256gb  ...   \n",
       "6  smartphone samsung galaxy note20 cinza 256gb  ...   \n",
       "7  smartphone samsung galaxy note20 cinza 256gb  ...   \n",
       "8  smartphone samsung galaxy note20 cinza 256gb  ...   \n",
       "9  smartphone samsung galaxy note20 cinza 256gb  ...   \n",
       "\n",
       "                       CAT_DOMAIN_ID  \n",
       "0                MLB-VIDEO_CASSETTES  \n",
       "1                  MLB-EROTIC_MOVIES  \n",
       "2                  MLB-DRONE_MODULES  \n",
       "3                         MLB-COMICS  \n",
       "4                  MLB-TELEPROMPTERS  \n",
       "5                     MLB-TELEPHONES  \n",
       "6             MLB-HEADSET_TELEPHONES  \n",
       "7  MLB-MILITARY_COLLECTIBLE_SUPPLIES  \n",
       "8                 MLB-CAMERA_TRIPODS  \n",
       "9             MLB-CELLPHONE_SOFTWARE  "
      ]
     },
     "execution_count": 41,
     "metadata": {},
     "output_type": "execute_result"
    }
   ],
   "source": [
    "complete_dom_df.columns = ['id','category','subcategory','title','CAT_DOMAIN_ID']\n",
    "\n",
    "complete_dom_df.head(10)"
   ]
  },
  {
   "cell_type": "code",
   "execution_count": 42,
   "id": "609fe99b",
   "metadata": {},
   "outputs": [
    {
     "data": {
      "text/plain": [
       "(6173,)"
      ]
     },
     "execution_count": 42,
     "metadata": {},
     "output_type": "execute_result"
    }
   ],
   "source": [
    "complete_dom_df.id.drop_duplicates().shape"
   ]
  },
  {
   "cell_type": "code",
   "execution_count": 43,
   "id": "50cfb79e",
   "metadata": {},
   "outputs": [
    {
     "data": {
      "text/plain": [
       "(6414, 5)"
      ]
     },
     "execution_count": 43,
     "metadata": {},
     "output_type": "execute_result"
    }
   ],
   "source": [
    "assortment_df.shape"
   ]
  },
  {
   "cell_type": "markdown",
   "id": "1a62e319",
   "metadata": {},
   "source": [
    "Se encuentran 6173 items con match de categoría/dominio. La elección del threshold es arbitraria; un valor grande implica que más items tienen match de dominios pero así mismo cada item recibe más dominios lo que aumenta la búsqueda. Al final, los dos resultados son usados."
   ]
  },
  {
   "cell_type": "markdown",
   "id": "db9c0d0e",
   "metadata": {},
   "source": [
    " "
   ]
  },
  {
   "cell_type": "markdown",
   "id": "7a206bed",
   "metadata": {},
   "source": [
    "## 4.3 Concatenation"
   ]
  },
  {
   "cell_type": "markdown",
   "id": "b305ce1f",
   "metadata": {},
   "source": [
    "Se concatenan los resultados anteriores"
   ]
  },
  {
   "cell_type": "code",
   "execution_count": 44,
   "id": "4d95c10b",
   "metadata": {},
   "outputs": [
    {
     "data": {
      "text/html": [
       "<div>\n",
       "<style scoped>\n",
       "    .dataframe tbody tr th:only-of-type {\n",
       "        vertical-align: middle;\n",
       "    }\n",
       "\n",
       "    .dataframe tbody tr th {\n",
       "        vertical-align: top;\n",
       "    }\n",
       "\n",
       "    .dataframe thead th {\n",
       "        text-align: right;\n",
       "    }\n",
       "</style>\n",
       "<table border=\"1\" class=\"dataframe\">\n",
       "  <thead>\n",
       "    <tr style=\"text-align: right;\">\n",
       "      <th></th>\n",
       "      <th>id</th>\n",
       "      <th>category</th>\n",
       "      <th>subcategory</th>\n",
       "      <th>title</th>\n",
       "      <th>CAT_DOMAIN_ID</th>\n",
       "    </tr>\n",
       "  </thead>\n",
       "  <tbody>\n",
       "    <tr>\n",
       "      <th>0</th>\n",
       "      <td>6412</td>\n",
       "      <td>telefonia</td>\n",
       "      <td>celular e smartphone</td>\n",
       "      <td>smartphone samsung galaxy note20 cinza 256gb  ...</td>\n",
       "      <td>MLB-CELLPHONES</td>\n",
       "    </tr>\n",
       "    <tr>\n",
       "      <th>1</th>\n",
       "      <td>6412</td>\n",
       "      <td>telefonia</td>\n",
       "      <td>celular e smartphone</td>\n",
       "      <td>smartphone samsung galaxy note20 cinza 256gb  ...</td>\n",
       "      <td>MLB-TELEPHONES</td>\n",
       "    </tr>\n",
       "    <tr>\n",
       "      <th>2</th>\n",
       "      <td>6412</td>\n",
       "      <td>telefonia</td>\n",
       "      <td>celular e smartphone</td>\n",
       "      <td>smartphone samsung galaxy note20 cinza 256gb  ...</td>\n",
       "      <td>MLB-IP_TELEPHONES</td>\n",
       "    </tr>\n",
       "    <tr>\n",
       "      <th>3</th>\n",
       "      <td>6411</td>\n",
       "      <td>telefonia</td>\n",
       "      <td>celular e smartphone</td>\n",
       "      <td>smartphone samsung galaxy s21 fe 5g branco 128...</td>\n",
       "      <td>MLB-CELLPHONES</td>\n",
       "    </tr>\n",
       "    <tr>\n",
       "      <th>4</th>\n",
       "      <td>6411</td>\n",
       "      <td>telefonia</td>\n",
       "      <td>celular e smartphone</td>\n",
       "      <td>smartphone samsung galaxy s21 fe 5g branco 128...</td>\n",
       "      <td>MLB-TELEPHONES</td>\n",
       "    </tr>\n",
       "    <tr>\n",
       "      <th>5</th>\n",
       "      <td>6411</td>\n",
       "      <td>telefonia</td>\n",
       "      <td>celular e smartphone</td>\n",
       "      <td>smartphone samsung galaxy s21 fe 5g branco 128...</td>\n",
       "      <td>MLB-IP_TELEPHONES</td>\n",
       "    </tr>\n",
       "    <tr>\n",
       "      <th>6</th>\n",
       "      <td>6410</td>\n",
       "      <td>telefonia</td>\n",
       "      <td>celular e smartphone</td>\n",
       "      <td>iphone 11 apple 128gb branco 6 1 e2 80 9d 12mp...</td>\n",
       "      <td>MLB-CELLPHONES</td>\n",
       "    </tr>\n",
       "    <tr>\n",
       "      <th>7</th>\n",
       "      <td>6410</td>\n",
       "      <td>telefonia</td>\n",
       "      <td>celular e smartphone</td>\n",
       "      <td>iphone 11 apple 128gb branco 6 1 e2 80 9d 12mp...</td>\n",
       "      <td>MLB-TELEPHONES</td>\n",
       "    </tr>\n",
       "    <tr>\n",
       "      <th>8</th>\n",
       "      <td>6410</td>\n",
       "      <td>telefonia</td>\n",
       "      <td>celular e smartphone</td>\n",
       "      <td>iphone 11 apple 128gb branco 6 1 e2 80 9d 12mp...</td>\n",
       "      <td>MLB-IP_TELEPHONES</td>\n",
       "    </tr>\n",
       "    <tr>\n",
       "      <th>9</th>\n",
       "      <td>6409</td>\n",
       "      <td>telefonia</td>\n",
       "      <td>celular e smartphone</td>\n",
       "      <td>iphone 12 apple 128gb ios 5g wi fi tela 6 1   ...</td>\n",
       "      <td>MLB-CELLPHONES</td>\n",
       "    </tr>\n",
       "  </tbody>\n",
       "</table>\n",
       "</div>"
      ],
      "text/plain": [
       "     id   category           subcategory  \\\n",
       "0  6412  telefonia  celular e smartphone   \n",
       "1  6412  telefonia  celular e smartphone   \n",
       "2  6412  telefonia  celular e smartphone   \n",
       "3  6411  telefonia  celular e smartphone   \n",
       "4  6411  telefonia  celular e smartphone   \n",
       "5  6411  telefonia  celular e smartphone   \n",
       "6  6410  telefonia  celular e smartphone   \n",
       "7  6410  telefonia  celular e smartphone   \n",
       "8  6410  telefonia  celular e smartphone   \n",
       "9  6409  telefonia  celular e smartphone   \n",
       "\n",
       "                                               title      CAT_DOMAIN_ID  \n",
       "0  smartphone samsung galaxy note20 cinza 256gb  ...     MLB-CELLPHONES  \n",
       "1  smartphone samsung galaxy note20 cinza 256gb  ...     MLB-TELEPHONES  \n",
       "2  smartphone samsung galaxy note20 cinza 256gb  ...  MLB-IP_TELEPHONES  \n",
       "3  smartphone samsung galaxy s21 fe 5g branco 128...     MLB-CELLPHONES  \n",
       "4  smartphone samsung galaxy s21 fe 5g branco 128...     MLB-TELEPHONES  \n",
       "5  smartphone samsung galaxy s21 fe 5g branco 128...  MLB-IP_TELEPHONES  \n",
       "6  iphone 11 apple 128gb branco 6 1 e2 80 9d 12mp...     MLB-CELLPHONES  \n",
       "7  iphone 11 apple 128gb branco 6 1 e2 80 9d 12mp...     MLB-TELEPHONES  \n",
       "8  iphone 11 apple 128gb branco 6 1 e2 80 9d 12mp...  MLB-IP_TELEPHONES  \n",
       "9  iphone 12 apple 128gb ios 5g wi fi tela 6 1   ...     MLB-CELLPHONES  "
      ]
     },
     "execution_count": 44,
     "metadata": {},
     "output_type": "execute_result"
    }
   ],
   "source": [
    "domain_model_df = pd.concat([complete_df, complete_dom_df], ignore_index=True)\n",
    "domain_model_df.drop_duplicates(inplace=True)\n",
    "domain_model_df.head(10)"
   ]
  },
  {
   "cell_type": "code",
   "execution_count": 45,
   "id": "fe865e31",
   "metadata": {},
   "outputs": [],
   "source": [
    "table = 'meli-bi-data.ML_DEV.TMP_ASSORTMENT_MLB_DOMAIN_MATCHES'\n",
    "\n",
    "schema = [bigquery.SchemaField(\"id\", bigquery.enums.SqlTypeNames.INT64),\n",
    "          bigquery.SchemaField(\"category\", bigquery.enums.SqlTypeNames.STRING),\n",
    "          bigquery.SchemaField(\"subcategory\", bigquery.enums.SqlTypeNames.STRING),\n",
    "          bigquery.SchemaField(\"title\", bigquery.enums.SqlTypeNames.STRING),\n",
    "          bigquery.SchemaField(\"CAT_DOMAIN_ID\", bigquery.enums.SqlTypeNames.STRING)\n",
    "         ]\n",
    "\n",
    "for df_chunk in np.array_split(domain_model_df, 10):\n",
    "    job_config = bigquery.LoadJobConfig(schema=schema)\n",
    "    job_config.write_disposition = bigquery.WriteDisposition.WRITE_APPEND\n",
    "    # Load data to BQ\n",
    "    job = bq_connec.client.load_table_from_dataframe(df_chunk, table, job_config=job_config)\n",
    "    job.result()"
   ]
  },
  {
   "cell_type": "markdown",
   "id": "fabbcf4a",
   "metadata": {},
   "source": [
    " "
   ]
  },
  {
   "cell_type": "markdown",
   "id": "4047a5a4",
   "metadata": {},
   "source": [
    " "
   ]
  },
  {
   "cell_type": "markdown",
   "id": "e1a9d4d4",
   "metadata": {},
   "source": [
    "# 5. Neighbours"
   ]
  },
  {
   "cell_type": "code",
   "execution_count": 11,
   "id": "f456f50a",
   "metadata": {},
   "outputs": [],
   "source": [
    "query = \"\"\"\n",
    "    SELECT\n",
    "        *\n",
    "    FROM\n",
    "        meli-bi-data.ML_DEV.TMP_ASSORTMENT_MLB_DOMAIN_MATCHES\n",
    "\"\"\"\n",
    "\n",
    "domain_model_df = pd.DataFrame(bq_connec.execute_response(query))"
   ]
  },
  {
   "cell_type": "code",
   "execution_count": 13,
   "id": "47b276fc",
   "metadata": {},
   "outputs": [
    {
     "data": {
      "text/html": [
       "<div>\n",
       "<style scoped>\n",
       "    .dataframe tbody tr th:only-of-type {\n",
       "        vertical-align: middle;\n",
       "    }\n",
       "\n",
       "    .dataframe tbody tr th {\n",
       "        vertical-align: top;\n",
       "    }\n",
       "\n",
       "    .dataframe thead th {\n",
       "        text-align: right;\n",
       "    }\n",
       "</style>\n",
       "<table border=\"1\" class=\"dataframe\">\n",
       "  <thead>\n",
       "    <tr style=\"text-align: right;\">\n",
       "      <th></th>\n",
       "      <th>id</th>\n",
       "      <th>category</th>\n",
       "      <th>subcategory</th>\n",
       "      <th>title</th>\n",
       "      <th>CAT_DOMAIN_ID</th>\n",
       "    </tr>\n",
       "  </thead>\n",
       "  <tbody>\n",
       "    <tr>\n",
       "      <th>68160</th>\n",
       "      <td>3777</td>\n",
       "      <td>industria  comercio e negocios</td>\n",
       "      <td>gaveteiro para escritorio</td>\n",
       "      <td>gaveteiro 4 gavetas com rodizios e chave gavea...</td>\n",
       "      <td>MLB-TANDEM_CHAIRS</td>\n",
       "    </tr>\n",
       "    <tr>\n",
       "      <th>68161</th>\n",
       "      <td>3777</td>\n",
       "      <td>industria  comercio e negocios</td>\n",
       "      <td>gaveteiro para escritorio</td>\n",
       "      <td>gaveteiro 4 gavetas com rodizios e chave gavea...</td>\n",
       "      <td>MLB-FILE_BOXES</td>\n",
       "    </tr>\n",
       "    <tr>\n",
       "      <th>68162</th>\n",
       "      <td>3777</td>\n",
       "      <td>industria  comercio e negocios</td>\n",
       "      <td>gaveteiro para escritorio</td>\n",
       "      <td>gaveteiro 4 gavetas com rodizios e chave gavea...</td>\n",
       "      <td>MLB-WASTE_BASKETS</td>\n",
       "    </tr>\n",
       "    <tr>\n",
       "      <th>68163</th>\n",
       "      <td>3777</td>\n",
       "      <td>industria  comercio e negocios</td>\n",
       "      <td>gaveteiro para escritorio</td>\n",
       "      <td>gaveteiro 4 gavetas com rodizios e chave gavea...</td>\n",
       "      <td>MLB-HOME_OFFICE_DESK_ORGANIZERS</td>\n",
       "    </tr>\n",
       "    <tr>\n",
       "      <th>68164</th>\n",
       "      <td>3777</td>\n",
       "      <td>industria  comercio e negocios</td>\n",
       "      <td>gaveteiro para escritorio</td>\n",
       "      <td>gaveteiro 4 gavetas com rodizios e chave gavea...</td>\n",
       "      <td>MLB-OFFICE_CUBICLES</td>\n",
       "    </tr>\n",
       "  </tbody>\n",
       "</table>\n",
       "</div>"
      ],
      "text/plain": [
       "         id                        category                subcategory  \\\n",
       "68160  3777  industria  comercio e negocios  gaveteiro para escritorio   \n",
       "68161  3777  industria  comercio e negocios  gaveteiro para escritorio   \n",
       "68162  3777  industria  comercio e negocios  gaveteiro para escritorio   \n",
       "68163  3777  industria  comercio e negocios  gaveteiro para escritorio   \n",
       "68164  3777  industria  comercio e negocios  gaveteiro para escritorio   \n",
       "\n",
       "                                                   title  \\\n",
       "68160  gaveteiro 4 gavetas com rodizios e chave gavea...   \n",
       "68161  gaveteiro 4 gavetas com rodizios e chave gavea...   \n",
       "68162  gaveteiro 4 gavetas com rodizios e chave gavea...   \n",
       "68163  gaveteiro 4 gavetas com rodizios e chave gavea...   \n",
       "68164  gaveteiro 4 gavetas com rodizios e chave gavea...   \n",
       "\n",
       "                         CAT_DOMAIN_ID  \n",
       "68160                MLB-TANDEM_CHAIRS  \n",
       "68161                   MLB-FILE_BOXES  \n",
       "68162                MLB-WASTE_BASKETS  \n",
       "68163  MLB-HOME_OFFICE_DESK_ORGANIZERS  \n",
       "68164              MLB-OFFICE_CUBICLES  "
      ]
     },
     "execution_count": 13,
     "metadata": {},
     "output_type": "execute_result"
    }
   ],
   "source": [
    "domain_model_df.tail(5)"
   ]
  },
  {
   "cell_type": "markdown",
   "id": "6e0bb408",
   "metadata": {},
   "source": [
    "## 5.1 Title Embeddings - NIELSEN "
   ]
  },
  {
   "cell_type": "markdown",
   "id": "41132477",
   "metadata": {},
   "source": [
    "Test de cosas. Ignorar."
   ]
  },
  {
   "cell_type": "code",
   "execution_count": 17,
   "id": "e7d57354",
   "metadata": {},
   "outputs": [],
   "source": [
    "model = TensorFlowHub(\n",
    "    pre_fitted_version=\"universal-sentence-encoder-multilingual-v3\"\n",
    ")"
   ]
  },
  {
   "cell_type": "code",
   "execution_count": 14,
   "id": "0bdf1480",
   "metadata": {},
   "outputs": [
    {
     "name": "stdout",
     "output_type": "stream",
     "text": [
      "1\n"
     ]
    }
   ],
   "source": [
    "chunk_size = 10000\n",
    "chunks = int(np.ceil(assortment_modified_df.shape[0] / chunk_size))\n",
    "\n",
    "print(chunks)"
   ]
  },
  {
   "cell_type": "code",
   "execution_count": 18,
   "id": "ef179ef0",
   "metadata": {},
   "outputs": [
    {
     "name": "stderr",
     "output_type": "stream",
     "text": [
      "2022-08-30 16:08:09.034569: I tensorflow/core/platform/cpu_feature_guard.cc:142] This TensorFlow binary is optimized with oneAPI Deep Neural Network Library (oneDNN) to use the following CPU instructions in performance-critical operations:  AVX2 AVX512F FMA\n",
      "To enable them in other operations, rebuild TensorFlow with the appropriate compiler flags.\n",
      "2022-08-30 16:08:09.034971: I tensorflow/compiler/jit/xla_gpu_device.cc:99] Not creating XLA devices, tf_xla_enable_xla_devices not set\n",
      "2022-08-30 16:08:13.231322: I tensorflow/compiler/mlir/mlir_graph_optimization_pass.cc:116] None of the MLIR optimization passes are enabled (registered 2)\n",
      "2022-08-30 16:08:13.286689: I tensorflow/core/platform/profile_utils/cpu_utils.cc:112] CPU Frequency: 2499995000 Hz\n"
     ]
    },
    {
     "name": "stdout",
     "output_type": "stream",
     "text": [
      "WARNING:tensorflow:No training configuration found in save file, so the model was *not* compiled. Compile it manually.\n"
     ]
    },
    {
     "name": "stderr",
     "output_type": "stream",
     "text": [
      "/root/.cache/pypoetry/virtualenvs/app-jhFzdacP-py3.7/lib/python3.7/site-packages/sklearn/base.py:338: UserWarning: Trying to unpickle estimator Pipeline from version 0.24.1 when using version 1.0.2. This might lead to breaking code or invalid results. Use at your own risk. For more info please refer to:\n",
      "https://scikit-learn.org/stable/modules/model_persistence.html#security-maintainability-limitations\n"
     ]
    },
    {
     "name": "stdout",
     "output_type": "stream",
     "text": [
      "Chunk #0: 10.29 seconds\n"
     ]
    }
   ],
   "source": [
    "import time\n",
    "\n",
    "emb_array = np.zeros((1,512))\n",
    "\n",
    "for i in range(chunks):\n",
    "    t0 = time.time()\n",
    "    emb_array = np.append(\n",
    "        emb_array, \n",
    "        model.transform(assortment_modified_df.title.iloc[i*chunk_size:(i+1)*chunk_size].tolist()),\n",
    "        axis = 0\n",
    "    )\n",
    "    t1 = time.time()\n",
    "\n",
    "    print(f'Chunk #{i}: {round(t1-t0, 2)} seconds')"
   ]
  },
  {
   "cell_type": "code",
   "execution_count": 19,
   "id": "3ab680bc",
   "metadata": {},
   "outputs": [
    {
     "data": {
      "text/plain": [
       "(6414, 512)"
      ]
     },
     "execution_count": 19,
     "metadata": {},
     "output_type": "execute_result"
    }
   ],
   "source": [
    "emb_array = np.delete(emb_array, 0, 0)\n",
    "emb_array.shape"
   ]
  },
  {
   "cell_type": "markdown",
   "id": "c5500e99",
   "metadata": {},
   "source": [
    "## 5.2 Title Embeddings - MELI Items"
   ]
  },
  {
   "cell_type": "code",
   "execution_count": 70,
   "id": "ffbf2abf",
   "metadata": {},
   "outputs": [
    {
     "name": "stdout",
     "output_type": "stream",
     "text": [
      "2006\n"
     ]
    },
    {
     "data": {
      "text/plain": [
       "['MLB-CELLPHONES',\n",
       " 'MLB-TELEPHONES',\n",
       " 'MLB-IP_TELEPHONES',\n",
       " 'MLB-WALKIE_TALKIE_CHARGERS',\n",
       " 'MLB-SMARTWATCH_CHARGERS',\n",
       " 'MLB-WIRELESS_CHARGERS',\n",
       " 'MLB-PORTABLE_CELLPHONE_CHARGERS',\n",
       " 'MLB-CELLPHONE_ACCESSORIES',\n",
       " 'MLB-MOBILE_DEVICE_CHARGERS',\n",
       " 'MLB-CELLPHONE_BATTERY_CASES']"
      ]
     },
     "execution_count": 70,
     "metadata": {},
     "output_type": "execute_result"
    }
   ],
   "source": [
    "domains_list = list(domain_model_df.CAT_DOMAIN_ID.drop_duplicates())\n",
    "print(len(domains_list))\n",
    "domains_list[:10]"
   ]
  },
  {
   "cell_type": "code",
   "execution_count": 124,
   "id": "0dc99882",
   "metadata": {},
   "outputs": [],
   "source": [
    "cluster_number = 3\n",
    "\n",
    "query = \"\"\"\n",
    "    SELECT \n",
    "        SIT_SITE_ID,\n",
    "        ITE_ITEM_DOM_DOMAIN_ID,\n",
    "        ITE_ITEM_ID,\n",
    "        ITE_ITEM_TITLE,\n",
    "      \n",
    "    FROM\n",
    "      `meli-bi-data.ML_TBL.ITEMS_SEGMENTOS`\n",
    "\n",
    "    WHERE SIT_SITE_ID = 'MLB'\n",
    "    AND GRUPO IN ('validos', 'incompletos')\n",
    "    AND ITE_ITEM_DOM_DOMAIN_ID = '{dominios}'\n",
    "\"\"\".format(dominios = domains_list[cluster_number])\n",
    "\n",
    "meli_items_df = pd.DataFrame(bq_connec.execute_response(query))\n",
    "\n",
    "meli_items_df['ITE_ITEM_TITLE'] = title_preprocesing(meli_items_df['ITE_ITEM_TITLE'])\n",
    "meli_items_df = meli_items_df.reset_index(drop = True)"
   ]
  },
  {
   "cell_type": "code",
   "execution_count": 125,
   "id": "670c5d6f",
   "metadata": {},
   "outputs": [
    {
     "data": {
      "text/html": [
       "<div>\n",
       "<style scoped>\n",
       "    .dataframe tbody tr th:only-of-type {\n",
       "        vertical-align: middle;\n",
       "    }\n",
       "\n",
       "    .dataframe tbody tr th {\n",
       "        vertical-align: top;\n",
       "    }\n",
       "\n",
       "    .dataframe thead th {\n",
       "        text-align: right;\n",
       "    }\n",
       "</style>\n",
       "<table border=\"1\" class=\"dataframe\">\n",
       "  <thead>\n",
       "    <tr style=\"text-align: right;\">\n",
       "      <th></th>\n",
       "      <th>SIT_SITE_ID</th>\n",
       "      <th>ITE_ITEM_DOM_DOMAIN_ID</th>\n",
       "      <th>ITE_ITEM_ID</th>\n",
       "      <th>ITE_ITEM_TITLE</th>\n",
       "    </tr>\n",
       "  </thead>\n",
       "  <tbody>\n",
       "    <tr>\n",
       "      <th>0</th>\n",
       "      <td>MLB</td>\n",
       "      <td>MLB-CELLPHONES</td>\n",
       "      <td>1958175911</td>\n",
       "      <td>apple iphone 8 64 gb original pronta entrega v...</td>\n",
       "    </tr>\n",
       "    <tr>\n",
       "      <th>1</th>\n",
       "      <td>MLB</td>\n",
       "      <td>MLB-CELLPHONES</td>\n",
       "      <td>2732083726</td>\n",
       "      <td>celular iphone 11 128gb   excelente</td>\n",
       "    </tr>\n",
       "    <tr>\n",
       "      <th>2</th>\n",
       "      <td>MLB</td>\n",
       "      <td>MLB-CELLPHONES</td>\n",
       "      <td>2660392032</td>\n",
       "      <td>celular xiaomi</td>\n",
       "    </tr>\n",
       "    <tr>\n",
       "      <th>3</th>\n",
       "      <td>MLB</td>\n",
       "      <td>MLB-CELLPHONES</td>\n",
       "      <td>2627932413</td>\n",
       "      <td>xiaomi redmi note 11  snapdragon  dual sim 128...</td>\n",
       "    </tr>\n",
       "    <tr>\n",
       "      <th>4</th>\n",
       "      <td>MLB</td>\n",
       "      <td>MLB-CELLPHONES</td>\n",
       "      <td>2613753601</td>\n",
       "      <td>xiaomi note 11 pro dual sim 128 gb preto 8 gb ram</td>\n",
       "    </tr>\n",
       "  </tbody>\n",
       "</table>\n",
       "</div>"
      ],
      "text/plain": [
       "  SIT_SITE_ID ITE_ITEM_DOM_DOMAIN_ID  ITE_ITEM_ID  \\\n",
       "0         MLB         MLB-CELLPHONES   1958175911   \n",
       "1         MLB         MLB-CELLPHONES   2732083726   \n",
       "2         MLB         MLB-CELLPHONES   2660392032   \n",
       "3         MLB         MLB-CELLPHONES   2627932413   \n",
       "4         MLB         MLB-CELLPHONES   2613753601   \n",
       "\n",
       "                                      ITE_ITEM_TITLE  \n",
       "0  apple iphone 8 64 gb original pronta entrega v...  \n",
       "1                celular iphone 11 128gb   excelente  \n",
       "2                                     celular xiaomi  \n",
       "3  xiaomi redmi note 11  snapdragon  dual sim 128...  \n",
       "4  xiaomi note 11 pro dual sim 128 gb preto 8 gb ram  "
      ]
     },
     "execution_count": 125,
     "metadata": {},
     "output_type": "execute_result"
    }
   ],
   "source": [
    "meli_items_df.head(5)"
   ]
  },
  {
   "cell_type": "code",
   "execution_count": 126,
   "id": "2e8ecc40",
   "metadata": {},
   "outputs": [
    {
     "name": "stdout",
     "output_type": "stream",
     "text": [
      "6\n"
     ]
    }
   ],
   "source": [
    "chunk_size = 10000\n",
    "chunks = int(np.ceil(meli_items_df.shape[0] / chunk_size))\n",
    "\n",
    "print(chunks)"
   ]
  },
  {
   "cell_type": "code",
   "execution_count": 127,
   "id": "1170e8ea",
   "metadata": {},
   "outputs": [
    {
     "name": "stdout",
     "output_type": "stream",
     "text": [
      "Chunk #0: 4.16 seconds\n",
      "Chunk #1: 4.06 seconds\n",
      "Chunk #2: 4.08 seconds\n",
      "Chunk #3: 4.07 seconds\n",
      "Chunk #4: 4.06 seconds\n",
      "Chunk #5: 0.88 seconds\n"
     ]
    }
   ],
   "source": [
    "import time\n",
    "\n",
    "emb_meli_array = np.zeros((1,512))\n",
    "\n",
    "for i in range(chunks):\n",
    "    t0 = time.time()\n",
    "    emb_meli_array = np.append(\n",
    "        emb_meli_array, \n",
    "        model.transform(meli_items_df.ITE_ITEM_TITLE.iloc[i*chunk_size:(i+1)*chunk_size].tolist()),\n",
    "        axis = 0\n",
    "    )\n",
    "    t1 = time.time()\n",
    "\n",
    "    print(f'Chunk #{i}: {round(t1-t0, 2)} seconds')"
   ]
  },
  {
   "cell_type": "code",
   "execution_count": 128,
   "id": "a730de55",
   "metadata": {},
   "outputs": [
    {
     "data": {
      "text/plain": [
       "(51877, 512)"
      ]
     },
     "execution_count": 128,
     "metadata": {},
     "output_type": "execute_result"
    }
   ],
   "source": [
    "emb_meli_array = np.delete(emb_meli_array, 0, 0)\n",
    "emb_meli_array.shape"
   ]
  },
  {
   "cell_type": "code",
   "execution_count": 129,
   "id": "1a7fc905",
   "metadata": {},
   "outputs": [
    {
     "data": {
      "text/plain": [
       "22"
      ]
     },
     "execution_count": 129,
     "metadata": {},
     "output_type": "execute_result"
    }
   ],
   "source": [
    "n, p = emb_meli_array.shape\n",
    "n_trees_from_data = int(np.sqrt(p))\n",
    "n_trees_from_data"
   ]
  },
  {
   "cell_type": "code",
   "execution_count": 130,
   "id": "87bf01ad",
   "metadata": {},
   "outputs": [
    {
     "data": {
      "text/plain": [
       "True"
      ]
     },
     "execution_count": 130,
     "metadata": {},
     "output_type": "execute_result"
    }
   ],
   "source": [
    "y = annoy.AnnoyIndex(p, \"euclidean\")\n",
    "for idx, row in enumerate(emb_meli_array):\n",
    "    y.add_item(idx, row)\n",
    "    \n",
    "y.build(n_trees_from_data)"
   ]
  },
  {
   "cell_type": "code",
   "execution_count": 172,
   "id": "c0a6d0a7",
   "metadata": {},
   "outputs": [],
   "source": [
    "search_df = complete_df[complete_df.CAT_DOMAIN_ID == domains_list[cluster_number]]\n",
    "\n",
    "columns_names = ['id','category','subcategory','title','CAT_DOMAIN_ID','SIT_SITE_ID','ITE_ITEM_ID','ITE_ITEM_TITLE']\n",
    "matches_df = pd.DataFrame(columns=columns_names)\n",
    "\n",
    "\n",
    "for index, row in search_df.iterrows():\n",
    "    \n",
    "    idx, dist = y.get_nns_by_vector(emb_array[row.id], n=25, include_distances=True)\n",
    "\n",
    "    neighbours_df = pd.DataFrame(columns=columns_names)\n",
    "\n",
    "    for i, element in enumerate(dist):\n",
    "        if element < 0.75:            \n",
    "            aux_df = pd.DataFrame(pd.concat(\n",
    "                [\n",
    "                    row[['id','category','subcategory','title','CAT_DOMAIN_ID']],\n",
    "                    meli_items_df.iloc[idx[i]][['SIT_SITE_ID','ITE_ITEM_ID','ITE_ITEM_TITLE']]\n",
    "                ]\n",
    "            )\n",
    "            ).T\n",
    "            \n",
    "            neighbours_df = pd.concat([aux_df[columns_names], neighbours_df], ignore_index=True)\n",
    "\n",
    "    matches_df = pd.concat([neighbours_df, matches_df], ignore_index=True)"
   ]
  },
  {
   "cell_type": "code",
   "execution_count": 174,
   "id": "7b9fe048",
   "metadata": {},
   "outputs": [
    {
     "data": {
      "text/html": [
       "<div>\n",
       "<style scoped>\n",
       "    .dataframe tbody tr th:only-of-type {\n",
       "        vertical-align: middle;\n",
       "    }\n",
       "\n",
       "    .dataframe tbody tr th {\n",
       "        vertical-align: top;\n",
       "    }\n",
       "\n",
       "    .dataframe thead th {\n",
       "        text-align: right;\n",
       "    }\n",
       "</style>\n",
       "<table border=\"1\" class=\"dataframe\">\n",
       "  <thead>\n",
       "    <tr style=\"text-align: right;\">\n",
       "      <th></th>\n",
       "      <th>id</th>\n",
       "      <th>category</th>\n",
       "      <th>subcategory</th>\n",
       "      <th>title</th>\n",
       "      <th>CAT_DOMAIN_ID</th>\n",
       "      <th>SIT_SITE_ID</th>\n",
       "      <th>ITE_ITEM_ID</th>\n",
       "      <th>ITE_ITEM_TITLE</th>\n",
       "    </tr>\n",
       "  </thead>\n",
       "  <tbody>\n",
       "    <tr>\n",
       "      <th>4278</th>\n",
       "      <td>6411</td>\n",
       "      <td>telefonia</td>\n",
       "      <td>celular e smartphone</td>\n",
       "      <td>smartphone samsung galaxy s21 fe 5g branco 128...</td>\n",
       "      <td>MLB-CELLPHONES</td>\n",
       "      <td>MLB</td>\n",
       "      <td>2640197719</td>\n",
       "      <td>smartphone samsung galaxy s20 fe 5g 128gb 6gb ...</td>\n",
       "    </tr>\n",
       "    <tr>\n",
       "      <th>4279</th>\n",
       "      <td>6411</td>\n",
       "      <td>telefonia</td>\n",
       "      <td>celular e smartphone</td>\n",
       "      <td>smartphone samsung galaxy s21 fe 5g branco 128...</td>\n",
       "      <td>MLB-CELLPHONES</td>\n",
       "      <td>MLB</td>\n",
       "      <td>2640234916</td>\n",
       "      <td>smartphone samsung galaxy s20 fe 5g 128gb 6gb ...</td>\n",
       "    </tr>\n",
       "    <tr>\n",
       "      <th>4280</th>\n",
       "      <td>6411</td>\n",
       "      <td>telefonia</td>\n",
       "      <td>celular e smartphone</td>\n",
       "      <td>smartphone samsung galaxy s21 fe 5g branco 128...</td>\n",
       "      <td>MLB-CELLPHONES</td>\n",
       "      <td>MLB</td>\n",
       "      <td>2726526426</td>\n",
       "      <td>smartphone samsung galaxy s21 plus 256gb + 8gb...</td>\n",
       "    </tr>\n",
       "    <tr>\n",
       "      <th>4281</th>\n",
       "      <td>6411</td>\n",
       "      <td>telefonia</td>\n",
       "      <td>celular e smartphone</td>\n",
       "      <td>smartphone samsung galaxy s21 fe 5g branco 128...</td>\n",
       "      <td>MLB-CELLPHONES</td>\n",
       "      <td>MLB</td>\n",
       "      <td>2726526425</td>\n",
       "      <td>smartphone samsung galaxy s21 plus 256gb + 8gb...</td>\n",
       "    </tr>\n",
       "    <tr>\n",
       "      <th>4282</th>\n",
       "      <td>6411</td>\n",
       "      <td>telefonia</td>\n",
       "      <td>celular e smartphone</td>\n",
       "      <td>smartphone samsung galaxy s21 fe 5g branco 128...</td>\n",
       "      <td>MLB-CELLPHONES</td>\n",
       "      <td>MLB</td>\n",
       "      <td>2688915859</td>\n",
       "      <td>smartphone samsung galaxy s20 fe 128gb 5g g781...</td>\n",
       "    </tr>\n",
       "    <tr>\n",
       "      <th>4283</th>\n",
       "      <td>6411</td>\n",
       "      <td>telefonia</td>\n",
       "      <td>celular e smartphone</td>\n",
       "      <td>smartphone samsung galaxy s21 fe 5g branco 128...</td>\n",
       "      <td>MLB-CELLPHONES</td>\n",
       "      <td>MLB</td>\n",
       "      <td>2688929456</td>\n",
       "      <td>smartphone samsung galaxy s20 fe 128gb 5g g781...</td>\n",
       "    </tr>\n",
       "    <tr>\n",
       "      <th>4284</th>\n",
       "      <td>6411</td>\n",
       "      <td>telefonia</td>\n",
       "      <td>celular e smartphone</td>\n",
       "      <td>smartphone samsung galaxy s21 fe 5g branco 128...</td>\n",
       "      <td>MLB-CELLPHONES</td>\n",
       "      <td>MLB</td>\n",
       "      <td>2644291288</td>\n",
       "      <td>smartphone samsung galaxy s21 fe 5g preto 128g...</td>\n",
       "    </tr>\n",
       "    <tr>\n",
       "      <th>4285</th>\n",
       "      <td>6411</td>\n",
       "      <td>telefonia</td>\n",
       "      <td>celular e smartphone</td>\n",
       "      <td>smartphone samsung galaxy s21 fe 5g branco 128...</td>\n",
       "      <td>MLB-CELLPHONES</td>\n",
       "      <td>MLB</td>\n",
       "      <td>2644291291</td>\n",
       "      <td>smartphone samsung galaxy s21 fe 5g preto 128g...</td>\n",
       "    </tr>\n",
       "    <tr>\n",
       "      <th>4286</th>\n",
       "      <td>6411</td>\n",
       "      <td>telefonia</td>\n",
       "      <td>celular e smartphone</td>\n",
       "      <td>smartphone samsung galaxy s21 fe 5g branco 128...</td>\n",
       "      <td>MLB-CELLPHONES</td>\n",
       "      <td>MLB</td>\n",
       "      <td>2618590766</td>\n",
       "      <td>smartphone samsung galaxy s21 fe 128gb  6gb  6...</td>\n",
       "    </tr>\n",
       "    <tr>\n",
       "      <th>4287</th>\n",
       "      <td>6411</td>\n",
       "      <td>telefonia</td>\n",
       "      <td>celular e smartphone</td>\n",
       "      <td>smartphone samsung galaxy s21 fe 5g branco 128...</td>\n",
       "      <td>MLB-CELLPHONES</td>\n",
       "      <td>MLB</td>\n",
       "      <td>2184619850</td>\n",
       "      <td>smartphone samsung galaxy s21 fe 5g 128gb  6gb...</td>\n",
       "    </tr>\n",
       "  </tbody>\n",
       "</table>\n",
       "</div>"
      ],
      "text/plain": [
       "        id   category           subcategory  \\\n",
       "4278  6411  telefonia  celular e smartphone   \n",
       "4279  6411  telefonia  celular e smartphone   \n",
       "4280  6411  telefonia  celular e smartphone   \n",
       "4281  6411  telefonia  celular e smartphone   \n",
       "4282  6411  telefonia  celular e smartphone   \n",
       "4283  6411  telefonia  celular e smartphone   \n",
       "4284  6411  telefonia  celular e smartphone   \n",
       "4285  6411  telefonia  celular e smartphone   \n",
       "4286  6411  telefonia  celular e smartphone   \n",
       "4287  6411  telefonia  celular e smartphone   \n",
       "\n",
       "                                                  title   CAT_DOMAIN_ID  \\\n",
       "4278  smartphone samsung galaxy s21 fe 5g branco 128...  MLB-CELLPHONES   \n",
       "4279  smartphone samsung galaxy s21 fe 5g branco 128...  MLB-CELLPHONES   \n",
       "4280  smartphone samsung galaxy s21 fe 5g branco 128...  MLB-CELLPHONES   \n",
       "4281  smartphone samsung galaxy s21 fe 5g branco 128...  MLB-CELLPHONES   \n",
       "4282  smartphone samsung galaxy s21 fe 5g branco 128...  MLB-CELLPHONES   \n",
       "4283  smartphone samsung galaxy s21 fe 5g branco 128...  MLB-CELLPHONES   \n",
       "4284  smartphone samsung galaxy s21 fe 5g branco 128...  MLB-CELLPHONES   \n",
       "4285  smartphone samsung galaxy s21 fe 5g branco 128...  MLB-CELLPHONES   \n",
       "4286  smartphone samsung galaxy s21 fe 5g branco 128...  MLB-CELLPHONES   \n",
       "4287  smartphone samsung galaxy s21 fe 5g branco 128...  MLB-CELLPHONES   \n",
       "\n",
       "     SIT_SITE_ID ITE_ITEM_ID  \\\n",
       "4278         MLB  2640197719   \n",
       "4279         MLB  2640234916   \n",
       "4280         MLB  2726526426   \n",
       "4281         MLB  2726526425   \n",
       "4282         MLB  2688915859   \n",
       "4283         MLB  2688929456   \n",
       "4284         MLB  2644291288   \n",
       "4285         MLB  2644291291   \n",
       "4286         MLB  2618590766   \n",
       "4287         MLB  2184619850   \n",
       "\n",
       "                                         ITE_ITEM_TITLE  \n",
       "4278  smartphone samsung galaxy s20 fe 5g 128gb 6gb ...  \n",
       "4279  smartphone samsung galaxy s20 fe 5g 128gb 6gb ...  \n",
       "4280  smartphone samsung galaxy s21 plus 256gb + 8gb...  \n",
       "4281  smartphone samsung galaxy s21 plus 256gb + 8gb...  \n",
       "4282  smartphone samsung galaxy s20 fe 128gb 5g g781...  \n",
       "4283  smartphone samsung galaxy s20 fe 128gb 5g g781...  \n",
       "4284  smartphone samsung galaxy s21 fe 5g preto 128g...  \n",
       "4285  smartphone samsung galaxy s21 fe 5g preto 128g...  \n",
       "4286  smartphone samsung galaxy s21 fe 128gb  6gb  6...  \n",
       "4287  smartphone samsung galaxy s21 fe 5g 128gb  6gb...  "
      ]
     },
     "execution_count": 174,
     "metadata": {},
     "output_type": "execute_result"
    }
   ],
   "source": [
    "matches_df.tail(10)"
   ]
  },
  {
   "cell_type": "code",
   "execution_count": 164,
   "id": "aa725b1c",
   "metadata": {},
   "outputs": [
    {
     "data": {
      "text/plain": [
       "(4288, 8)"
      ]
     },
     "execution_count": 164,
     "metadata": {},
     "output_type": "execute_result"
    }
   ],
   "source": [
    "matches_df.shape"
   ]
  },
  {
   "cell_type": "code",
   "execution_count": 150,
   "id": "25d65808",
   "metadata": {},
   "outputs": [
    {
     "data": {
      "text/html": [
       "<div>\n",
       "<style scoped>\n",
       "    .dataframe tbody tr th:only-of-type {\n",
       "        vertical-align: middle;\n",
       "    }\n",
       "\n",
       "    .dataframe tbody tr th {\n",
       "        vertical-align: top;\n",
       "    }\n",
       "\n",
       "    .dataframe thead th {\n",
       "        text-align: right;\n",
       "    }\n",
       "</style>\n",
       "<table border=\"1\" class=\"dataframe\">\n",
       "  <thead>\n",
       "    <tr style=\"text-align: right;\">\n",
       "      <th></th>\n",
       "      <th>id</th>\n",
       "      <th>category</th>\n",
       "      <th>subcategory</th>\n",
       "      <th>title</th>\n",
       "      <th>CAT_DOMAIN_ID</th>\n",
       "    </tr>\n",
       "  </thead>\n",
       "  <tbody>\n",
       "    <tr>\n",
       "      <th>4</th>\n",
       "      <td>6412</td>\n",
       "      <td>telefonia</td>\n",
       "      <td>celular e smartphone</td>\n",
       "      <td>smartphone samsung galaxy note20 cinza 256gb  ...</td>\n",
       "      <td>MLB-CELLPHONES</td>\n",
       "    </tr>\n",
       "    <tr>\n",
       "      <th>29</th>\n",
       "      <td>6411</td>\n",
       "      <td>telefonia</td>\n",
       "      <td>celular e smartphone</td>\n",
       "      <td>smartphone samsung galaxy s21 fe 5g branco 128...</td>\n",
       "      <td>MLB-CELLPHONES</td>\n",
       "    </tr>\n",
       "    <tr>\n",
       "      <th>54</th>\n",
       "      <td>6410</td>\n",
       "      <td>telefonia</td>\n",
       "      <td>celular e smartphone</td>\n",
       "      <td>iphone 11 apple 128gb branco 6 1 e2 80 9d 12mp...</td>\n",
       "      <td>MLB-CELLPHONES</td>\n",
       "    </tr>\n",
       "    <tr>\n",
       "      <th>79</th>\n",
       "      <td>6409</td>\n",
       "      <td>telefonia</td>\n",
       "      <td>celular e smartphone</td>\n",
       "      <td>iphone 12 apple 128gb ios 5g wi fi tela 6 1   ...</td>\n",
       "      <td>MLB-CELLPHONES</td>\n",
       "    </tr>\n",
       "    <tr>\n",
       "      <th>104</th>\n",
       "      <td>6408</td>\n",
       "      <td>telefonia</td>\n",
       "      <td>celular e smartphone</td>\n",
       "      <td>smartphone motorola moto e7 dual chip android ...</td>\n",
       "      <td>MLB-CELLPHONES</td>\n",
       "    </tr>\n",
       "    <tr>\n",
       "      <th>...</th>\n",
       "      <td>...</td>\n",
       "      <td>...</td>\n",
       "      <td>...</td>\n",
       "      <td>...</td>\n",
       "      <td>...</td>\n",
       "    </tr>\n",
       "    <tr>\n",
       "      <th>4879</th>\n",
       "      <td>6217</td>\n",
       "      <td>telefonia</td>\n",
       "      <td>celular e smartphone</td>\n",
       "      <td>iphone 11 apple 64gb branco  tela de 6 1 e2 80...</td>\n",
       "      <td>MLB-CELLPHONES</td>\n",
       "    </tr>\n",
       "    <tr>\n",
       "      <th>4904</th>\n",
       "      <td>6216</td>\n",
       "      <td>telefonia</td>\n",
       "      <td>celular e smartphone</td>\n",
       "      <td>smartphone samsung galaxy a03 64gb preto 4g</td>\n",
       "      <td>MLB-CELLPHONES</td>\n",
       "    </tr>\n",
       "    <tr>\n",
       "      <th>4929</th>\n",
       "      <td>6215</td>\n",
       "      <td>telefonia</td>\n",
       "      <td>celular e smartphone</td>\n",
       "      <td>iphone 11 apple 128gb preto 6 1 e2 80 9d 12mp ios</td>\n",
       "      <td>MLB-CELLPHONES</td>\n",
       "    </tr>\n",
       "    <tr>\n",
       "      <th>4954</th>\n",
       "      <td>6214</td>\n",
       "      <td>telefonia</td>\n",
       "      <td>celular e smartphone</td>\n",
       "      <td>iphone 11 apple 64gb preto  tela de 6 1 e2 80 ...</td>\n",
       "      <td>MLB-CELLPHONES</td>\n",
       "    </tr>\n",
       "    <tr>\n",
       "      <th>4979</th>\n",
       "      <td>6213</td>\n",
       "      <td>telefonia</td>\n",
       "      <td>celular e smartphone</td>\n",
       "      <td>iphone 13 apple 128gb meia noite tela de 6 1  ...</td>\n",
       "      <td>MLB-CELLPHONES</td>\n",
       "    </tr>\n",
       "  </tbody>\n",
       "</table>\n",
       "<p>199 rows × 5 columns</p>\n",
       "</div>"
      ],
      "text/plain": [
       "        id   category           subcategory  \\\n",
       "4     6412  telefonia  celular e smartphone   \n",
       "29    6411  telefonia  celular e smartphone   \n",
       "54    6410  telefonia  celular e smartphone   \n",
       "79    6409  telefonia  celular e smartphone   \n",
       "104   6408  telefonia  celular e smartphone   \n",
       "...    ...        ...                   ...   \n",
       "4879  6217  telefonia  celular e smartphone   \n",
       "4904  6216  telefonia  celular e smartphone   \n",
       "4929  6215  telefonia  celular e smartphone   \n",
       "4954  6214  telefonia  celular e smartphone   \n",
       "4979  6213  telefonia  celular e smartphone   \n",
       "\n",
       "                                                  title   CAT_DOMAIN_ID  \n",
       "4     smartphone samsung galaxy note20 cinza 256gb  ...  MLB-CELLPHONES  \n",
       "29    smartphone samsung galaxy s21 fe 5g branco 128...  MLB-CELLPHONES  \n",
       "54    iphone 11 apple 128gb branco 6 1 e2 80 9d 12mp...  MLB-CELLPHONES  \n",
       "79    iphone 12 apple 128gb ios 5g wi fi tela 6 1   ...  MLB-CELLPHONES  \n",
       "104   smartphone motorola moto e7 dual chip android ...  MLB-CELLPHONES  \n",
       "...                                                 ...             ...  \n",
       "4879  iphone 11 apple 64gb branco  tela de 6 1 e2 80...  MLB-CELLPHONES  \n",
       "4904        smartphone samsung galaxy a03 64gb preto 4g  MLB-CELLPHONES  \n",
       "4929  iphone 11 apple 128gb preto 6 1 e2 80 9d 12mp ios  MLB-CELLPHONES  \n",
       "4954  iphone 11 apple 64gb preto  tela de 6 1 e2 80 ...  MLB-CELLPHONES  \n",
       "4979  iphone 13 apple 128gb meia noite tela de 6 1  ...  MLB-CELLPHONES  \n",
       "\n",
       "[199 rows x 5 columns]"
      ]
     },
     "execution_count": 150,
     "metadata": {},
     "output_type": "execute_result"
    }
   ],
   "source": [
    "search_df = complete_df[complete_df.CAT_DOMAIN_ID == domains_list[cluster_number]]\n",
    "search_df"
   ]
  },
  {
   "cell_type": "code",
   "execution_count": 151,
   "id": "0cd9e31e",
   "metadata": {},
   "outputs": [
    {
     "data": {
      "text/plain": [
       "([49,\n",
       "  2651,\n",
       "  9028,\n",
       "  45230,\n",
       "  15687,\n",
       "  15150,\n",
       "  45424,\n",
       "  21074,\n",
       "  27469,\n",
       "  36404,\n",
       "  18518,\n",
       "  8534,\n",
       "  22727,\n",
       "  1964,\n",
       "  25436],\n",
       " [0.7909523844718933,\n",
       "  0.7909523844718933,\n",
       "  0.7909523844718933,\n",
       "  0.7909523844718933,\n",
       "  0.8059686422348022,\n",
       "  0.8153699636459351,\n",
       "  0.8153699636459351,\n",
       "  0.8161715865135193,\n",
       "  0.8161715865135193,\n",
       "  0.8222026228904724,\n",
       "  0.8260628581047058,\n",
       "  0.8352891802787781,\n",
       "  0.8401623368263245,\n",
       "  0.8405235409736633,\n",
       "  0.8405235409736633])"
      ]
     },
     "execution_count": 151,
     "metadata": {},
     "output_type": "execute_result"
    }
   ],
   "source": [
    "y.get_nns_by_vector(emb_array[6412], n=15, include_distances=True)"
   ]
  },
  {
   "cell_type": "code",
   "execution_count": 152,
   "id": "4833545d",
   "metadata": {},
   "outputs": [
    {
     "data": {
      "text/plain": [
       "SIT_SITE_ID                                                             MLB\n",
       "ITE_ITEM_DOM_DOMAIN_ID                                       MLB-CELLPHONES\n",
       "ITE_ITEM_ID                                                      1722303517\n",
       "ITE_ITEM_TITLE            celular samsung galaxy note20 tela 6 7 ram 8gb...\n",
       "Name: 49, dtype: object"
      ]
     },
     "execution_count": 152,
     "metadata": {},
     "output_type": "execute_result"
    }
   ],
   "source": [
    "meli_items_df.iloc[49]"
   ]
  },
  {
   "cell_type": "markdown",
   "id": "4246299f",
   "metadata": {},
   "source": [
    " "
   ]
  },
  {
   "cell_type": "markdown",
   "id": "0f8ac8b4",
   "metadata": {},
   "source": [
    " "
   ]
  },
  {
   "cell_type": "markdown",
   "id": "7a3e9ebb",
   "metadata": {},
   "source": [
    "# 6. Cálculo completo"
   ]
  },
  {
   "cell_type": "markdown",
   "id": "351af63b",
   "metadata": {},
   "source": [
    "Pre procesamiento de títulos para agregar brand a títulos que no la tengan."
   ]
  },
  {
   "cell_type": "code",
   "execution_count": 23,
   "id": "fb317d6f",
   "metadata": {},
   "outputs": [],
   "source": [
    "def title_brand(title, brands):\n",
    "    for item in brands.split(' '):\n",
    "        brand_add = ''\n",
    "        if item not in title:\n",
    "            brand_add += item\n",
    "            \n",
    "    return title + ' ' + brand_add"
   ]
  },
  {
   "cell_type": "code",
   "execution_count": 20,
   "id": "cdd02e41",
   "metadata": {},
   "outputs": [
    {
     "name": "stdout",
     "output_type": "stream",
     "text": [
      "80\n"
     ]
    }
   ],
   "source": [
    "domains_list = list(domain_model_df.CAT_DOMAIN_ID.drop_duplicates())\n",
    "\n",
    "chunk_size_whole = 25\n",
    "chunks = int(len(domains_list) / chunk_size_whole)\n",
    "\n",
    "print(chunks)"
   ]
  },
  {
   "cell_type": "code",
   "execution_count": 21,
   "id": "dd29f0d1",
   "metadata": {},
   "outputs": [
    {
     "data": {
      "text/plain": [
       "'MLB-SEX_BOARD_GAMES'"
      ]
     },
     "execution_count": 21,
     "metadata": {},
     "output_type": "execute_result"
    }
   ],
   "source": [
    "domains_list[25]"
   ]
  },
  {
   "cell_type": "code",
   "execution_count": 26,
   "id": "61eb294e",
   "metadata": {},
   "outputs": [
    {
     "name": "stdout",
     "output_type": "stream",
     "text": [
      "25. Executing neighbours search for domain MLB-SEX_BOARD_GAMES\n",
      "26. Executing neighbours search for domain MLB-ARCADE_STICK_CASES\n",
      "WARNING:tensorflow:5 out of the last 12 calls to <function recreate_function.<locals>.restored_function_body at 0x7fcf92537290> triggered tf.function retracing. Tracing is expensive and the excessive number of tracings could be due to (1) creating @tf.function repeatedly in a loop, (2) passing tensors with different shapes, (3) passing Python objects instead of tensors. For (1), please define your @tf.function outside of the loop. For (2), @tf.function has experimental_relax_shapes=True option that relaxes argument shapes that can avoid unnecessary retracing. For (3), please refer to https://www.tensorflow.org/guide/function#controlling_retracing and https://www.tensorflow.org/api_docs/python/tf/function for  more details.\n",
      "27. Executing neighbours search for domain MLB-FOOSBALL_TABLES\n",
      "WARNING:tensorflow:6 out of the last 13 calls to <function recreate_function.<locals>.restored_function_body at 0x7fcf92537290> triggered tf.function retracing. Tracing is expensive and the excessive number of tracings could be due to (1) creating @tf.function repeatedly in a loop, (2) passing tensors with different shapes, (3) passing Python objects instead of tensors. For (1), please define your @tf.function outside of the loop. For (2), @tf.function has experimental_relax_shapes=True option that relaxes argument shapes that can avoid unnecessary retracing. For (3), please refer to https://www.tensorflow.org/guide/function#controlling_retracing and https://www.tensorflow.org/api_docs/python/tf/function for  more details.\n",
      "28. Executing neighbours search for domain MLB-ARCADE_PARTS_KITS\n",
      "WARNING:tensorflow:7 out of the last 14 calls to <function recreate_function.<locals>.restored_function_body at 0x7fcf92537290> triggered tf.function retracing. Tracing is expensive and the excessive number of tracings could be due to (1) creating @tf.function repeatedly in a loop, (2) passing tensors with different shapes, (3) passing Python objects instead of tensors. For (1), please define your @tf.function outside of the loop. For (2), @tf.function has experimental_relax_shapes=True option that relaxes argument shapes that can avoid unnecessary retracing. For (3), please refer to https://www.tensorflow.org/guide/function#controlling_retracing and https://www.tensorflow.org/api_docs/python/tf/function for  more details.\n",
      "29. Executing neighbours search for domain MLB-BOARD_GAMES\n",
      "30. Executing neighbours search for domain MLB-TOYS_AND_GAMES\n",
      "31. Executing neighbours search for domain MLB-ROULETTE_SETS\n",
      "32. Executing neighbours search for domain MLB-MULTIGAME_MACHINE_CARDS\n",
      "33. Executing neighbours search for domain MLB-GAME_CONSOLES\n",
      "WARNING:tensorflow:5 out of the last 15 calls to <function recreate_function.<locals>.restored_function_body at 0x7fcf92537290> triggered tf.function retracing. Tracing is expensive and the excessive number of tracings could be due to (1) creating @tf.function repeatedly in a loop, (2) passing tensors with different shapes, (3) passing Python objects instead of tensors. For (1), please define your @tf.function outside of the loop. For (2), @tf.function has experimental_relax_shapes=True option that relaxes argument shapes that can avoid unnecessary retracing. For (3), please refer to https://www.tensorflow.org/guide/function#controlling_retracing and https://www.tensorflow.org/api_docs/python/tf/function for  more details.\n",
      "34. Executing neighbours search for domain MLB-VIDEO_PLAYER_AND_GAME_CONSOLE_STANDS\n",
      "WARNING:tensorflow:6 out of the last 16 calls to <function recreate_function.<locals>.restored_function_body at 0x7fcf92537290> triggered tf.function retracing. Tracing is expensive and the excessive number of tracings could be due to (1) creating @tf.function repeatedly in a loop, (2) passing tensors with different shapes, (3) passing Python objects instead of tensors. For (1), please define your @tf.function outside of the loop. For (2), @tf.function has experimental_relax_shapes=True option that relaxes argument shapes that can avoid unnecessary retracing. For (3), please refer to https://www.tensorflow.org/guide/function#controlling_retracing and https://www.tensorflow.org/api_docs/python/tf/function for  more details.\n",
      "35. Executing neighbours search for domain MLB-VIDEO_GAMES\n",
      "36. Executing neighbours search for domain MLB-GAME_CONSOLE_CASES_AND_BAGS\n",
      "37. Executing neighbours search for domain MLB-GAME_CONSOLES_VIDEO_GAMES_AND_ARCADE_MACHINES\n",
      "38. Executing neighbours search for domain MLB-VIDEO_PLAYER_REMOTE_CONTROLS\n",
      "WARNING:tensorflow:5 out of the last 17 calls to <function recreate_function.<locals>.restored_function_body at 0x7fcf92537290> triggered tf.function retracing. Tracing is expensive and the excessive number of tracings could be due to (1) creating @tf.function repeatedly in a loop, (2) passing tensors with different shapes, (3) passing Python objects instead of tensors. For (1), please define your @tf.function outside of the loop. For (2), @tf.function has experimental_relax_shapes=True option that relaxes argument shapes that can avoid unnecessary retracing. For (3), please refer to https://www.tensorflow.org/guide/function#controlling_retracing and https://www.tensorflow.org/api_docs/python/tf/function for  more details.\n",
      "39. Executing neighbours search for domain MLB-AUDIO_AND_VIDEO_CABLES_AND_ADAPTERS\n",
      "40. Executing neighbours search for domain MLB-GAME_CONSOLE_POWER_SUPPLIES\n",
      "41. Executing neighbours search for domain MLB-GAMEPADS_AND_JOYSTICKS\n",
      "42. Executing neighbours search for domain MLB-COMPUTER_EQUIPMENT_AND_SPARE_PARTS\n",
      "43. Executing neighbours search for domain MLB-DRIVING_SIMULATORS\n",
      "44. Executing neighbours search for domain MLB-VIDEO_GAME_STEERING_WHEELS\n",
      "WARNING:tensorflow:5 out of the last 15 calls to <function recreate_function.<locals>.restored_function_body at 0x7fcf92537290> triggered tf.function retracing. Tracing is expensive and the excessive number of tracings could be due to (1) creating @tf.function repeatedly in a loop, (2) passing tensors with different shapes, (3) passing Python objects instead of tensors. For (1), please define your @tf.function outside of the loop. For (2), @tf.function has experimental_relax_shapes=True option that relaxes argument shapes that can avoid unnecessary retracing. For (3), please refer to https://www.tensorflow.org/guide/function#controlling_retracing and https://www.tensorflow.org/api_docs/python/tf/function for  more details.\n",
      "45. Executing neighbours search for domain MLB-GRAVY_BOATS\n",
      "WARNING:tensorflow:5 out of the last 11 calls to <function recreate_function.<locals>.restored_function_body at 0x7fcf92537290> triggered tf.function retracing. Tracing is expensive and the excessive number of tracings could be due to (1) creating @tf.function repeatedly in a loop, (2) passing tensors with different shapes, (3) passing Python objects instead of tensors. For (1), please define your @tf.function outside of the loop. For (2), @tf.function has experimental_relax_shapes=True option that relaxes argument shapes that can avoid unnecessary retracing. For (3), please refer to https://www.tensorflow.org/guide/function#controlling_retracing and https://www.tensorflow.org/api_docs/python/tf/function for  more details.\n",
      "46. Executing neighbours search for domain MLB-BREAD_CRUMBS\n",
      "WARNING:tensorflow:6 out of the last 12 calls to <function recreate_function.<locals>.restored_function_body at 0x7fcf92537290> triggered tf.function retracing. Tracing is expensive and the excessive number of tracings could be due to (1) creating @tf.function repeatedly in a loop, (2) passing tensors with different shapes, (3) passing Python objects instead of tensors. For (1), please define your @tf.function outside of the loop. For (2), @tf.function has experimental_relax_shapes=True option that relaxes argument shapes that can avoid unnecessary retracing. For (3), please refer to https://www.tensorflow.org/guide/function#controlling_retracing and https://www.tensorflow.org/api_docs/python/tf/function for  more details.\n",
      "47. Executing neighbours search for domain MLB-CHRISTMAS_DOLLS\n",
      "WARNING:tensorflow:7 out of the last 13 calls to <function recreate_function.<locals>.restored_function_body at 0x7fcf92537290> triggered tf.function retracing. Tracing is expensive and the excessive number of tracings could be due to (1) creating @tf.function repeatedly in a loop, (2) passing tensors with different shapes, (3) passing Python objects instead of tensors. For (1), please define your @tf.function outside of the loop. For (2), @tf.function has experimental_relax_shapes=True option that relaxes argument shapes that can avoid unnecessary retracing. For (3), please refer to https://www.tensorflow.org/guide/function#controlling_retracing and https://www.tensorflow.org/api_docs/python/tf/function for  more details.\n",
      "48. Executing neighbours search for domain MLB-CHRISTMAS_WREATHS\n",
      "WARNING:tensorflow:8 out of the last 14 calls to <function recreate_function.<locals>.restored_function_body at 0x7fcf92537290> triggered tf.function retracing. Tracing is expensive and the excessive number of tracings could be due to (1) creating @tf.function repeatedly in a loop, (2) passing tensors with different shapes, (3) passing Python objects instead of tensors. For (1), please define your @tf.function outside of the loop. For (2), @tf.function has experimental_relax_shapes=True option that relaxes argument shapes that can avoid unnecessary retracing. For (3), please refer to https://www.tensorflow.org/guide/function#controlling_retracing and https://www.tensorflow.org/api_docs/python/tf/function for  more details.\n",
      "49. Executing neighbours search for domain MLB-READY_TO_EAT_MEALS\n",
      "WARNING:tensorflow:9 out of the last 15 calls to <function recreate_function.<locals>.restored_function_body at 0x7fcf92537290> triggered tf.function retracing. Tracing is expensive and the excessive number of tracings could be due to (1) creating @tf.function repeatedly in a loop, (2) passing tensors with different shapes, (3) passing Python objects instead of tensors. For (1), please define your @tf.function outside of the loop. For (2), @tf.function has experimental_relax_shapes=True option that relaxes argument shapes that can avoid unnecessary retracing. For (3), please refer to https://www.tensorflow.org/guide/function#controlling_retracing and https://www.tensorflow.org/api_docs/python/tf/function for  more details.\n",
      "chunk 1 complete\n"
     ]
    }
   ],
   "source": [
    "columns_names = ['id','category','subcategory','title','CAT_DOMAIN_ID','SIT_SITE_ID','ITE_ITEM_ID','ITE_ITEM_TITLE']\n",
    "\n",
    "# Se hace el proceso iterativo por dominio (de los encontrados en los pasos anteriores)\n",
    "# Arreglar el range\n",
    "for segment in range(1,2):\n",
    "    matches_df = pd.DataFrame(columns=columns_names)\n",
    "\n",
    "    for cluster_number in range(segment*chunk_size_whole,(segment+1)*chunk_size_whole):\n",
    "        \n",
    "        # Lectura de títulos por dominio (Se trae el dominio completo)\n",
    "        print(f'{cluster_number}. Executing neighbours search for domain {domains_list[cluster_number]}')\n",
    "        query = \"\"\"\n",
    "            SELECT \n",
    "                SIT_SITE_ID,\n",
    "                ITE_ITEM_DOM_DOMAIN_ID,\n",
    "                ITE_ITEM_ID,\n",
    "                ITE_ITEM_TITLE,\n",
    "                \n",
    "                BRAND_NAME,\n",
    "\n",
    "            FROM\n",
    "              `meli-bi-data.ML_TBL.ITEMS_SEGMENTOS`\n",
    "\n",
    "            WHERE SIT_SITE_ID = 'MLB'\n",
    "            AND GRUPO IN ('validos', 'incompletos')\n",
    "            AND ITE_ITEM_DOM_DOMAIN_ID = '{dominios}'\n",
    "        \"\"\".format(dominios = domains_list[cluster_number])\n",
    "\n",
    "        meli_items_df = pd.DataFrame(bq_connec.execute_response(query))\n",
    "\n",
    "        # Pre procesamiento de títulos por cluster y cálculo de embeddings\n",
    "        if meli_items_df.shape[0] != 0:\n",
    "            meli_items_df['BRAND_NAME'] = meli_items_df['BRAND_NAME'].apply(lambda x: '' if x is None else x)\n",
    "            meli_items_df['BRAND_NAME'] = title_preprocesing(meli_items_df['BRAND_NAME'])\n",
    "            meli_items_df['ITE_ITEM_TITLE'] = title_preprocesing(meli_items_df['ITE_ITEM_TITLE'])\n",
    "\n",
    "            meli_items_df['ITE_ITEM_TITLE'] = meli_items_df.apply(lambda x: title_brand(x.ITE_ITEM_TITLE, x.BRAND_NAME), axis = 1)\n",
    "\n",
    "            meli_items_df = meli_items_df.reset_index(drop = True)\n",
    "            \n",
    "            chunk_size = 10000\n",
    "            chunks = int(np.ceil(meli_items_df.shape[0] / chunk_size))\n",
    "\n",
    "            emb_meli_array = np.zeros((1,512))\n",
    "\n",
    "            for i in range(chunks):\n",
    "                t0 = time.time()\n",
    "                emb_meli_array = np.append(\n",
    "                    emb_meli_array, \n",
    "                    model.transform(meli_items_df.ITE_ITEM_TITLE.iloc[i*chunk_size:(i+1)*chunk_size].tolist()),\n",
    "                    axis = 0\n",
    "                )\n",
    "                t1 = time.time()\n",
    "\n",
    "\n",
    "            emb_meli_array = np.delete(emb_meli_array, 0, 0)\n",
    "\n",
    "            # Cálculo del árbol annoy para vecinos cercanos en base a los embeddings de todo el dominio\n",
    "            n, p = emb_meli_array.shape\n",
    "            n_trees_from_data = int(np.sqrt(p))\n",
    "            n_trees_from_data\n",
    "\n",
    "            y = annoy.AnnoyIndex(p, \"euclidean\")\n",
    "            for idx, row in enumerate(emb_meli_array):\n",
    "                y.add_item(idx, row)\n",
    "\n",
    "            y.build(n_trees_from_data)\n",
    "\n",
    "            # Búsqueda de similaridad para cado uno de los items Nielsen\n",
    "            search_df = domain_model_df[domain_model_df.CAT_DOMAIN_ID == domains_list[cluster_number]]\n",
    "\n",
    "            for index, row in search_df.iterrows():\n",
    "\n",
    "                idx, dist = y.get_nns_by_vector(emb_array[row.id], n=25, include_distances=True)\n",
    "\n",
    "                neighbours_df = pd.DataFrame(columns=columns_names)\n",
    "\n",
    "                for i, element in enumerate(dist):\n",
    "                    if element < 0.6:            \n",
    "                        aux_df = pd.DataFrame(pd.concat(\n",
    "                            [\n",
    "                                row[['id','category','subcategory','title','CAT_DOMAIN_ID']],\n",
    "                                meli_items_df.iloc[idx[i]][['SIT_SITE_ID','ITE_ITEM_ID','ITE_ITEM_TITLE']]\n",
    "                            ]\n",
    "                        )\n",
    "                        ).T\n",
    "\n",
    "                        neighbours_df = pd.concat([aux_df[columns_names], neighbours_df], ignore_index=True)\n",
    "\n",
    "                matches_df = pd.concat([neighbours_df, matches_df], ignore_index=True)\n",
    "\n",
    "\n",
    "    # Se guardan los registros cada X dominios\n",
    "    table = 'meli-bi-data.ML_DEV.TMP_ASSORTMENT_MLB_NN_MATCHES'\n",
    "\n",
    "    schema = [bigquery.SchemaField(\"id\", bigquery.enums.SqlTypeNames.INT64),\n",
    "              bigquery.SchemaField(\"category\", bigquery.enums.SqlTypeNames.STRING),\n",
    "              bigquery.SchemaField(\"subcategory\", bigquery.enums.SqlTypeNames.STRING),\n",
    "              bigquery.SchemaField(\"title\", bigquery.enums.SqlTypeNames.STRING),\n",
    "              bigquery.SchemaField(\"CAT_DOMAIN_ID\", bigquery.enums.SqlTypeNames.STRING),\n",
    "              bigquery.SchemaField(\"SIT_SITE_ID\", bigquery.enums.SqlTypeNames.STRING),\n",
    "              bigquery.SchemaField(\"ITE_ITEM_ID\", bigquery.enums.SqlTypeNames.INT64),\n",
    "              bigquery.SchemaField(\"ITE_ITEM_TITLE\", bigquery.enums.SqlTypeNames.STRING),\n",
    "             ]\n",
    "\n",
    "    for df_chunk in np.array_split(matches_df, 10):\n",
    "        job_config = bigquery.LoadJobConfig(schema=schema)\n",
    "        job_config.write_disposition = bigquery.WriteDisposition.WRITE_APPEND\n",
    "        # Load data to BQ\n",
    "        job = bq_connec.client.load_table_from_dataframe(df_chunk, table, job_config=job_config)\n",
    "        job.result()\n",
    "        \n",
    "        \n",
    "    print(f'chunk {segment} complete')"
   ]
  },
  {
   "cell_type": "code",
   "execution_count": 35,
   "id": "9354bd7c",
   "metadata": {},
   "outputs": [
    {
     "data": {
      "text/html": [
       "<div>\n",
       "<style scoped>\n",
       "    .dataframe tbody tr th:only-of-type {\n",
       "        vertical-align: middle;\n",
       "    }\n",
       "\n",
       "    .dataframe tbody tr th {\n",
       "        vertical-align: top;\n",
       "    }\n",
       "\n",
       "    .dataframe thead th {\n",
       "        text-align: right;\n",
       "    }\n",
       "</style>\n",
       "<table border=\"1\" class=\"dataframe\">\n",
       "  <thead>\n",
       "    <tr style=\"text-align: right;\">\n",
       "      <th></th>\n",
       "      <th>id</th>\n",
       "      <th>category</th>\n",
       "      <th>subcategory</th>\n",
       "      <th>title</th>\n",
       "      <th>CAT_DOMAIN_ID</th>\n",
       "      <th>SIT_SITE_ID</th>\n",
       "      <th>ITE_ITEM_ID</th>\n",
       "      <th>ITE_ITEM_TITLE</th>\n",
       "    </tr>\n",
       "  </thead>\n",
       "  <tbody>\n",
       "    <tr>\n",
       "      <th>0</th>\n",
       "      <td>4333</td>\n",
       "      <td>joias e relogios</td>\n",
       "      <td>pulseira</td>\n",
       "      <td>corrente meia cana 5mm + pulseira   banhado a ...</td>\n",
       "      <td>MLB-RINGS</td>\n",
       "      <td>MLB</td>\n",
       "      <td>2184163141</td>\n",
       "      <td>pulseira 13mm grumet + anel letra banhado a ou...</td>\n",
       "    </tr>\n",
       "    <tr>\n",
       "      <th>1</th>\n",
       "      <td>4338</td>\n",
       "      <td>joias e relogios</td>\n",
       "      <td>pulseira</td>\n",
       "      <td>corrente cadeado 6mm + pulseira + pingente   b...</td>\n",
       "      <td>MLB-RINGS</td>\n",
       "      <td>MLB</td>\n",
       "      <td>1947105161</td>\n",
       "      <td>kit cordao pulseira pingente e anel 8mm cadead...</td>\n",
       "    </tr>\n",
       "    <tr>\n",
       "      <th>2</th>\n",
       "      <td>4338</td>\n",
       "      <td>joias e relogios</td>\n",
       "      <td>pulseira</td>\n",
       "      <td>corrente cadeado 6mm + pulseira + pingente   b...</td>\n",
       "      <td>MLB-RINGS</td>\n",
       "      <td>MLB</td>\n",
       "      <td>1419251958</td>\n",
       "      <td>kit cordao pulseira pingente e anel 8mm cadead...</td>\n",
       "    </tr>\n",
       "    <tr>\n",
       "      <th>3</th>\n",
       "      <td>4338</td>\n",
       "      <td>joias e relogios</td>\n",
       "      <td>pulseira</td>\n",
       "      <td>corrente cadeado 6mm + pulseira + pingente   b...</td>\n",
       "      <td>MLB-RINGS</td>\n",
       "      <td>MLB</td>\n",
       "      <td>2064929721</td>\n",
       "      <td>kit cordao pulseira pingente e anel 8mm cadead...</td>\n",
       "    </tr>\n",
       "    <tr>\n",
       "      <th>4</th>\n",
       "      <td>4338</td>\n",
       "      <td>joias e relogios</td>\n",
       "      <td>pulseira</td>\n",
       "      <td>corrente cadeado 6mm + pulseira + pingente   b...</td>\n",
       "      <td>MLB-RINGS</td>\n",
       "      <td>MLB</td>\n",
       "      <td>1886353199</td>\n",
       "      <td>kit cordao pulseira pingente e anel 8mm cadead...</td>\n",
       "    </tr>\n",
       "    <tr>\n",
       "      <th>5</th>\n",
       "      <td>4376</td>\n",
       "      <td>joias e relogios</td>\n",
       "      <td>brincos</td>\n",
       "      <td>brinco de ouro 18k argola zirconia rodinado 0 ...</td>\n",
       "      <td>MLB-RINGS</td>\n",
       "      <td>MLB</td>\n",
       "      <td>1883014677</td>\n",
       "      <td>anel solitario 5mm zirconia ouro 18k 20 2 06 g...</td>\n",
       "    </tr>\n",
       "    <tr>\n",
       "      <th>6</th>\n",
       "      <td>4376</td>\n",
       "      <td>joias e relogios</td>\n",
       "      <td>brincos</td>\n",
       "      <td>brinco de ouro 18k argola zirconia rodinado 0 ...</td>\n",
       "      <td>MLB-RINGS</td>\n",
       "      <td>MLB</td>\n",
       "      <td>2049204898</td>\n",
       "      <td>anel solitario coracao 8x8 mm em zirconia ouro...</td>\n",
       "    </tr>\n",
       "    <tr>\n",
       "      <th>7</th>\n",
       "      <td>4376</td>\n",
       "      <td>joias e relogios</td>\n",
       "      <td>brincos</td>\n",
       "      <td>brinco de ouro 18k argola zirconia rodinado 0 ...</td>\n",
       "      <td>MLB-RINGS</td>\n",
       "      <td>MLB</td>\n",
       "      <td>1186276040</td>\n",
       "      <td>anel solitario coracao 8x8 mm em zirconia ouro...</td>\n",
       "    </tr>\n",
       "    <tr>\n",
       "      <th>8</th>\n",
       "      <td>4376</td>\n",
       "      <td>joias e relogios</td>\n",
       "      <td>brincos</td>\n",
       "      <td>brinco de ouro 18k argola zirconia rodinado 0 ...</td>\n",
       "      <td>MLB-RINGS</td>\n",
       "      <td>MLB</td>\n",
       "      <td>957958717</td>\n",
       "      <td>anel 18k ouro branco goldfiled zirconia maior ...</td>\n",
       "    </tr>\n",
       "    <tr>\n",
       "      <th>9</th>\n",
       "      <td>4376</td>\n",
       "      <td>joias e relogios</td>\n",
       "      <td>brincos</td>\n",
       "      <td>brinco de ouro 18k argola zirconia rodinado 0 ...</td>\n",
       "      <td>MLB-RINGS</td>\n",
       "      <td>MLB</td>\n",
       "      <td>1110908752</td>\n",
       "      <td>anel solitario zirconia de 8mm banhado folhead...</td>\n",
       "    </tr>\n",
       "  </tbody>\n",
       "</table>\n",
       "</div>"
      ],
      "text/plain": [
       "     id          category subcategory  \\\n",
       "0  4333  joias e relogios    pulseira   \n",
       "1  4338  joias e relogios    pulseira   \n",
       "2  4338  joias e relogios    pulseira   \n",
       "3  4338  joias e relogios    pulseira   \n",
       "4  4338  joias e relogios    pulseira   \n",
       "5  4376  joias e relogios     brincos   \n",
       "6  4376  joias e relogios     brincos   \n",
       "7  4376  joias e relogios     brincos   \n",
       "8  4376  joias e relogios     brincos   \n",
       "9  4376  joias e relogios     brincos   \n",
       "\n",
       "                                               title CAT_DOMAIN_ID  \\\n",
       "0  corrente meia cana 5mm + pulseira   banhado a ...     MLB-RINGS   \n",
       "1  corrente cadeado 6mm + pulseira + pingente   b...     MLB-RINGS   \n",
       "2  corrente cadeado 6mm + pulseira + pingente   b...     MLB-RINGS   \n",
       "3  corrente cadeado 6mm + pulseira + pingente   b...     MLB-RINGS   \n",
       "4  corrente cadeado 6mm + pulseira + pingente   b...     MLB-RINGS   \n",
       "5  brinco de ouro 18k argola zirconia rodinado 0 ...     MLB-RINGS   \n",
       "6  brinco de ouro 18k argola zirconia rodinado 0 ...     MLB-RINGS   \n",
       "7  brinco de ouro 18k argola zirconia rodinado 0 ...     MLB-RINGS   \n",
       "8  brinco de ouro 18k argola zirconia rodinado 0 ...     MLB-RINGS   \n",
       "9  brinco de ouro 18k argola zirconia rodinado 0 ...     MLB-RINGS   \n",
       "\n",
       "  SIT_SITE_ID ITE_ITEM_ID                                     ITE_ITEM_TITLE  \n",
       "0         MLB  2184163141  pulseira 13mm grumet + anel letra banhado a ou...  \n",
       "1         MLB  1947105161  kit cordao pulseira pingente e anel 8mm cadead...  \n",
       "2         MLB  1419251958  kit cordao pulseira pingente e anel 8mm cadead...  \n",
       "3         MLB  2064929721  kit cordao pulseira pingente e anel 8mm cadead...  \n",
       "4         MLB  1886353199  kit cordao pulseira pingente e anel 8mm cadead...  \n",
       "5         MLB  1883014677  anel solitario 5mm zirconia ouro 18k 20 2 06 g...  \n",
       "6         MLB  2049204898  anel solitario coracao 8x8 mm em zirconia ouro...  \n",
       "7         MLB  1186276040  anel solitario coracao 8x8 mm em zirconia ouro...  \n",
       "8         MLB   957958717  anel 18k ouro branco goldfiled zirconia maior ...  \n",
       "9         MLB  1110908752  anel solitario zirconia de 8mm banhado folhead...  "
      ]
     },
     "execution_count": 35,
     "metadata": {},
     "output_type": "execute_result"
    }
   ],
   "source": [
    "matches_df.head(10)"
   ]
  },
  {
   "cell_type": "markdown",
   "id": "d8c93a71",
   "metadata": {},
   "source": [
    " "
   ]
  },
  {
   "cell_type": "markdown",
   "id": "d9b97cf8",
   "metadata": {},
   "source": [
    " "
   ]
  },
  {
   "cell_type": "markdown",
   "id": "4c208902",
   "metadata": {},
   "source": [
    " "
   ]
  },
  {
   "cell_type": "markdown",
   "id": "9bea08dc",
   "metadata": {},
   "source": [
    " "
   ]
  },
  {
   "cell_type": "markdown",
   "id": "841fa04e",
   "metadata": {},
   "source": [
    " "
   ]
  },
  {
   "cell_type": "markdown",
   "id": "07f67637",
   "metadata": {},
   "source": [
    " "
   ]
  },
  {
   "cell_type": "markdown",
   "id": "c38be41f",
   "metadata": {},
   "source": [
    " "
   ]
  },
  {
   "cell_type": "markdown",
   "id": "5e8a0b14",
   "metadata": {},
   "source": [
    " "
   ]
  },
  {
   "cell_type": "markdown",
   "id": "1ca3811b",
   "metadata": {},
   "source": [
    " "
   ]
  },
  {
   "cell_type": "markdown",
   "id": "c8f292e9",
   "metadata": {},
   "source": [
    " "
   ]
  },
  {
   "cell_type": "markdown",
   "id": "b282d164",
   "metadata": {},
   "source": [
    " "
   ]
  },
  {
   "cell_type": "markdown",
   "id": "a1276a6b",
   "metadata": {},
   "source": [
    " "
   ]
  },
  {
   "cell_type": "markdown",
   "id": "8e8f509e",
   "metadata": {},
   "source": [
    " "
   ]
  },
  {
   "cell_type": "markdown",
   "id": "3680b1d6",
   "metadata": {},
   "source": [
    " "
   ]
  },
  {
   "cell_type": "markdown",
   "id": "a8c3bd3c",
   "metadata": {},
   "source": [
    " "
   ]
  },
  {
   "cell_type": "markdown",
   "id": "98b46987",
   "metadata": {},
   "source": [
    " "
   ]
  },
  {
   "cell_type": "markdown",
   "id": "14b5502c",
   "metadata": {},
   "source": [
    " "
   ]
  },
  {
   "cell_type": "markdown",
   "id": "514d1d2d",
   "metadata": {},
   "source": [
    " "
   ]
  }
 ],
 "metadata": {
  "kernelspec": {
   "display_name": "Python 3 (ipykernel)",
   "language": "python",
   "name": "python3"
  },
  "language_info": {
   "codemirror_mode": {
    "name": "ipython",
    "version": 3
   },
   "file_extension": ".py",
   "mimetype": "text/x-python",
   "name": "python",
   "nbconvert_exporter": "python",
   "pygments_lexer": "ipython3",
   "version": "3.9.14"
  }
 },
 "nbformat": 4,
 "nbformat_minor": 5
}
